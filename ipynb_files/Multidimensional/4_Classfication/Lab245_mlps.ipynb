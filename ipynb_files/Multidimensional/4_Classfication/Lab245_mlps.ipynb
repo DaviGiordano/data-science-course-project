{
 "cells": [
  {
   "cell_type": "markdown",
   "id": "618934e7",
   "metadata": {},
   "source": [
    "<h1>Classification</h1>"
   ]
  },
  {
   "cell_type": "markdown",
   "id": "6427a942",
   "metadata": {},
   "source": [
    "<h2 align=\"center\">Multi Layer Perceptrons</h2><h3>Parameters study</h3>"
   ]
  },
  {
   "cell_type": "code",
   "execution_count": 1,
   "id": "29401508",
   "metadata": {},
   "outputs": [
    {
     "name": "stdout",
     "output_type": "stream",
     "text": [
      "Train#=266652 Test#=114280\n",
      "Labels=[0. 1.]\n",
      "8\n",
      "constant\n",
      "learning rate: 0.5\n",
      "Iteration: 0\n",
      "Iteration: 1\n",
      "Iteration: 2\n",
      "Iteration: 3\n",
      "Iteration: 4\n",
      "Iteration: 5\n",
      "Iteration: 6\n",
      "Iteration: 7\n",
      "MLP best for 250 iterations (lr_type=constant and lr=0.5\n"
     ]
    },
    {
     "data": {
      "text/plain": [
       "<Figure size 600x450 with 0 Axes>"
      ]
     },
     "metadata": {},
     "output_type": "display_data"
    },
    {
     "data": {
      "image/png": "[encoded data removed]",
      "text/plain": [
       "<Figure size 600x600 with 1 Axes>"
      ]
     },
     "metadata": {},
     "output_type": "display_data"
    }
   ],
   "source": [
    "from typing import Literal\n",
    "from numpy import array, ndarray\n",
    "from matplotlib.pyplot import subplots, figure, savefig, show\n",
    "from sklearn.neural_network import MLPClassifier\n",
    "from dslabs_functions import (\n",
    "    CLASS_EVAL_METRICS,\n",
    "    DELTA_IMPROVE,\n",
    "    read_train_test_from_files,\n",
    ")\n",
    "from dslabs_functions import HEIGHT, plot_evaluation_results, plot_multiline_chart, plot_and_save_multiline_chart\n",
    "\n",
    "\n",
    "def mlp_study(\n",
    "    trnX: ndarray,\n",
    "    trnY: array,\n",
    "    tstX: ndarray,\n",
    "    tstY: array,\n",
    "    nr_max_iterations: int = 2500,\n",
    "    lag: int = 500,\n",
    "    metric: str = \"accuracy\",\n",
    ") -> tuple[MLPClassifier | None, dict]:\n",
    "    nr_iterations: list[int] = [lag] + [\n",
    "        i for i in range(2 * lag, nr_max_iterations + 1, lag)\n",
    "    ]\n",
    "\n",
    "    print(len(nr_iterations))\n",
    "\n",
    "    lr_types: list[Literal[\"constant\", \"invscaling\", \"adaptive\"]] = [\n",
    "        \"constant\",\n",
    "        \"invscaling\",\n",
    "        \"adaptive\",\n",
    "    ]  # only used if optimizer='sgd'\n",
    "    lr_types = [\"constant\"]\n",
    "    learning_rates: list[float] = [0.5, 0.05, 0.005, 0.0005]\n",
    "    learning_rates = [0.5]\n",
    "\n",
    "    best_model: MLPClassifier | None = None\n",
    "    best_params: dict = {\"name\": \"MLP\", \"metric\": metric, \"params\": ()}\n",
    "    best_performance: float = 0.0\n",
    "\n",
    "    values: dict = {}\n",
    "    _, axs = subplots(\n",
    "        1, len(lr_types), figsize=(len(lr_types) * HEIGHT, HEIGHT), squeeze=False\n",
    "    )\n",
    "    for i in range(len(lr_types)):\n",
    "        type: str = lr_types[i]\n",
    "        print(type)\n",
    "        values = {}\n",
    "        for lr in learning_rates:\n",
    "            print(\"learning rate: \" + str(lr))\n",
    "            warm_start: bool = True\n",
    "            y_tst_values: list[float] = []\n",
    "            for j in range(len(nr_iterations)):\n",
    "                print(\"Iteration: \" + str(j))\n",
    "                clf = MLPClassifier(\n",
    "                    # hidden_layer_sizes=(64, 64, 64, 64)\n",
    "                    learning_rate=type,\n",
    "                    learning_rate_init=lr,\n",
    "                    max_iter=lag,\n",
    "                    warm_start=warm_start,\n",
    "                    activation=\"logistic\",\n",
    "                    solver=\"sgd\",\n",
    "                    verbose=False,\n",
    "                )\n",
    "                clf.fit(trnX, trnY)\n",
    "                prdY: array = clf.predict(tstX)\n",
    "                eval: float = CLASS_EVAL_METRICS[metric](tstY, prdY)\n",
    "                y_tst_values.append(eval)\n",
    "                warm_start = True\n",
    "                if eval - best_performance > DELTA_IMPROVE:\n",
    "                    best_performance = eval\n",
    "                    best_params[\"params\"] = (type, lr, nr_iterations[j])\n",
    "                    best_model = clf\n",
    "                # print(f'MLP lr_type={type} lr={lr} n={nr_iterations[j]}')\n",
    "            values[lr] = y_tst_values\n",
    "        plot_and_save_multiline_chart(\n",
    "            nr_iterations,\n",
    "            values,\n",
    "            ax=axs[0, i],\n",
    "            title=f\"MLP with {type}\",\n",
    "            xlabel=\"nr iterations\",\n",
    "            ylabel=metric,\n",
    "            percentage=True,\n",
    "            save_path=f\"mlp_{type}\"\n",
    "        )\n",
    "    print(\n",
    "        f'MLP best for {best_params[\"params\"][2]} iterations (lr_type={best_params[\"params\"][0]} and lr={best_params[\"params\"][1]}'\n",
    "    )\n",
    "\n",
    "    return best_model, best_params\n",
    "\n",
    "\n",
    "file_tag = \"covid\"\n",
    "train_filename = \"../../../data/class_covid_final_train.csv\"\n",
    "test_filename = \"../../../data/class_covid_final_test.csv\"\n",
    "target = \"CovidPos\"\n",
    "eval_metric = \"accuracy\"\n",
    "\n",
    "trnX, tstX, trnY, tstY, labels, vars = read_train_test_from_files(\n",
    "    train_filename, test_filename, target\n",
    ")\n",
    "print(f\"Train#={len(trnX)} Test#={len(tstX)}\")\n",
    "print(f\"Labels={labels}\")\n",
    "\n",
    "figure()\n",
    "best_model, params = mlp_study(\n",
    "    trnX,\n",
    "    trnY,\n",
    "    tstX,\n",
    "    tstY,\n",
    "    nr_max_iterations=2000,\n",
    "    lag=250,\n",
    "    metric=eval_metric,\n",
    ")\n",
    "savefig(f\"../../../images/{file_tag}_mlp_{eval_metric}_study.png\")\n",
    "show()"
   ]
  },
  {
   "cell_type": "markdown",
   "id": "0b1c6fb8",
   "metadata": {},
   "source": [
    "<h3>Best model performance</h3>"
   ]
  },
  {
   "cell_type": "code",
   "execution_count": null,
   "id": "7954fdbc",
   "metadata": {},
   "outputs": [],
   "source": [
    "prd_trn: array = best_model.predict(trnX)\n",
    "prd_tst: array = best_model.predict(tstX)\n",
    "figure()\n",
    "plot_evaluation_results(params, trnY, prd_trn, tstY, prd_tst, labels)\n",
    "savefig(f'images/{file_tag}_mlp_{params[\"name\"]}_best_{params[\"metric\"]}_eval.png')\n",
    "show()"
   ]
  },
  {
   "cell_type": "markdown",
   "id": "10b30a3f",
   "metadata": {},
   "source": [
    "<h3>Overfitting study</h3>"
   ]
  },
  {
   "cell_type": "code",
   "execution_count": null,
   "id": "3ecdaaa8",
   "metadata": {},
   "outputs": [],
   "source": [
    "lr_type: Literal[\"constant\", \"invscaling\", \"adaptive\"] = params[\"params\"][0]\n",
    "lr: float = params[\"params\"][1]\n",
    "nr_iterations: list[int] = [i for i in range(100, 1001, 100)]\n",
    "\n",
    "y_tst_values: list[float] = []\n",
    "y_trn_values: list[float] = []\n",
    "acc_metric = \"accuracy\"\n",
    "\n",
    "warm_start: bool = False\n",
    "for n in nr_iterations:\n",
    "    clf = MLPClassifier(\n",
    "        warm_start=warm_start,\n",
    "        learning_rate=lr_type,\n",
    "        learning_rate_init=lr,\n",
    "        max_iter=n,\n",
    "        activation=\"logistic\",\n",
    "        solver=\"sgd\",\n",
    "        verbose=False,\n",
    "    )\n",
    "    clf.fit(trnX, trnY)\n",
    "    prd_tst_Y: array = clf.predict(tstX)\n",
    "    prd_trn_Y: array = clf.predict(trnX)\n",
    "    y_tst_values.append(CLASS_EVAL_METRICS[acc_metric](tstY, prd_tst_Y))\n",
    "    y_trn_values.append(CLASS_EVAL_METRICS[acc_metric](trnY, prd_trn_Y))\n",
    "    warm_start = True\n",
    "\n",
    "figure()\n",
    "plot_multiline_chart(\n",
    "    nr_iterations,\n",
    "    {\"Train\": y_trn_values, \"Test\": y_tst_values},\n",
    "    title=f\"MLP overfitting study for lr_type={lr_type} and lr={lr}\",\n",
    "    xlabel=\"nr_iterations\",\n",
    "    ylabel=str(eval_metric),\n",
    "    percentage=True,\n",
    ")\n",
    "savefig(f\"images/{file_tag}_mlp_{eval_metric}_overfitting.png\")"
   ]
  }
 ],
 "metadata": {
  "kernelspec": {
   "display_name": "venv",
   "language": "python",
   "name": "python3"
  },
  "language_info": {
   "codemirror_mode": {
    "name": "ipython",
    "version": 3
   },
   "file_extension": ".py",
   "mimetype": "text/x-python",
   "name": "python",
   "nbconvert_exporter": "python",
   "pygments_lexer": "ipython3",
   "version": "3.12.0"
  }
 },
 "nbformat": 4,
 "nbformat_minor": 5
}
