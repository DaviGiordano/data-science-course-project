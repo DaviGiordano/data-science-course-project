{
 "cells": [
  {
   "cell_type": "code",
   "execution_count": 6,
   "metadata": {},
   "outputs": [],
   "source": [
    "import pandas as pd\n",
    "# Replace 'your_dataset.csv' with the path to your dataset\n",
    "train_filename = \"../../../data/class_covid_final_train.csv\"\n",
    "test_filename =  \"../../../data/class_covid_final_test.csv\"\n",
    "\n",
    "# Read the dataset\n",
    "\n",
    "train_df = pd.read_csv(\"../../../data/class_covid_final_train.csv\")\n",
    "test_df =  pd.read_csv(\"../../../data/class_covid_final_test.csv\")\n",
    "\n",
    "# Resample a fraction of the dataset, e.g., 50%\n",
    "# Replace 0.5 with the fraction you want\n",
    "resampled_train_df = train_df.sample(frac=0.01, random_state=42) \n",
    "resampled_test_df = test_df.sample(frac=0.01, random_state=42) \n",
    "\n",
    "# Write the resampled data to a new CSV file\n",
    "# Replace 'sampled_dataset.csv' with your desired output file name\n",
    "resampled_train_df.to_csv('resampled_class_covid_final_train.csv', index=False)\n",
    "resampled_test_df.to_csv('resampled_class_covid_final_test.csv', index=False)"
   ]
  },
  {
   "cell_type": "code",
   "execution_count": 7,
   "metadata": {},
   "outputs": [
    {
     "data": {
      "text/plain": [
       "(266652, 40)"
      ]
     },
     "execution_count": 7,
     "metadata": {},
     "output_type": "execute_result"
    }
   ],
   "source": [
    "train_df.shape"
   ]
  },
  {
   "cell_type": "code",
   "execution_count": 8,
   "metadata": {},
   "outputs": [
    {
     "data": {
      "text/plain": [
       "(2667, 40)"
      ]
     },
     "execution_count": 8,
     "metadata": {},
     "output_type": "execute_result"
    }
   ],
   "source": [
    "resampled_train_df.shape"
   ]
  },
  {
   "cell_type": "code",
   "execution_count": null,
   "metadata": {},
   "outputs": [],
   "source": []
  }
 ],
 "metadata": {
  "kernelspec": {
   "display_name": "data_science",
   "language": "python",
   "name": "python3"
  },
  "language_info": {
   "codemirror_mode": {
    "name": "ipython",
    "version": 3
   },
   "file_extension": ".py",
   "mimetype": "text/x-python",
   "name": "python",
   "nbconvert_exporter": "python",
   "pygments_lexer": "ipython3",
   "version": "3.12.0"
  }
 },
 "nbformat": 4,
 "nbformat_minor": 2
}
