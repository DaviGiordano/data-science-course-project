{
  "cells": [
    {
      "cell_type": "markdown",
      "id": "692a8808",
      "metadata": {
        "id": "692a8808"
      },
      "source": [
        "<h1>Classification</h1>"
      ]
    },
    {
      "cell_type": "code",
      "execution_count": 1,
      "id": "ejeBQgQACfO7",
      "metadata": {
        "colab": {
          "base_uri": "https://localhost:8080/"
        },
        "id": "ejeBQgQACfO7",
        "outputId": "66355f9c-12fb-488f-efe7-abf4a69b56f6"
      },
      "outputs": [
        {
          "name": "stdout",
          "output_type": "stream",
          "text": [
            "Mounted at /content/drive\n"
          ]
        }
      ],
      "source": [
        "# from google.colab import drive\n",
        "# drive.mount('/content/drive')"
      ]
    },
    {
      "cell_type": "markdown",
      "id": "06b24094",
      "metadata": {
        "id": "06b24094"
      },
      "source": [
        "<h2 align=\"center\">Random Forests</h2><h3>Parameters study</h3>"
      ]
    },
    {
      "cell_type": "code",
      "execution_count": 1,
      "id": "8239a008",
      "metadata": {
        "colab": {
          "base_uri": "https://localhost:8080/"
        },
        "id": "8239a008",
        "outputId": "c24da3ab-9f88-4c96-ec3f-b412da61c822"
      },
      "outputs": [
        {
          "name": "stdout",
          "output_type": "stream",
          "text": [
            "Train#=266652 Test#=114280\n",
            "Labels=[0. 1.]\n"
          ]
        }
      ],
      "source": [
        "from numpy import array, ndarray\n",
        "from matplotlib.pyplot import subplots, figure, savefig, show\n",
        "from sklearn.ensemble import RandomForestClassifier\n",
        "from sklearn.model_selection import GridSearchCV\n",
        "from dslabs_functions import (\n",
        "    CLASS_EVAL_METRICS,\n",
        "    DELTA_IMPROVE,\n",
        "    read_train_test_from_files,\n",
        ")\n",
        "from dslabs_functions import HEIGHT, plot_evaluation_results, plot_multiline_chart\n",
        "\n",
        "\n",
        "file_tag = \"stroke\"\n",
        "train_filename = \"./../../../data/class_covid_final_train.csv\"\n",
        "test_filename = \"./../../../data/class_covid_final_test.csv\"\n",
        "target = \"CovidPos\"\n",
        "eval_metric = \"accuracy\"\n",
        "\n",
        "trnX, tstX, trnY, tstY, labels, vars = read_train_test_from_files(\n",
        "    train_filename, test_filename, target\n",
        ")\n",
        "#trnX = trnX[:100]\n",
        "#tstX = tstX[:100]\n",
        "#trnY = trnY[:100]\n",
        "#tstY = tstY[:100]\n",
        "print(f\"Train#={len(trnX)} Test#={len(tstX)}\")\n",
        "print(f\"Labels={labels}\")"
      ]
    },
    {
      "cell_type": "code",
      "execution_count": 2,
      "id": "WFnYy400aTHu",
      "metadata": {
        "colab": {
          "base_uri": "https://localhost:8080/"
        },
        "id": "WFnYy400aTHu",
        "outputId": "acb9b33a-8c16-4506-bc8a-c431e7924eda"
      },
      "outputs": [
        {
          "name": "stdout",
          "output_type": "stream",
          "text": [
            "Fold 0\n",
            "  Train: len(train_index)=266652\n",
            "  Test: len(test_index)=114280\n"
          ]
        }
      ],
      "source": [
        "import numpy as np\n",
        "from sklearn.model_selection import PredefinedSplit\n",
        "\n",
        "fullX = np.concatenate([trnX, tstX])\n",
        "fullY = np.concatenate([trnY, tstY])\n",
        "test_fold = [-1] * len(trnX) + [0] * len(tstX)\n",
        "cv = PredefinedSplit(test_fold)\n",
        "for i, (train_index, test_index) in enumerate(cv.split()):\n",
        "    print(f\"Fold {i}\")\n",
        "    print(f\"  Train: {len(train_index)=}\")\n",
        "    print(f\"  Test: {len(test_index)=}\")"
      ]
    },
    {
      "cell_type": "code",
      "execution_count": 6,
      "id": "_4rhh4z9bX8q",
      "metadata": {
        "colab": {
          "base_uri": "https://localhost:8080/"
        },
        "id": "_4rhh4z9bX8q",
        "outputId": "27585b5b-6a06-4b2d-eb59-a0f73c441a69"
      },
      "outputs": [
        {
          "name": "stdout",
          "output_type": "stream",
          "text": [
            "{'n_estimators': [1, 501, 1001, 1501, 2001], 'max_depth': [2, 5, 7], 'max_features': [0.1, 0.3, 0.5, 0.7, 0.9]}\n",
            "Fitting 1 folds for each of 75 candidates, totalling 75 fits\n",
            "[CV 1/1; 1/75] START max_depth=2, max_features=0.1, n_estimators=1..............\n",
            "[CV 1/1; 2/75] START max_depth=2, max_features=0.1, n_estimators=501............\n"
          ]
        },
        {
          "name": "stderr",
          "output_type": "stream",
          "text": [
            "[Parallel(n_jobs=2)]: Using backend ThreadingBackend with 2 concurrent workers.\n",
            "[Parallel(n_jobs=2)]: Using backend ThreadingBackend with 2 concurrent workers.\n"
          ]
        },
        {
          "name": "stdout",
          "output_type": "stream",
          "text": [
            "[CV 1/1; 1/75] END max_depth=2, max_features=0.1, n_estimators=1;, score=(train=0.709, test=0.709) total time=   0.2s\n",
            "[CV 1/1; 3/75] START max_depth=2, max_features=0.1, n_estimators=1001...........\n"
          ]
        },
        {
          "name": "stderr",
          "output_type": "stream",
          "text": [
            "[Parallel(n_jobs=2)]: Using backend ThreadingBackend with 2 concurrent workers.\n",
            "[Parallel(n_jobs=2)]: Done  46 tasks      | elapsed:    2.5s\n",
            "[Parallel(n_jobs=2)]: Done  46 tasks      | elapsed:    2.5s\n",
            "[Parallel(n_jobs=2)]: Done 196 tasks      | elapsed:   11.3s\n",
            "[Parallel(n_jobs=2)]: Done 196 tasks      | elapsed:   11.7s\n",
            "[Parallel(n_jobs=2)]: Done 446 tasks      | elapsed:   25.5s\n",
            "[Parallel(n_jobs=2)]: Done 446 tasks      | elapsed:   26.1s\n",
            "[Parallel(n_jobs=2)]: Done 501 out of 501 | elapsed:   28.8s finished\n",
            "[Parallel(n_jobs=2)]: Using backend ThreadingBackend with 2 concurrent workers.\n",
            "[Parallel(n_jobs=2)]: Done  46 tasks      | elapsed:    0.2s\n",
            "[Parallel(n_jobs=2)]: Done 196 tasks      | elapsed:    0.9s\n",
            "[Parallel(n_jobs=2)]: Done 446 tasks      | elapsed:    1.9s\n",
            "[Parallel(n_jobs=2)]: Done 501 out of 501 | elapsed:    2.2s finished\n",
            "[Parallel(n_jobs=2)]: Using backend ThreadingBackend with 2 concurrent workers.\n",
            "[Parallel(n_jobs=2)]: Done  46 tasks      | elapsed:    0.5s\n",
            "[Parallel(n_jobs=2)]: Done 196 tasks      | elapsed:    1.8s\n",
            "[Parallel(n_jobs=2)]: Done 446 tasks      | elapsed:    4.0s\n",
            "[Parallel(n_jobs=2)]: Done 501 out of 501 | elapsed:    4.5s finished\n"
          ]
        },
        {
          "name": "stdout",
          "output_type": "stream",
          "text": [
            "[CV 1/1; 2/75] END max_depth=2, max_features=0.1, n_estimators=501;, score=(train=0.709, test=0.709) total time=  31.2s\n",
            "[CV 1/1; 4/75] START max_depth=2, max_features=0.1, n_estimators=1501...........\n"
          ]
        },
        {
          "name": "stderr",
          "output_type": "stream",
          "text": [
            "[Parallel(n_jobs=2)]: Using backend ThreadingBackend with 2 concurrent workers.\n",
            "[Parallel(n_jobs=2)]: Done  46 tasks      | elapsed:    2.6s\n",
            "[Parallel(n_jobs=2)]: Done 796 tasks      | elapsed:   46.6s\n",
            "[Parallel(n_jobs=2)]: Done 196 tasks      | elapsed:   12.7s\n",
            "[Parallel(n_jobs=2)]: Done 1001 out of 1001 | elapsed:   58.9s finished\n",
            "[Parallel(n_jobs=2)]: Using backend ThreadingBackend with 2 concurrent workers.\n",
            "[Parallel(n_jobs=2)]: Done  46 tasks      | elapsed:    0.2s\n",
            "[Parallel(n_jobs=2)]: Done 196 tasks      | elapsed:    0.8s\n",
            "[Parallel(n_jobs=2)]: Done 446 tasks      | elapsed:    1.8s\n",
            "[Parallel(n_jobs=2)]: Done 796 tasks      | elapsed:    3.2s\n",
            "[Parallel(n_jobs=2)]: Done 446 tasks      | elapsed:   26.5s\n",
            "[Parallel(n_jobs=2)]: Done 1001 out of 1001 | elapsed:    4.1s finished\n",
            "[Parallel(n_jobs=2)]: Using backend ThreadingBackend with 2 concurrent workers.\n",
            "[Parallel(n_jobs=2)]: Done  46 tasks      | elapsed:    0.4s\n",
            "[Parallel(n_jobs=2)]: Done 196 tasks      | elapsed:    1.8s\n",
            "[Parallel(n_jobs=2)]: Done 446 tasks      | elapsed:    4.1s\n",
            "[Parallel(n_jobs=2)]: Done 796 tasks      | elapsed:    7.3s\n",
            "[Parallel(n_jobs=2)]: Done 1001 out of 1001 | elapsed:    9.2s finished\n"
          ]
        },
        {
          "name": "stdout",
          "output_type": "stream",
          "text": [
            "[CV 1/1; 3/75] END max_depth=2, max_features=0.1, n_estimators=1001;, score=(train=0.709, test=0.709) total time= 1.1min\n",
            "[CV 1/1; 5/75] START max_depth=2, max_features=0.1, n_estimators=2001...........\n"
          ]
        },
        {
          "name": "stderr",
          "output_type": "stream",
          "text": [
            "[Parallel(n_jobs=2)]: Using backend ThreadingBackend with 2 concurrent workers.\n",
            "[Parallel(n_jobs=2)]: Done  46 tasks      | elapsed:    2.7s\n",
            "[Parallel(n_jobs=2)]: Done 796 tasks      | elapsed:   45.4s\n",
            "[Parallel(n_jobs=2)]: Done 196 tasks      | elapsed:   11.0s\n",
            "[Parallel(n_jobs=2)]: Done 446 tasks      | elapsed:   25.1s\n",
            "[Parallel(n_jobs=2)]: Done 1246 tasks      | elapsed:  1.2min\n",
            "[Parallel(n_jobs=2)]: Done 796 tasks      | elapsed:   44.3s\n",
            "[Parallel(n_jobs=2)]: Done 1501 out of 1501 | elapsed:  1.4min finished\n",
            "[Parallel(n_jobs=2)]: Using backend ThreadingBackend with 2 concurrent workers.\n",
            "[Parallel(n_jobs=2)]: Done  46 tasks      | elapsed:    0.2s\n",
            "[Parallel(n_jobs=2)]: Done 196 tasks      | elapsed:    0.8s\n",
            "[Parallel(n_jobs=2)]: Done 446 tasks      | elapsed:    1.9s\n",
            "[Parallel(n_jobs=2)]: Done 796 tasks      | elapsed:    3.4s\n",
            "[Parallel(n_jobs=2)]: Done 1246 tasks      | elapsed:    5.3s\n",
            "[Parallel(n_jobs=2)]: Done 1501 out of 1501 | elapsed:    6.4s finished\n",
            "[Parallel(n_jobs=2)]: Using backend ThreadingBackend with 2 concurrent workers.\n",
            "[Parallel(n_jobs=2)]: Done  46 tasks      | elapsed:    0.5s\n",
            "[Parallel(n_jobs=2)]: Done 196 tasks      | elapsed:    2.0s\n",
            "[Parallel(n_jobs=2)]: Done 446 tasks      | elapsed:    4.4s\n",
            "[Parallel(n_jobs=2)]: Done 796 tasks      | elapsed:    7.8s\n",
            "[Parallel(n_jobs=2)]: Done 1246 tasks      | elapsed:   11.9s\n",
            "[Parallel(n_jobs=2)]: Done 1246 tasks      | elapsed:  1.1min\n",
            "[Parallel(n_jobs=2)]: Done 1501 out of 1501 | elapsed:   14.3s finished\n",
            "[Parallel(n_jobs=2)]: Using backend ThreadingBackend with 2 concurrent workers.\n"
          ]
        },
        {
          "name": "stdout",
          "output_type": "stream",
          "text": [
            "[CV 1/1; 4/75] END max_depth=2, max_features=0.1, n_estimators=1501;, score=(train=0.709, test=0.709) total time= 1.5min\n",
            "[CV 1/1; 6/75] START max_depth=2, max_features=0.3, n_estimators=1..............\n",
            "[CV 1/1; 6/75] END max_depth=2, max_features=0.3, n_estimators=1;, score=(train=0.709, test=0.709) total time=   0.4s\n",
            "[CV 1/1; 7/75] START max_depth=2, max_features=0.3, n_estimators=501............\n"
          ]
        },
        {
          "name": "stderr",
          "output_type": "stream",
          "text": [
            "[Parallel(n_jobs=2)]: Using backend ThreadingBackend with 2 concurrent workers.\n",
            "[Parallel(n_jobs=2)]: Done  46 tasks      | elapsed:    5.1s\n",
            "[Parallel(n_jobs=2)]: Done 196 tasks      | elapsed:   21.4s\n",
            "[Parallel(n_jobs=2)]: Done 1796 tasks      | elapsed:  1.7min\n",
            "[Parallel(n_jobs=2)]: Done 2001 out of 2001 | elapsed:  1.9min finished\n",
            "[Parallel(n_jobs=2)]: Using backend ThreadingBackend with 2 concurrent workers.\n",
            "[Parallel(n_jobs=2)]: Done  46 tasks      | elapsed:    0.2s\n",
            "[Parallel(n_jobs=2)]: Done 196 tasks      | elapsed:    0.8s\n",
            "[Parallel(n_jobs=2)]: Done 446 tasks      | elapsed:    1.9s\n",
            "[Parallel(n_jobs=2)]: Done 796 tasks      | elapsed:    3.3s\n",
            "[Parallel(n_jobs=2)]: Done 1246 tasks      | elapsed:    5.3s\n",
            "[Parallel(n_jobs=2)]: Done 446 tasks      | elapsed:   48.8s\n",
            "[Parallel(n_jobs=2)]: Done 1796 tasks      | elapsed:    7.5s\n",
            "[Parallel(n_jobs=2)]: Done 2001 out of 2001 | elapsed:    8.3s finished\n",
            "[Parallel(n_jobs=2)]: Using backend ThreadingBackend with 2 concurrent workers.\n",
            "[Parallel(n_jobs=2)]: Done  46 tasks      | elapsed:    0.4s\n",
            "[Parallel(n_jobs=2)]: Done 196 tasks      | elapsed:    1.9s\n",
            "[Parallel(n_jobs=2)]: Done 446 tasks      | elapsed:    4.2s\n",
            "[Parallel(n_jobs=2)]: Done 501 out of 501 | elapsed:   54.4s finished\n",
            "[Parallel(n_jobs=2)]: Using backend ThreadingBackend with 2 concurrent workers.\n",
            "[Parallel(n_jobs=2)]: Done  46 tasks      | elapsed:    0.2s\n",
            "[Parallel(n_jobs=2)]: Done 196 tasks      | elapsed:    0.7s\n",
            "[Parallel(n_jobs=2)]: Done 446 tasks      | elapsed:    1.7s\n",
            "[Parallel(n_jobs=2)]: Done 501 out of 501 | elapsed:    1.9s finished\n",
            "[Parallel(n_jobs=2)]: Using backend ThreadingBackend with 2 concurrent workers.\n",
            "[Parallel(n_jobs=2)]: Done  46 tasks      | elapsed:    0.4s\n",
            "[Parallel(n_jobs=2)]: Done 796 tasks      | elapsed:    7.0s\n",
            "[Parallel(n_jobs=2)]: Done 196 tasks      | elapsed:    1.8s\n",
            "[Parallel(n_jobs=2)]: Done 446 tasks      | elapsed:    3.9s\n",
            "[Parallel(n_jobs=2)]: Done 501 out of 501 | elapsed:    4.4s finished\n",
            "[Parallel(n_jobs=2)]: Done 1246 tasks      | elapsed:   10.7s\n"
          ]
        },
        {
          "name": "stdout",
          "output_type": "stream",
          "text": [
            "[CV 1/1; 7/75] END max_depth=2, max_features=0.3, n_estimators=501;, score=(train=0.709, test=0.709) total time=  56.7s\n",
            "[CV 1/1; 8/75] START max_depth=2, max_features=0.3, n_estimators=1001...........\n"
          ]
        },
        {
          "name": "stderr",
          "output_type": "stream",
          "text": [
            "[Parallel(n_jobs=2)]: Using backend ThreadingBackend with 2 concurrent workers.\n",
            "[Parallel(n_jobs=2)]: Done  46 tasks      | elapsed:    3.8s\n",
            "[Parallel(n_jobs=2)]: Done 1796 tasks      | elapsed:   15.2s\n",
            "[Parallel(n_jobs=2)]: Done 2001 out of 2001 | elapsed:   16.9s finished\n"
          ]
        },
        {
          "name": "stdout",
          "output_type": "stream",
          "text": [
            "[CV 1/1; 5/75] END max_depth=2, max_features=0.1, n_estimators=2001;, score=(train=0.709, test=0.709) total time= 2.0min\n",
            "[CV 1/1; 9/75] START max_depth=2, max_features=0.3, n_estimators=1501...........\n"
          ]
        },
        {
          "name": "stderr",
          "output_type": "stream",
          "text": [
            "[Parallel(n_jobs=2)]: Using backend ThreadingBackend with 2 concurrent workers.\n",
            "[Parallel(n_jobs=2)]: Done  46 tasks      | elapsed:    4.5s\n",
            "[Parallel(n_jobs=2)]: Done 196 tasks      | elapsed:   17.3s\n",
            "[Parallel(n_jobs=2)]: Done 196 tasks      | elapsed:   18.4s\n",
            "[Parallel(n_jobs=2)]: Done 446 tasks      | elapsed:   40.4s\n",
            "[Parallel(n_jobs=2)]: Done 446 tasks      | elapsed:   41.5s\n",
            "[Parallel(n_jobs=2)]: Done 796 tasks      | elapsed:  1.2min\n",
            "[Parallel(n_jobs=2)]: Done 796 tasks      | elapsed:  1.3min\n",
            "[Parallel(n_jobs=2)]: Done 1001 out of 1001 | elapsed:  1.6min finished\n",
            "[Parallel(n_jobs=2)]: Using backend ThreadingBackend with 2 concurrent workers.\n",
            "[Parallel(n_jobs=2)]: Done  46 tasks      | elapsed:    0.2s\n",
            "[Parallel(n_jobs=2)]: Done 196 tasks      | elapsed:    0.8s\n",
            "[Parallel(n_jobs=2)]: Done 446 tasks      | elapsed:    1.7s\n",
            "[Parallel(n_jobs=2)]: Done 796 tasks      | elapsed:    3.0s\n",
            "[Parallel(n_jobs=2)]: Done 1001 out of 1001 | elapsed:    3.8s finished\n",
            "[Parallel(n_jobs=2)]: Using backend ThreadingBackend with 2 concurrent workers.\n",
            "[Parallel(n_jobs=2)]: Done  46 tasks      | elapsed:    0.4s\n",
            "[Parallel(n_jobs=2)]: Done 196 tasks      | elapsed:    1.7s\n",
            "[Parallel(n_jobs=2)]: Done 446 tasks      | elapsed:    3.9s\n",
            "[Parallel(n_jobs=2)]: Done 796 tasks      | elapsed:    7.1s\n",
            "[Parallel(n_jobs=2)]: Done 1001 out of 1001 | elapsed:    8.8s finished\n"
          ]
        },
        {
          "name": "stdout",
          "output_type": "stream",
          "text": [
            "[CV 1/1; 8/75] END max_depth=2, max_features=0.3, n_estimators=1001;, score=(train=0.709, test=0.709) total time= 1.7min\n",
            "[CV 1/1; 10/75] START max_depth=2, max_features=0.3, n_estimators=2001..........\n"
          ]
        },
        {
          "name": "stderr",
          "output_type": "stream",
          "text": [
            "[Parallel(n_jobs=2)]: Using backend ThreadingBackend with 2 concurrent workers.\n",
            "[Parallel(n_jobs=2)]: Done  46 tasks      | elapsed:    4.7s\n",
            "[Parallel(n_jobs=2)]: Done 1246 tasks      | elapsed:  2.0min\n",
            "[Parallel(n_jobs=2)]: Done 196 tasks      | elapsed:   19.7s\n",
            "[Parallel(n_jobs=2)]: Done 1501 out of 1501 | elapsed:  2.3min finished\n",
            "[Parallel(n_jobs=2)]: Using backend ThreadingBackend with 2 concurrent workers.\n",
            "[Parallel(n_jobs=2)]: Done  46 tasks      | elapsed:    0.2s\n",
            "[Parallel(n_jobs=2)]: Done 196 tasks      | elapsed:    0.7s\n",
            "[Parallel(n_jobs=2)]: Done 446 tasks      | elapsed:    1.6s\n",
            "[Parallel(n_jobs=2)]: Done 446 tasks      | elapsed:   41.5s\n",
            "[Parallel(n_jobs=2)]: Done 796 tasks      | elapsed:    2.9s\n",
            "[Parallel(n_jobs=2)]: Done 1246 tasks      | elapsed:    4.6s\n",
            "[Parallel(n_jobs=2)]: Done 1501 out of 1501 | elapsed:    5.6s finished\n",
            "[Parallel(n_jobs=2)]: Using backend ThreadingBackend with 2 concurrent workers.\n",
            "[Parallel(n_jobs=2)]: Done  46 tasks      | elapsed:    0.4s\n",
            "[Parallel(n_jobs=2)]: Done 196 tasks      | elapsed:    1.7s\n",
            "[Parallel(n_jobs=2)]: Done 446 tasks      | elapsed:    3.8s\n",
            "[Parallel(n_jobs=2)]: Done 796 tasks      | elapsed:    6.8s\n",
            "[Parallel(n_jobs=2)]: Done 1246 tasks      | elapsed:   10.7s\n",
            "[Parallel(n_jobs=2)]: Done 1501 out of 1501 | elapsed:   12.8s finished\n",
            "[Parallel(n_jobs=2)]: Using backend ThreadingBackend with 2 concurrent workers.\n"
          ]
        },
        {
          "name": "stdout",
          "output_type": "stream",
          "text": [
            "[CV 1/1; 9/75] END max_depth=2, max_features=0.3, n_estimators=1501;, score=(train=0.709, test=0.709) total time= 2.5min\n",
            "[CV 1/1; 11/75] START max_depth=2, max_features=0.5, n_estimators=1.............\n",
            "[CV 1/1; 11/75] END max_depth=2, max_features=0.5, n_estimators=1;, score=(train=0.709, test=0.709) total time=   0.4s\n",
            "[CV 1/1; 12/75] START max_depth=2, max_features=0.5, n_estimators=501...........\n"
          ]
        },
        {
          "name": "stderr",
          "output_type": "stream",
          "text": [
            "[Parallel(n_jobs=2)]: Using backend ThreadingBackend with 2 concurrent workers.\n",
            "[Parallel(n_jobs=2)]: Done  46 tasks      | elapsed:    5.9s\n",
            "[Parallel(n_jobs=2)]: Done 796 tasks      | elapsed:  1.2min\n",
            "[Parallel(n_jobs=2)]: Done 196 tasks      | elapsed:   24.6s\n",
            "[Parallel(n_jobs=2)]: Done 1246 tasks      | elapsed:  1.8min\n",
            "[Parallel(n_jobs=2)]: Done 446 tasks      | elapsed:   55.7s\n",
            "[Parallel(n_jobs=2)]: Done 501 out of 501 | elapsed:  1.0min finished\n",
            "[Parallel(n_jobs=2)]: Using backend ThreadingBackend with 2 concurrent workers.\n",
            "[Parallel(n_jobs=2)]: Done  46 tasks      | elapsed:    0.2s\n",
            "[Parallel(n_jobs=2)]: Done 196 tasks      | elapsed:    0.7s\n",
            "[Parallel(n_jobs=2)]: Done 446 tasks      | elapsed:    1.6s\n",
            "[Parallel(n_jobs=2)]: Done 501 out of 501 | elapsed:    1.8s finished\n",
            "[Parallel(n_jobs=2)]: Using backend ThreadingBackend with 2 concurrent workers.\n",
            "[Parallel(n_jobs=2)]: Done  46 tasks      | elapsed:    0.4s\n",
            "[Parallel(n_jobs=2)]: Done 196 tasks      | elapsed:    1.7s\n",
            "[Parallel(n_jobs=2)]: Done 446 tasks      | elapsed:    3.8s\n",
            "[Parallel(n_jobs=2)]: Done 501 out of 501 | elapsed:    4.3s finished\n"
          ]
        },
        {
          "name": "stdout",
          "output_type": "stream",
          "text": [
            "[CV 1/1; 12/75] END max_depth=2, max_features=0.5, n_estimators=501;, score=(train=0.709, test=0.709) total time= 1.1min\n",
            "[CV 1/1; 13/75] START max_depth=2, max_features=0.5, n_estimators=1001..........\n"
          ]
        },
        {
          "name": "stderr",
          "output_type": "stream",
          "text": [
            "[Parallel(n_jobs=2)]: Using backend ThreadingBackend with 2 concurrent workers.\n",
            "[Parallel(n_jobs=2)]: Done  46 tasks      | elapsed:    5.8s\n",
            "[Parallel(n_jobs=2)]: Done 196 tasks      | elapsed:   24.4s\n",
            "[Parallel(n_jobs=2)]: Done 1796 tasks      | elapsed:  2.6min\n",
            "[Parallel(n_jobs=2)]: Done 2001 out of 2001 | elapsed:  2.9min finished\n",
            "[Parallel(n_jobs=2)]: Using backend ThreadingBackend with 2 concurrent workers.\n",
            "[Parallel(n_jobs=2)]: Done  46 tasks      | elapsed:    0.2s\n",
            "[Parallel(n_jobs=2)]: Done 196 tasks      | elapsed:    0.7s\n",
            "[Parallel(n_jobs=2)]: Done 446 tasks      | elapsed:    1.6s\n",
            "[Parallel(n_jobs=2)]: Done 796 tasks      | elapsed:    2.9s\n",
            "[Parallel(n_jobs=2)]: Done 1246 tasks      | elapsed:    4.5s\n",
            "[Parallel(n_jobs=2)]: Done 1796 tasks      | elapsed:    6.6s\n",
            "[Parallel(n_jobs=2)]: Done 2001 out of 2001 | elapsed:    7.4s finished\n",
            "[Parallel(n_jobs=2)]: Using backend ThreadingBackend with 2 concurrent workers.\n",
            "[Parallel(n_jobs=2)]: Done  46 tasks      | elapsed:    0.4s\n",
            "[Parallel(n_jobs=2)]: Done 446 tasks      | elapsed:   55.2s\n",
            "[Parallel(n_jobs=2)]: Done 196 tasks      | elapsed:    1.7s\n",
            "[Parallel(n_jobs=2)]: Done 446 tasks      | elapsed:    3.8s\n",
            "[Parallel(n_jobs=2)]: Done 796 tasks      | elapsed:    7.0s\n",
            "[Parallel(n_jobs=2)]: Done 1246 tasks      | elapsed:   11.3s\n",
            "[Parallel(n_jobs=2)]: Done 1796 tasks      | elapsed:   16.6s\n",
            "[Parallel(n_jobs=2)]: Done 2001 out of 2001 | elapsed:   18.3s finished\n"
          ]
        },
        {
          "name": "stdout",
          "output_type": "stream",
          "text": [
            "[CV 1/1; 10/75] END max_depth=2, max_features=0.3, n_estimators=2001;, score=(train=0.709, test=0.709) total time= 3.0min\n",
            "[CV 1/1; 14/75] START max_depth=2, max_features=0.5, n_estimators=1501..........\n"
          ]
        },
        {
          "name": "stderr",
          "output_type": "stream",
          "text": [
            "[Parallel(n_jobs=2)]: Using backend ThreadingBackend with 2 concurrent workers.\n",
            "[Parallel(n_jobs=2)]: Done  46 tasks      | elapsed:    6.2s\n",
            "[Parallel(n_jobs=2)]: Done 196 tasks      | elapsed:   28.7s\n",
            "[Parallel(n_jobs=2)]: Done 796 tasks      | elapsed:  1.7min\n",
            "[Parallel(n_jobs=2)]: Done 1001 out of 1001 | elapsed:  2.2min finished\n",
            "[Parallel(n_jobs=2)]: Using backend ThreadingBackend with 2 concurrent workers.\n",
            "[Parallel(n_jobs=2)]: Done  46 tasks      | elapsed:    0.2s\n",
            "[Parallel(n_jobs=2)]: Done 196 tasks      | elapsed:    0.8s\n",
            "[Parallel(n_jobs=2)]: Done 446 tasks      | elapsed:    1.8s\n",
            "[Parallel(n_jobs=2)]: Done 796 tasks      | elapsed:    3.2s\n",
            "[Parallel(n_jobs=2)]: Done 1001 out of 1001 | elapsed:    4.1s finished\n",
            "[Parallel(n_jobs=2)]: Using backend ThreadingBackend with 2 concurrent workers.\n",
            "[Parallel(n_jobs=2)]: Done 446 tasks      | elapsed:  1.1min\n",
            "[Parallel(n_jobs=2)]: Done  46 tasks      | elapsed:    0.4s\n",
            "[Parallel(n_jobs=2)]: Done 196 tasks      | elapsed:    1.8s\n",
            "[Parallel(n_jobs=2)]: Done 446 tasks      | elapsed:    4.2s\n",
            "[Parallel(n_jobs=2)]: Done 796 tasks      | elapsed:    7.4s\n",
            "[Parallel(n_jobs=2)]: Done 1001 out of 1001 | elapsed:    9.4s finished\n"
          ]
        },
        {
          "name": "stdout",
          "output_type": "stream",
          "text": [
            "[CV 1/1; 13/75] END max_depth=2, max_features=0.5, n_estimators=1001;, score=(train=0.709, test=0.709) total time= 2.3min\n",
            "[CV 1/1; 15/75] START max_depth=2, max_features=0.5, n_estimators=2001..........\n"
          ]
        },
        {
          "name": "stderr",
          "output_type": "stream",
          "text": [
            "[Parallel(n_jobs=2)]: Using backend ThreadingBackend with 2 concurrent workers.\n",
            "[Parallel(n_jobs=2)]: Done  46 tasks      | elapsed:    6.8s\n",
            "[Parallel(n_jobs=2)]: Done 196 tasks      | elapsed:   28.7s\n",
            "[Parallel(n_jobs=2)]: Done 796 tasks      | elapsed:  1.9min\n",
            "[Parallel(n_jobs=2)]: Done 446 tasks      | elapsed:  1.1min\n",
            "[Parallel(n_jobs=2)]: Done 1246 tasks      | elapsed:  3.0min\n",
            "[Parallel(n_jobs=2)]: Done 796 tasks      | elapsed:  1.9min\n",
            "[Parallel(n_jobs=2)]: Done 1501 out of 1501 | elapsed:  3.6min finished\n",
            "[Parallel(n_jobs=2)]: Using backend ThreadingBackend with 2 concurrent workers.\n",
            "[Parallel(n_jobs=2)]: Done  46 tasks      | elapsed:    0.2s\n",
            "[Parallel(n_jobs=2)]: Done 196 tasks      | elapsed:    0.7s\n",
            "[Parallel(n_jobs=2)]: Done 446 tasks      | elapsed:    1.7s\n",
            "[Parallel(n_jobs=2)]: Done 796 tasks      | elapsed:    3.2s\n",
            "[Parallel(n_jobs=2)]: Done 1246 tasks      | elapsed:    5.1s\n",
            "[Parallel(n_jobs=2)]: Done 1501 out of 1501 | elapsed:    6.1s finished\n",
            "[Parallel(n_jobs=2)]: Using backend ThreadingBackend with 2 concurrent workers.\n",
            "[Parallel(n_jobs=2)]: Done  46 tasks      | elapsed:    0.4s\n",
            "[Parallel(n_jobs=2)]: Done 196 tasks      | elapsed:    1.8s\n",
            "[Parallel(n_jobs=2)]: Done 446 tasks      | elapsed:    4.1s\n",
            "[Parallel(n_jobs=2)]: Done 796 tasks      | elapsed:    7.3s\n",
            "[Parallel(n_jobs=2)]: Done 1246 tasks      | elapsed:   11.5s\n",
            "[Parallel(n_jobs=2)]: Done 1501 out of 1501 | elapsed:   13.8s finished\n",
            "[Parallel(n_jobs=2)]: Using backend ThreadingBackend with 2 concurrent workers.\n"
          ]
        },
        {
          "name": "stdout",
          "output_type": "stream",
          "text": [
            "[CV 1/1; 14/75] END max_depth=2, max_features=0.5, n_estimators=1501;, score=(train=0.709, test=0.709) total time= 3.7min\n",
            "[CV 1/1; 16/75] START max_depth=2, max_features=0.7, n_estimators=1.............\n",
            "[CV 1/1; 16/75] END max_depth=2, max_features=0.7, n_estimators=1;, score=(train=0.709, test=0.709) total time=   0.5s\n",
            "[CV 1/1; 17/75] START max_depth=2, max_features=0.7, n_estimators=501...........\n"
          ]
        },
        {
          "name": "stderr",
          "output_type": "stream",
          "text": [
            "[Parallel(n_jobs=2)]: Using backend ThreadingBackend with 2 concurrent workers.\n",
            "[Parallel(n_jobs=2)]: Done  46 tasks      | elapsed:    8.6s\n",
            "[Parallel(n_jobs=2)]: Done 1246 tasks      | elapsed:  2.9min\n",
            "[Parallel(n_jobs=2)]: Done 196 tasks      | elapsed:   35.8s\n",
            "[Parallel(n_jobs=2)]: Done 446 tasks      | elapsed:  1.4min\n",
            "[Parallel(n_jobs=2)]: Done 501 out of 501 | elapsed:  1.5min finished\n",
            "[Parallel(n_jobs=2)]: Using backend ThreadingBackend with 2 concurrent workers.\n",
            "[Parallel(n_jobs=2)]: Done  46 tasks      | elapsed:    0.2s\n",
            "[Parallel(n_jobs=2)]: Done 196 tasks      | elapsed:    0.7s\n",
            "[Parallel(n_jobs=2)]: Done 1796 tasks      | elapsed:  4.2min\n",
            "[Parallel(n_jobs=2)]: Done 446 tasks      | elapsed:    1.7s\n",
            "[Parallel(n_jobs=2)]: Done 501 out of 501 | elapsed:    1.9s finished\n",
            "[Parallel(n_jobs=2)]: Using backend ThreadingBackend with 2 concurrent workers.\n",
            "[Parallel(n_jobs=2)]: Done  46 tasks      | elapsed:    0.4s\n",
            "[Parallel(n_jobs=2)]: Done 196 tasks      | elapsed:    1.7s\n",
            "[Parallel(n_jobs=2)]: Done 446 tasks      | elapsed:    3.9s\n",
            "[Parallel(n_jobs=2)]: Done 501 out of 501 | elapsed:    4.4s finished\n"
          ]
        },
        {
          "name": "stdout",
          "output_type": "stream",
          "text": [
            "[CV 1/1; 17/75] END max_depth=2, max_features=0.7, n_estimators=501;, score=(train=0.709, test=0.709) total time= 1.6min\n",
            "[CV 1/1; 18/75] START max_depth=2, max_features=0.7, n_estimators=1001..........\n"
          ]
        },
        {
          "name": "stderr",
          "output_type": "stream",
          "text": [
            "[Parallel(n_jobs=2)]: Using backend ThreadingBackend with 2 concurrent workers.\n",
            "[Parallel(n_jobs=2)]: Done  46 tasks      | elapsed:    8.2s\n",
            "[Parallel(n_jobs=2)]: Done 2001 out of 2001 | elapsed:  4.6min finished\n",
            "[Parallel(n_jobs=2)]: Using backend ThreadingBackend with 2 concurrent workers.\n",
            "[Parallel(n_jobs=2)]: Done  46 tasks      | elapsed:    0.2s\n",
            "[Parallel(n_jobs=2)]: Done 196 tasks      | elapsed:    0.7s\n",
            "[Parallel(n_jobs=2)]: Done 446 tasks      | elapsed:    1.7s\n",
            "[Parallel(n_jobs=2)]: Done 796 tasks      | elapsed:    3.2s\n",
            "[Parallel(n_jobs=2)]: Done 1246 tasks      | elapsed:    5.0s\n",
            "[Parallel(n_jobs=2)]: Done 1796 tasks      | elapsed:    7.1s\n",
            "[Parallel(n_jobs=2)]: Done 2001 out of 2001 | elapsed:    7.9s finished\n",
            "[Parallel(n_jobs=2)]: Using backend ThreadingBackend with 2 concurrent workers.\n",
            "[Parallel(n_jobs=2)]: Done  46 tasks      | elapsed:    0.4s\n",
            "[Parallel(n_jobs=2)]: Done 196 tasks      | elapsed:    1.8s\n",
            "[Parallel(n_jobs=2)]: Done 446 tasks      | elapsed:    3.9s\n",
            "[Parallel(n_jobs=2)]: Done 196 tasks      | elapsed:   32.9s\n",
            "[Parallel(n_jobs=2)]: Done 796 tasks      | elapsed:    7.0s\n",
            "[Parallel(n_jobs=2)]: Done 1246 tasks      | elapsed:   10.9s\n",
            "[Parallel(n_jobs=2)]: Done 1796 tasks      | elapsed:   15.8s\n",
            "[Parallel(n_jobs=2)]: Done 2001 out of 2001 | elapsed:   17.5s finished\n"
          ]
        },
        {
          "name": "stdout",
          "output_type": "stream",
          "text": [
            "[CV 1/1; 15/75] END max_depth=2, max_features=0.5, n_estimators=2001;, score=(train=0.709, test=0.709) total time= 4.8min\n",
            "[CV 1/1; 19/75] START max_depth=2, max_features=0.7, n_estimators=1501..........\n"
          ]
        },
        {
          "name": "stderr",
          "output_type": "stream",
          "text": [
            "[Parallel(n_jobs=2)]: Using backend ThreadingBackend with 2 concurrent workers.\n",
            "[Parallel(n_jobs=2)]: Done  46 tasks      | elapsed:    8.0s\n",
            "[Parallel(n_jobs=2)]: Done 446 tasks      | elapsed:  1.2min\n",
            "[Parallel(n_jobs=2)]: Done 196 tasks      | elapsed:   34.0s\n",
            "[Parallel(n_jobs=2)]: Done 446 tasks      | elapsed:  1.3min\n",
            "[Parallel(n_jobs=2)]: Done 796 tasks      | elapsed:  2.2min\n",
            "[Parallel(n_jobs=2)]: Done 1001 out of 1001 | elapsed:  2.8min finished\n",
            "[Parallel(n_jobs=2)]: Using backend ThreadingBackend with 2 concurrent workers.\n",
            "[Parallel(n_jobs=2)]: Done  46 tasks      | elapsed:    0.2s\n",
            "[Parallel(n_jobs=2)]: Done 196 tasks      | elapsed:    0.7s\n",
            "[Parallel(n_jobs=2)]: Done 446 tasks      | elapsed:    1.6s\n",
            "[Parallel(n_jobs=2)]: Done 796 tasks      | elapsed:    3.0s\n",
            "[Parallel(n_jobs=2)]: Done 1001 out of 1001 | elapsed:    3.8s finished\n",
            "[Parallel(n_jobs=2)]: Using backend ThreadingBackend with 2 concurrent workers.\n",
            "[Parallel(n_jobs=2)]: Done  46 tasks      | elapsed:    0.4s\n",
            "[Parallel(n_jobs=2)]: Done 196 tasks      | elapsed:    1.7s\n",
            "[Parallel(n_jobs=2)]: Done 446 tasks      | elapsed:    4.0s\n",
            "[Parallel(n_jobs=2)]: Done 796 tasks      | elapsed:    7.1s\n",
            "[Parallel(n_jobs=2)]: Done 796 tasks      | elapsed:  2.3min\n",
            "[Parallel(n_jobs=2)]: Done 1001 out of 1001 | elapsed:    8.9s finished\n"
          ]
        },
        {
          "name": "stdout",
          "output_type": "stream",
          "text": [
            "[CV 1/1; 18/75] END max_depth=2, max_features=0.7, n_estimators=1001;, score=(train=0.709, test=0.709) total time= 2.9min\n",
            "[CV 1/1; 20/75] START max_depth=2, max_features=0.7, n_estimators=2001..........\n"
          ]
        },
        {
          "name": "stderr",
          "output_type": "stream",
          "text": [
            "[Parallel(n_jobs=2)]: Using backend ThreadingBackend with 2 concurrent workers.\n",
            "[Parallel(n_jobs=2)]: Done  46 tasks      | elapsed:    8.0s\n",
            "[Parallel(n_jobs=2)]: Done 196 tasks      | elapsed:   33.9s\n",
            "[Parallel(n_jobs=2)]: Done 1246 tasks      | elapsed:  3.5min\n",
            "[Parallel(n_jobs=2)]: Done 446 tasks      | elapsed:  1.3min\n",
            "[Parallel(n_jobs=2)]: Done 1501 out of 1501 | elapsed:  4.3min finished\n",
            "[Parallel(n_jobs=2)]: Using backend ThreadingBackend with 2 concurrent workers.\n",
            "[Parallel(n_jobs=2)]: Done  46 tasks      | elapsed:    0.2s\n",
            "[Parallel(n_jobs=2)]: Done 196 tasks      | elapsed:    0.7s\n",
            "[Parallel(n_jobs=2)]: Done 446 tasks      | elapsed:    1.6s\n",
            "[Parallel(n_jobs=2)]: Done 796 tasks      | elapsed:    3.0s\n",
            "[Parallel(n_jobs=2)]: Done 1246 tasks      | elapsed:    4.7s\n",
            "[Parallel(n_jobs=2)]: Done 1501 out of 1501 | elapsed:    5.7s finished\n",
            "[Parallel(n_jobs=2)]: Using backend ThreadingBackend with 2 concurrent workers.\n",
            "[Parallel(n_jobs=2)]: Done  46 tasks      | elapsed:    0.4s\n",
            "[Parallel(n_jobs=2)]: Done 196 tasks      | elapsed:    1.7s\n",
            "[Parallel(n_jobs=2)]: Done 446 tasks      | elapsed:    4.0s\n",
            "[Parallel(n_jobs=2)]: Done 796 tasks      | elapsed:    7.1s\n",
            "[Parallel(n_jobs=2)]: Done 796 tasks      | elapsed:  2.3min\n",
            "[Parallel(n_jobs=2)]: Done 1246 tasks      | elapsed:   11.1s\n",
            "[Parallel(n_jobs=2)]: Done 1501 out of 1501 | elapsed:   13.3s finished\n",
            "[Parallel(n_jobs=2)]: Using backend ThreadingBackend with 2 concurrent workers.\n"
          ]
        },
        {
          "name": "stdout",
          "output_type": "stream",
          "text": [
            "[CV 1/1; 19/75] END max_depth=2, max_features=0.7, n_estimators=1501;, score=(train=0.709, test=0.709) total time= 4.4min\n",
            "[CV 1/1; 21/75] START max_depth=2, max_features=0.9, n_estimators=1.............\n",
            "[CV 1/1; 21/75] END max_depth=2, max_features=0.9, n_estimators=1;, score=(train=0.709, test=0.709) total time=   0.5s\n",
            "[CV 1/1; 22/75] START max_depth=2, max_features=0.9, n_estimators=501...........\n"
          ]
        },
        {
          "name": "stderr",
          "output_type": "stream",
          "text": [
            "[Parallel(n_jobs=2)]: Using backend ThreadingBackend with 2 concurrent workers.\n",
            "[Parallel(n_jobs=2)]: Done  46 tasks      | elapsed:    9.9s\n",
            "[Parallel(n_jobs=2)]: Done 196 tasks      | elapsed:   41.7s\n",
            "[Parallel(n_jobs=2)]: Done 1246 tasks      | elapsed:  3.5min\n",
            "[Parallel(n_jobs=2)]: Done 446 tasks      | elapsed:  1.6min\n",
            "[Parallel(n_jobs=2)]: Done 501 out of 501 | elapsed:  1.8min finished\n",
            "[Parallel(n_jobs=2)]: Using backend ThreadingBackend with 2 concurrent workers.\n",
            "[Parallel(n_jobs=2)]: Done  46 tasks      | elapsed:    0.2s\n",
            "[Parallel(n_jobs=2)]: Done 196 tasks      | elapsed:    0.7s\n",
            "[Parallel(n_jobs=2)]: Done 446 tasks      | elapsed:    1.6s\n",
            "[Parallel(n_jobs=2)]: Done 501 out of 501 | elapsed:    1.8s finished\n",
            "[Parallel(n_jobs=2)]: Using backend ThreadingBackend with 2 concurrent workers.\n",
            "[Parallel(n_jobs=2)]: Done  46 tasks      | elapsed:    0.4s\n",
            "[Parallel(n_jobs=2)]: Done 196 tasks      | elapsed:    1.7s\n",
            "[Parallel(n_jobs=2)]: Done 446 tasks      | elapsed:    3.9s\n",
            "[Parallel(n_jobs=2)]: Done 501 out of 501 | elapsed:    4.4s finished\n"
          ]
        },
        {
          "name": "stdout",
          "output_type": "stream",
          "text": [
            "[CV 1/1; 22/75] END max_depth=2, max_features=0.9, n_estimators=501;, score=(train=0.709, test=0.709) total time= 1.8min\n",
            "[CV 1/1; 23/75] START max_depth=2, max_features=0.9, n_estimators=1001..........\n"
          ]
        },
        {
          "name": "stderr",
          "output_type": "stream",
          "text": [
            "[Parallel(n_jobs=2)]: Using backend ThreadingBackend with 2 concurrent workers.\n",
            "[Parallel(n_jobs=2)]: Done  46 tasks      | elapsed:    9.8s\n",
            "[Parallel(n_jobs=2)]: Done 196 tasks      | elapsed:   41.8s\n",
            "[Parallel(n_jobs=2)]: Done 1796 tasks      | elapsed:  5.1min\n",
            "[Parallel(n_jobs=2)]: Done 2001 out of 2001 | elapsed:  5.7min finished\n",
            "[Parallel(n_jobs=2)]: Using backend ThreadingBackend with 2 concurrent workers.\n",
            "[Parallel(n_jobs=2)]: Done  46 tasks      | elapsed:    0.2s\n",
            "[Parallel(n_jobs=2)]: Done 196 tasks      | elapsed:    0.7s\n",
            "[Parallel(n_jobs=2)]: Done 446 tasks      | elapsed:    1.7s\n",
            "[Parallel(n_jobs=2)]: Done 796 tasks      | elapsed:    3.0s\n",
            "[Parallel(n_jobs=2)]: Done 1246 tasks      | elapsed:    4.7s\n",
            "[Parallel(n_jobs=2)]: Done 1796 tasks      | elapsed:    6.9s\n",
            "[Parallel(n_jobs=2)]: Done 446 tasks      | elapsed:  1.6min\n",
            "[Parallel(n_jobs=2)]: Done 2001 out of 2001 | elapsed:    7.7s finished\n",
            "[Parallel(n_jobs=2)]: Using backend ThreadingBackend with 2 concurrent workers.\n",
            "[Parallel(n_jobs=2)]: Done  46 tasks      | elapsed:    0.4s\n",
            "[Parallel(n_jobs=2)]: Done 196 tasks      | elapsed:    1.7s\n",
            "[Parallel(n_jobs=2)]: Done 446 tasks      | elapsed:    3.9s\n",
            "[Parallel(n_jobs=2)]: Done 796 tasks      | elapsed:    7.0s\n",
            "[Parallel(n_jobs=2)]: Done 1246 tasks      | elapsed:   11.0s\n",
            "[Parallel(n_jobs=2)]: Done 1796 tasks      | elapsed:   15.8s\n",
            "[Parallel(n_jobs=2)]: Done 2001 out of 2001 | elapsed:   17.6s finished\n"
          ]
        },
        {
          "name": "stdout",
          "output_type": "stream",
          "text": [
            "[CV 1/1; 20/75] END max_depth=2, max_features=0.7, n_estimators=2001;, score=(train=0.709, test=0.709) total time= 5.8min\n",
            "[CV 1/1; 24/75] START max_depth=2, max_features=0.9, n_estimators=1501..........\n"
          ]
        },
        {
          "name": "stderr",
          "output_type": "stream",
          "text": [
            "[Parallel(n_jobs=2)]: Using backend ThreadingBackend with 2 concurrent workers.\n",
            "[Parallel(n_jobs=2)]: Done  46 tasks      | elapsed:   10.0s\n",
            "[Parallel(n_jobs=2)]: Done 196 tasks      | elapsed:   42.0s\n",
            "[Parallel(n_jobs=2)]: Done 796 tasks      | elapsed:  2.8min\n",
            "[Parallel(n_jobs=2)]: Done 446 tasks      | elapsed:  1.6min\n",
            "[Parallel(n_jobs=2)]: Done 1001 out of 1001 | elapsed:  3.5min finished\n",
            "[Parallel(n_jobs=2)]: Using backend ThreadingBackend with 2 concurrent workers.\n",
            "[Parallel(n_jobs=2)]: Done  46 tasks      | elapsed:    0.2s\n",
            "[Parallel(n_jobs=2)]: Done 196 tasks      | elapsed:    0.7s\n",
            "[Parallel(n_jobs=2)]: Done 446 tasks      | elapsed:    1.7s\n",
            "[Parallel(n_jobs=2)]: Done 796 tasks      | elapsed:    3.0s\n",
            "[Parallel(n_jobs=2)]: Done 1001 out of 1001 | elapsed:    3.8s finished\n",
            "[Parallel(n_jobs=2)]: Using backend ThreadingBackend with 2 concurrent workers.\n",
            "[Parallel(n_jobs=2)]: Done  46 tasks      | elapsed:    0.4s\n",
            "[Parallel(n_jobs=2)]: Done 196 tasks      | elapsed:    1.7s\n",
            "[Parallel(n_jobs=2)]: Done 446 tasks      | elapsed:    4.0s\n",
            "[Parallel(n_jobs=2)]: Done 796 tasks      | elapsed:    7.1s\n",
            "[Parallel(n_jobs=2)]: Done 1001 out of 1001 | elapsed:    8.9s finished\n"
          ]
        },
        {
          "name": "stdout",
          "output_type": "stream",
          "text": [
            "[CV 1/1; 23/75] END max_depth=2, max_features=0.9, n_estimators=1001;, score=(train=0.709, test=0.709) total time= 3.6min\n",
            "[CV 1/1; 25/75] START max_depth=2, max_features=0.9, n_estimators=2001..........\n"
          ]
        },
        {
          "name": "stderr",
          "output_type": "stream",
          "text": [
            "[Parallel(n_jobs=2)]: Using backend ThreadingBackend with 2 concurrent workers.\n",
            "[Parallel(n_jobs=2)]: Done  46 tasks      | elapsed:    9.9s\n",
            "[Parallel(n_jobs=2)]: Done 196 tasks      | elapsed:   42.1s\n",
            "[Parallel(n_jobs=2)]: Done 796 tasks      | elapsed:  2.8min\n",
            "[Parallel(n_jobs=2)]: Done 446 tasks      | elapsed:  1.6min\n",
            "[Parallel(n_jobs=2)]: Done 1246 tasks      | elapsed:  4.4min\n",
            "[Parallel(n_jobs=2)]: Done 796 tasks      | elapsed:  2.8min\n",
            "[Parallel(n_jobs=2)]: Done 1501 out of 1501 | elapsed:  5.3min finished\n",
            "[Parallel(n_jobs=2)]: Using backend ThreadingBackend with 2 concurrent workers.\n",
            "[Parallel(n_jobs=2)]: Done  46 tasks      | elapsed:    0.2s\n",
            "[Parallel(n_jobs=2)]: Done 196 tasks      | elapsed:    0.7s\n",
            "[Parallel(n_jobs=2)]: Done 446 tasks      | elapsed:    1.7s\n",
            "[Parallel(n_jobs=2)]: Done 796 tasks      | elapsed:    3.0s\n",
            "[Parallel(n_jobs=2)]: Done 1246 tasks      | elapsed:    4.8s\n",
            "[Parallel(n_jobs=2)]: Done 1501 out of 1501 | elapsed:    5.8s finished\n",
            "[Parallel(n_jobs=2)]: Using backend ThreadingBackend with 2 concurrent workers.\n",
            "[Parallel(n_jobs=2)]: Done  46 tasks      | elapsed:    0.4s\n",
            "[Parallel(n_jobs=2)]: Done 196 tasks      | elapsed:    1.8s\n",
            "[Parallel(n_jobs=2)]: Done 446 tasks      | elapsed:    4.0s\n",
            "[Parallel(n_jobs=2)]: Done 796 tasks      | elapsed:    7.1s\n",
            "[Parallel(n_jobs=2)]: Done 1246 tasks      | elapsed:   11.1s\n",
            "[Parallel(n_jobs=2)]: Done 1501 out of 1501 | elapsed:   13.4s finished\n",
            "[Parallel(n_jobs=2)]: Using backend ThreadingBackend with 2 concurrent workers.\n"
          ]
        },
        {
          "name": "stdout",
          "output_type": "stream",
          "text": [
            "[CV 1/1; 24/75] END max_depth=2, max_features=0.9, n_estimators=1501;, score=(train=0.709, test=0.709) total time= 5.4min\n",
            "[CV 1/1; 26/75] START max_depth=5, max_features=0.1, n_estimators=1.............\n",
            "[CV 1/1; 26/75] END max_depth=5, max_features=0.1, n_estimators=1;, score=(train=0.709, test=0.709) total time=   0.3s\n",
            "[CV 1/1; 27/75] START max_depth=5, max_features=0.1, n_estimators=501...........\n"
          ]
        },
        {
          "name": "stderr",
          "output_type": "stream",
          "text": [
            "[Parallel(n_jobs=2)]: Using backend ThreadingBackend with 2 concurrent workers.\n",
            "[Parallel(n_jobs=2)]: Done  46 tasks      | elapsed:    3.6s\n",
            "[Parallel(n_jobs=2)]: Done 196 tasks      | elapsed:   14.9s\n",
            "[Parallel(n_jobs=2)]: Done 446 tasks      | elapsed:   34.4s\n",
            "[Parallel(n_jobs=2)]: Done 1246 tasks      | elapsed:  4.4min\n",
            "[Parallel(n_jobs=2)]: Done 501 out of 501 | elapsed:   39.4s finished\n",
            "[Parallel(n_jobs=2)]: Using backend ThreadingBackend with 2 concurrent workers.\n",
            "[Parallel(n_jobs=2)]: Done  46 tasks      | elapsed:    0.2s\n",
            "[Parallel(n_jobs=2)]: Done 196 tasks      | elapsed:    1.0s\n",
            "[Parallel(n_jobs=2)]: Done 446 tasks      | elapsed:    2.3s\n",
            "[Parallel(n_jobs=2)]: Done 501 out of 501 | elapsed:    2.7s finished\n",
            "[Parallel(n_jobs=2)]: Using backend ThreadingBackend with 2 concurrent workers.\n",
            "[Parallel(n_jobs=2)]: Done  46 tasks      | elapsed:    0.6s\n",
            "[Parallel(n_jobs=2)]: Done 196 tasks      | elapsed:    2.5s\n",
            "[Parallel(n_jobs=2)]: Done 446 tasks      | elapsed:    5.4s\n",
            "[Parallel(n_jobs=2)]: Done 501 out of 501 | elapsed:    6.1s finished\n"
          ]
        },
        {
          "name": "stdout",
          "output_type": "stream",
          "text": [
            "[CV 1/1; 27/75] END max_depth=5, max_features=0.1, n_estimators=501;, score=(train=0.709, test=0.709) total time=  42.4s\n",
            "[CV 1/1; 28/75] START max_depth=5, max_features=0.1, n_estimators=1001..........\n"
          ]
        },
        {
          "name": "stderr",
          "output_type": "stream",
          "text": [
            "[Parallel(n_jobs=2)]: Using backend ThreadingBackend with 2 concurrent workers.\n",
            "[Parallel(n_jobs=2)]: Done  46 tasks      | elapsed:    4.4s\n",
            "[Parallel(n_jobs=2)]: Done 196 tasks      | elapsed:   20.7s\n",
            "[Parallel(n_jobs=2)]: Done 446 tasks      | elapsed:   47.9s\n",
            "[Parallel(n_jobs=2)]: Done 796 tasks      | elapsed:  1.4min\n",
            "[Parallel(n_jobs=2)]: Done 1001 out of 1001 | elapsed:  1.8min finished\n",
            "[Parallel(n_jobs=2)]: Using backend ThreadingBackend with 2 concurrent workers.\n",
            "[Parallel(n_jobs=2)]: Done  46 tasks      | elapsed:    0.2s\n",
            "[Parallel(n_jobs=2)]: Done 196 tasks      | elapsed:    1.1s\n",
            "[Parallel(n_jobs=2)]: Done 446 tasks      | elapsed:    2.5s\n",
            "[Parallel(n_jobs=2)]: Done 796 tasks      | elapsed:    4.4s\n",
            "[Parallel(n_jobs=2)]: Done 1001 out of 1001 | elapsed:    5.6s finished\n",
            "[Parallel(n_jobs=2)]: Using backend ThreadingBackend with 2 concurrent workers.\n",
            "[Parallel(n_jobs=2)]: Done  46 tasks      | elapsed:    0.6s\n",
            "[Parallel(n_jobs=2)]: Done 196 tasks      | elapsed:    2.5s\n",
            "[Parallel(n_jobs=2)]: Done 446 tasks      | elapsed:    5.7s\n",
            "[Parallel(n_jobs=2)]: Done 796 tasks      | elapsed:   10.1s\n",
            "[Parallel(n_jobs=2)]: Done 1001 out of 1001 | elapsed:   12.6s finished\n"
          ]
        },
        {
          "name": "stdout",
          "output_type": "stream",
          "text": [
            "[CV 1/1; 28/75] END max_depth=5, max_features=0.1, n_estimators=1001;, score=(train=0.709, test=0.709) total time= 1.9min\n",
            "[CV 1/1; 29/75] START max_depth=5, max_features=0.1, n_estimators=1501..........\n"
          ]
        },
        {
          "name": "stderr",
          "output_type": "stream",
          "text": [
            "[Parallel(n_jobs=2)]: Using backend ThreadingBackend with 2 concurrent workers.\n",
            "[Parallel(n_jobs=2)]: Done  46 tasks      | elapsed:    4.8s\n",
            "[Parallel(n_jobs=2)]: Done 1796 tasks      | elapsed:  6.9min\n",
            "[Parallel(n_jobs=2)]: Done 196 tasks      | elapsed:   19.9s\n",
            "[Parallel(n_jobs=2)]: Done 446 tasks      | elapsed:   46.9s\n",
            "[Parallel(n_jobs=2)]: Done 2001 out of 2001 | elapsed:  7.9min finished\n",
            "[Parallel(n_jobs=2)]: Using backend ThreadingBackend with 2 concurrent workers.\n",
            "[Parallel(n_jobs=2)]: Done  46 tasks      | elapsed:    0.2s\n",
            "[Parallel(n_jobs=2)]: Done 196 tasks      | elapsed:    0.9s\n",
            "[Parallel(n_jobs=2)]: Done 446 tasks      | elapsed:    1.9s\n",
            "[Parallel(n_jobs=2)]: Done 796 tasks      | elapsed:    3.4s\n",
            "[Parallel(n_jobs=2)]: Done 1246 tasks      | elapsed:    5.5s\n",
            "[Parallel(n_jobs=2)]: Done 1796 tasks      | elapsed:    8.1s\n",
            "[Parallel(n_jobs=2)]: Done 2001 out of 2001 | elapsed:    9.0s finished\n",
            "[Parallel(n_jobs=2)]: Using backend ThreadingBackend with 2 concurrent workers.\n",
            "[Parallel(n_jobs=2)]: Done  46 tasks      | elapsed:    0.5s\n",
            "[Parallel(n_jobs=2)]: Done 196 tasks      | elapsed:    2.0s\n",
            "[Parallel(n_jobs=2)]: Done 796 tasks      | elapsed:  1.4min\n",
            "[Parallel(n_jobs=2)]: Done 446 tasks      | elapsed:    4.6s\n",
            "[Parallel(n_jobs=2)]: Done 796 tasks      | elapsed:    8.1s\n",
            "[Parallel(n_jobs=2)]: Done 1246 tasks      | elapsed:   12.9s\n",
            "[Parallel(n_jobs=2)]: Done 1796 tasks      | elapsed:   18.8s\n",
            "[Parallel(n_jobs=2)]: Done 2001 out of 2001 | elapsed:   20.7s finished\n"
          ]
        },
        {
          "name": "stdout",
          "output_type": "stream",
          "text": [
            "[CV 1/1; 25/75] END max_depth=2, max_features=0.9, n_estimators=2001;, score=(train=0.709, test=0.709) total time= 8.1min\n",
            "[CV 1/1; 30/75] START max_depth=5, max_features=0.1, n_estimators=2001..........\n"
          ]
        },
        {
          "name": "stderr",
          "output_type": "stream",
          "text": [
            "[Parallel(n_jobs=2)]: Using backend ThreadingBackend with 2 concurrent workers.\n",
            "[Parallel(n_jobs=2)]: Done  46 tasks      | elapsed:    4.3s\n",
            "[Parallel(n_jobs=2)]: Done 196 tasks      | elapsed:   20.3s\n",
            "[Parallel(n_jobs=2)]: Done 1246 tasks      | elapsed:  2.2min\n",
            "[Parallel(n_jobs=2)]: Done 446 tasks      | elapsed:   44.4s\n",
            "[Parallel(n_jobs=2)]: Done 1501 out of 1501 | elapsed:  2.7min finished\n",
            "[Parallel(n_jobs=2)]: Using backend ThreadingBackend with 2 concurrent workers.\n",
            "[Parallel(n_jobs=2)]: Done  46 tasks      | elapsed:    0.3s\n",
            "[Parallel(n_jobs=2)]: Done 196 tasks      | elapsed:    1.1s\n",
            "[Parallel(n_jobs=2)]: Done 446 tasks      | elapsed:    2.3s\n",
            "[Parallel(n_jobs=2)]: Done 796 tasks      | elapsed:    4.1s\n",
            "[Parallel(n_jobs=2)]: Done 1246 tasks      | elapsed:    6.5s\n",
            "[Parallel(n_jobs=2)]: Done 1501 out of 1501 | elapsed:    7.8s finished\n",
            "[Parallel(n_jobs=2)]: Using backend ThreadingBackend with 2 concurrent workers.\n",
            "[Parallel(n_jobs=2)]: Done  46 tasks      | elapsed:    0.5s\n",
            "[Parallel(n_jobs=2)]: Done 196 tasks      | elapsed:    2.4s\n",
            "[Parallel(n_jobs=2)]: Done 446 tasks      | elapsed:    5.4s\n",
            "[Parallel(n_jobs=2)]: Done 796 tasks      | elapsed:   10.0s\n",
            "[Parallel(n_jobs=2)]: Done 796 tasks      | elapsed:  1.3min\n",
            "[Parallel(n_jobs=2)]: Done 1246 tasks      | elapsed:   15.3s\n",
            "[Parallel(n_jobs=2)]: Done 1501 out of 1501 | elapsed:   18.4s finished\n",
            "[Parallel(n_jobs=2)]: Using backend ThreadingBackend with 2 concurrent workers.\n"
          ]
        },
        {
          "name": "stdout",
          "output_type": "stream",
          "text": [
            "[CV 1/1; 29/75] END max_depth=5, max_features=0.1, n_estimators=1501;, score=(train=0.709, test=0.709) total time= 2.8min\n",
            "[CV 1/1; 31/75] START max_depth=5, max_features=0.3, n_estimators=1.............\n",
            "[CV 1/1; 31/75] END max_depth=5, max_features=0.3, n_estimators=1;, score=(train=0.709, test=0.709) total time=   0.5s\n",
            "[CV 1/1; 32/75] START max_depth=5, max_features=0.3, n_estimators=501...........\n"
          ]
        },
        {
          "name": "stderr",
          "output_type": "stream",
          "text": [
            "[Parallel(n_jobs=2)]: Using backend ThreadingBackend with 2 concurrent workers.\n",
            "[Parallel(n_jobs=2)]: Done  46 tasks      | elapsed:    9.0s\n",
            "[Parallel(n_jobs=2)]: Done 1246 tasks      | elapsed:  1.9min\n",
            "[Parallel(n_jobs=2)]: Done 196 tasks      | elapsed:   37.6s\n",
            "[Parallel(n_jobs=2)]: Done 1796 tasks      | elapsed:  2.7min\n",
            "[Parallel(n_jobs=2)]: Done 446 tasks      | elapsed:  1.4min\n",
            "[Parallel(n_jobs=2)]: Done 501 out of 501 | elapsed:  1.6min finished\n",
            "[Parallel(n_jobs=2)]: Using backend ThreadingBackend with 2 concurrent workers.\n",
            "[Parallel(n_jobs=2)]: Done  46 tasks      | elapsed:    0.2s\n",
            "[Parallel(n_jobs=2)]: Done 196 tasks      | elapsed:    1.0s\n",
            "[Parallel(n_jobs=2)]: Done 446 tasks      | elapsed:    2.3s\n",
            "[Parallel(n_jobs=2)]: Done 501 out of 501 | elapsed:    2.6s finished\n",
            "[Parallel(n_jobs=2)]: Using backend ThreadingBackend with 2 concurrent workers.\n",
            "[Parallel(n_jobs=2)]: Done 2001 out of 2001 | elapsed:  3.0min finished\n",
            "[Parallel(n_jobs=2)]: Using backend ThreadingBackend with 2 concurrent workers.\n",
            "[Parallel(n_jobs=2)]: Done  46 tasks      | elapsed:    0.2s\n",
            "[Parallel(n_jobs=2)]: Done  46 tasks      | elapsed:    0.6s\n",
            "[Parallel(n_jobs=2)]: Done 196 tasks      | elapsed:    1.0s\n",
            "[Parallel(n_jobs=2)]: Done 196 tasks      | elapsed:    2.3s\n",
            "[Parallel(n_jobs=2)]: Done 446 tasks      | elapsed:    2.2s\n",
            "[Parallel(n_jobs=2)]: Done 796 tasks      | elapsed:    4.0s\n",
            "[Parallel(n_jobs=2)]: Done 446 tasks      | elapsed:    5.4s\n",
            "[Parallel(n_jobs=2)]: Done 501 out of 501 | elapsed:    6.1s finished\n"
          ]
        },
        {
          "name": "stdout",
          "output_type": "stream",
          "text": [
            "[CV 1/1; 32/75] END max_depth=5, max_features=0.3, n_estimators=501;, score=(train=0.709, test=0.709) total time= 1.6min\n",
            "[CV 1/1; 33/75] START max_depth=5, max_features=0.3, n_estimators=1001..........\n"
          ]
        },
        {
          "name": "stderr",
          "output_type": "stream",
          "text": [
            "[Parallel(n_jobs=2)]: Done 1246 tasks      | elapsed:    6.5s\n",
            "[Parallel(n_jobs=2)]: Using backend ThreadingBackend with 2 concurrent workers.\n",
            "[Parallel(n_jobs=2)]: Done 1796 tasks      | elapsed:    9.6s\n",
            "[Parallel(n_jobs=2)]: Done 2001 out of 2001 | elapsed:   10.7s finished\n",
            "[Parallel(n_jobs=2)]: Using backend ThreadingBackend with 2 concurrent workers.\n",
            "[Parallel(n_jobs=2)]: Done  46 tasks      | elapsed:    0.6s\n",
            "[Parallel(n_jobs=2)]: Done 196 tasks      | elapsed:    2.6s\n",
            "[Parallel(n_jobs=2)]: Done  46 tasks      | elapsed:    9.3s\n",
            "[Parallel(n_jobs=2)]: Done 446 tasks      | elapsed:    5.5s\n",
            "[Parallel(n_jobs=2)]: Done 796 tasks      | elapsed:    9.5s\n",
            "[Parallel(n_jobs=2)]: Done 1246 tasks      | elapsed:   14.8s\n",
            "[Parallel(n_jobs=2)]: Done 1796 tasks      | elapsed:   21.4s\n",
            "[Parallel(n_jobs=2)]: Done 2001 out of 2001 | elapsed:   23.8s finished\n"
          ]
        },
        {
          "name": "stdout",
          "output_type": "stream",
          "text": [
            "[CV 1/1; 30/75] END max_depth=5, max_features=0.1, n_estimators=2001;, score=(train=0.709, test=0.709) total time= 3.2min\n",
            "[CV 1/1; 34/75] START max_depth=5, max_features=0.3, n_estimators=1501..........\n"
          ]
        },
        {
          "name": "stderr",
          "output_type": "stream",
          "text": [
            "[Parallel(n_jobs=2)]: Using backend ThreadingBackend with 2 concurrent workers.\n",
            "[Parallel(n_jobs=2)]: Done 196 tasks      | elapsed:   38.0s\n",
            "[Parallel(n_jobs=2)]: Done  46 tasks      | elapsed:   11.0s\n",
            "[Parallel(n_jobs=2)]: Done 196 tasks      | elapsed:   40.0s\n",
            "[Parallel(n_jobs=2)]: Done 446 tasks      | elapsed:  1.4min\n",
            "[Parallel(n_jobs=2)]: Done 446 tasks      | elapsed:  1.5min\n",
            "[Parallel(n_jobs=2)]: Done 796 tasks      | elapsed:  2.6min\n",
            "[Parallel(n_jobs=2)]: Done 796 tasks      | elapsed:  2.6min\n",
            "[Parallel(n_jobs=2)]: Done 1001 out of 1001 | elapsed:  3.2min finished\n",
            "[Parallel(n_jobs=2)]: Using backend ThreadingBackend with 2 concurrent workers.\n",
            "[Parallel(n_jobs=2)]: Done  46 tasks      | elapsed:    0.3s\n",
            "[Parallel(n_jobs=2)]: Done 196 tasks      | elapsed:    1.2s\n",
            "[Parallel(n_jobs=2)]: Done 446 tasks      | elapsed:    2.5s\n",
            "[Parallel(n_jobs=2)]: Done 796 tasks      | elapsed:    4.4s\n",
            "[Parallel(n_jobs=2)]: Done 1001 out of 1001 | elapsed:    5.5s finished\n",
            "[Parallel(n_jobs=2)]: Using backend ThreadingBackend with 2 concurrent workers.\n",
            "[Parallel(n_jobs=2)]: Done  46 tasks      | elapsed:    0.6s\n",
            "[Parallel(n_jobs=2)]: Done 196 tasks      | elapsed:    2.5s\n",
            "[Parallel(n_jobs=2)]: Done 446 tasks      | elapsed:    5.6s\n",
            "[Parallel(n_jobs=2)]: Done 796 tasks      | elapsed:    9.9s\n",
            "[Parallel(n_jobs=2)]: Done 1001 out of 1001 | elapsed:   12.3s finished\n"
          ]
        },
        {
          "name": "stdout",
          "output_type": "stream",
          "text": [
            "[CV 1/1; 33/75] END max_depth=5, max_features=0.3, n_estimators=1001;, score=(train=0.709, test=0.709) total time= 3.3min\n",
            "[CV 1/1; 35/75] START max_depth=5, max_features=0.3, n_estimators=2001..........\n"
          ]
        },
        {
          "name": "stderr",
          "output_type": "stream",
          "text": [
            "[Parallel(n_jobs=2)]: Using backend ThreadingBackend with 2 concurrent workers.\n",
            "[Parallel(n_jobs=2)]: Done  46 tasks      | elapsed:    9.6s\n",
            "[Parallel(n_jobs=2)]: Done 196 tasks      | elapsed:   39.5s\n",
            "[Parallel(n_jobs=2)]: Done 1246 tasks      | elapsed:  4.2min\n",
            "[Parallel(n_jobs=2)]: Done 446 tasks      | elapsed:  1.5min\n",
            "[Parallel(n_jobs=2)]: Done 1501 out of 1501 | elapsed:  5.0min finished\n",
            "[Parallel(n_jobs=2)]: Using backend ThreadingBackend with 2 concurrent workers.\n",
            "[Parallel(n_jobs=2)]: Done  46 tasks      | elapsed:    0.3s\n",
            "[Parallel(n_jobs=2)]: Done 196 tasks      | elapsed:    1.1s\n",
            "[Parallel(n_jobs=2)]: Done 446 tasks      | elapsed:    2.4s\n",
            "[Parallel(n_jobs=2)]: Done 796 tasks      | elapsed:    4.3s\n",
            "[Parallel(n_jobs=2)]: Done 1246 tasks      | elapsed:    6.9s\n",
            "[Parallel(n_jobs=2)]: Done 1501 out of 1501 | elapsed:    8.4s finished\n",
            "[Parallel(n_jobs=2)]: Using backend ThreadingBackend with 2 concurrent workers.\n",
            "[Parallel(n_jobs=2)]: Done  46 tasks      | elapsed:    0.6s\n",
            "[Parallel(n_jobs=2)]: Done 196 tasks      | elapsed:    2.4s\n",
            "[Parallel(n_jobs=2)]: Done 446 tasks      | elapsed:    5.6s\n",
            "[Parallel(n_jobs=2)]: Done 796 tasks      | elapsed:   10.1s\n",
            "[Parallel(n_jobs=2)]: Done 1246 tasks      | elapsed:   16.1s\n",
            "[Parallel(n_jobs=2)]: Done 1501 out of 1501 | elapsed:   19.2s finished\n",
            "[Parallel(n_jobs=2)]: Using backend ThreadingBackend with 2 concurrent workers.\n"
          ]
        },
        {
          "name": "stdout",
          "output_type": "stream",
          "text": [
            "[CV 1/1; 34/75] END max_depth=5, max_features=0.3, n_estimators=1501;, score=(train=0.709, test=0.709) total time= 5.2min\n",
            "[CV 1/1; 36/75] START max_depth=5, max_features=0.5, n_estimators=1.............\n",
            "[CV 1/1; 36/75] END max_depth=5, max_features=0.5, n_estimators=1;, score=(train=0.709, test=0.709) total time=   0.7s\n",
            "[CV 1/1; 37/75] START max_depth=5, max_features=0.5, n_estimators=501...........\n"
          ]
        },
        {
          "name": "stderr",
          "output_type": "stream",
          "text": [
            "[Parallel(n_jobs=2)]: Using backend ThreadingBackend with 2 concurrent workers.\n",
            "[Parallel(n_jobs=2)]: Done  46 tasks      | elapsed:   13.1s\n",
            "[Parallel(n_jobs=2)]: Done 796 tasks      | elapsed:  2.6min\n",
            "[Parallel(n_jobs=2)]: Done 196 tasks      | elapsed:   57.0s\n",
            "[Parallel(n_jobs=2)]: Done 1246 tasks      | elapsed:  4.2min\n",
            "[Parallel(n_jobs=2)]: Done 446 tasks      | elapsed:  2.3min\n",
            "[Parallel(n_jobs=2)]: Done 501 out of 501 | elapsed:  2.6min finished\n",
            "[Parallel(n_jobs=2)]: Using backend ThreadingBackend with 2 concurrent workers.\n",
            "[Parallel(n_jobs=2)]: Done  46 tasks      | elapsed:    0.2s\n",
            "[Parallel(n_jobs=2)]: Done 196 tasks      | elapsed:    1.0s\n",
            "[Parallel(n_jobs=2)]: Done 446 tasks      | elapsed:    2.4s\n",
            "[Parallel(n_jobs=2)]: Done 501 out of 501 | elapsed:    2.8s finished\n",
            "[Parallel(n_jobs=2)]: Using backend ThreadingBackend with 2 concurrent workers.\n",
            "[Parallel(n_jobs=2)]: Done  46 tasks      | elapsed:    0.7s\n",
            "[Parallel(n_jobs=2)]: Done 196 tasks      | elapsed:    2.9s\n",
            "[Parallel(n_jobs=2)]: Done 446 tasks      | elapsed:    6.3s\n",
            "[Parallel(n_jobs=2)]: Done 501 out of 501 | elapsed:    7.0s finished\n"
          ]
        },
        {
          "name": "stdout",
          "output_type": "stream",
          "text": [
            "[CV 1/1; 37/75] END max_depth=5, max_features=0.5, n_estimators=501;, score=(train=0.709, test=0.709) total time= 2.6min\n",
            "[CV 1/1; 38/75] START max_depth=5, max_features=0.5, n_estimators=1001..........\n"
          ]
        },
        {
          "name": "stderr",
          "output_type": "stream",
          "text": [
            "[Parallel(n_jobs=2)]: Using backend ThreadingBackend with 2 concurrent workers.\n",
            "[Parallel(n_jobs=2)]: Done  46 tasks      | elapsed:   13.2s\n",
            "[Parallel(n_jobs=2)]: Done 1796 tasks      | elapsed:  6.0min\n",
            "[Parallel(n_jobs=2)]: Done 196 tasks      | elapsed:   59.9s\n",
            "[Parallel(n_jobs=2)]: Done 2001 out of 2001 | elapsed:  6.7min finished\n",
            "[Parallel(n_jobs=2)]: Using backend ThreadingBackend with 2 concurrent workers.\n",
            "[Parallel(n_jobs=2)]: Done  46 tasks      | elapsed:    0.3s\n",
            "[Parallel(n_jobs=2)]: Done 196 tasks      | elapsed:    1.2s\n",
            "[Parallel(n_jobs=2)]: Done 446 tasks      | elapsed:    2.5s\n",
            "[Parallel(n_jobs=2)]: Done 796 tasks      | elapsed:    4.5s\n",
            "[Parallel(n_jobs=2)]: Done 1246 tasks      | elapsed:    7.0s\n",
            "[Parallel(n_jobs=2)]: Done 1796 tasks      | elapsed:   10.2s\n",
            "[Parallel(n_jobs=2)]: Done 2001 out of 2001 | elapsed:   11.6s finished\n",
            "[Parallel(n_jobs=2)]: Using backend ThreadingBackend with 2 concurrent workers.\n",
            "[Parallel(n_jobs=2)]: Done  46 tasks      | elapsed:    0.7s\n",
            "[Parallel(n_jobs=2)]: Done 196 tasks      | elapsed:    2.6s\n",
            "[Parallel(n_jobs=2)]: Done 446 tasks      | elapsed:    5.8s\n",
            "[Parallel(n_jobs=2)]: Done 796 tasks      | elapsed:   10.2s\n",
            "[Parallel(n_jobs=2)]: Done 1246 tasks      | elapsed:   15.7s\n",
            "[Parallel(n_jobs=2)]: Done 1796 tasks      | elapsed:   22.5s\n",
            "[Parallel(n_jobs=2)]: Done 2001 out of 2001 | elapsed:   24.9s finished\n"
          ]
        },
        {
          "name": "stdout",
          "output_type": "stream",
          "text": [
            "[CV 1/1; 35/75] END max_depth=5, max_features=0.3, n_estimators=2001;, score=(train=0.709, test=0.709) total time= 6.9min\n",
            "[CV 1/1; 39/75] START max_depth=5, max_features=0.5, n_estimators=1501..........\n"
          ]
        },
        {
          "name": "stderr",
          "output_type": "stream",
          "text": [
            "[Parallel(n_jobs=2)]: Using backend ThreadingBackend with 2 concurrent workers.\n",
            "[Parallel(n_jobs=2)]: Done 446 tasks      | elapsed:  2.2min\n",
            "[Parallel(n_jobs=2)]: Done  46 tasks      | elapsed:   13.5s\n",
            "[Parallel(n_jobs=2)]: Done 196 tasks      | elapsed:   58.5s\n",
            "[Parallel(n_jobs=2)]: Done 796 tasks      | elapsed:  4.0min\n",
            "[Parallel(n_jobs=2)]: Done 446 tasks      | elapsed:  2.3min\n",
            "[Parallel(n_jobs=2)]: Done 1001 out of 1001 | elapsed:  5.1min finished\n",
            "[Parallel(n_jobs=2)]: Using backend ThreadingBackend with 2 concurrent workers.\n",
            "[Parallel(n_jobs=2)]: Done  46 tasks      | elapsed:    0.3s\n",
            "[Parallel(n_jobs=2)]: Done 196 tasks      | elapsed:    1.1s\n",
            "[Parallel(n_jobs=2)]: Done 446 tasks      | elapsed:    2.6s\n",
            "[Parallel(n_jobs=2)]: Done 796 tasks      | elapsed:    4.5s\n",
            "[Parallel(n_jobs=2)]: Done 1001 out of 1001 | elapsed:    5.6s finished\n",
            "[Parallel(n_jobs=2)]: Using backend ThreadingBackend with 2 concurrent workers.\n",
            "[Parallel(n_jobs=2)]: Done  46 tasks      | elapsed:    0.6s\n",
            "[Parallel(n_jobs=2)]: Done 196 tasks      | elapsed:    2.5s\n",
            "[Parallel(n_jobs=2)]: Done 446 tasks      | elapsed:    5.7s\n",
            "[Parallel(n_jobs=2)]: Done 796 tasks      | elapsed:   10.3s\n",
            "[Parallel(n_jobs=2)]: Done 1001 out of 1001 | elapsed:   12.8s finished\n"
          ]
        },
        {
          "name": "stdout",
          "output_type": "stream",
          "text": [
            "[CV 1/1; 38/75] END max_depth=5, max_features=0.5, n_estimators=1001;, score=(train=0.709, test=0.709) total time= 5.2min\n",
            "[CV 1/1; 40/75] START max_depth=5, max_features=0.5, n_estimators=2001..........\n"
          ]
        },
        {
          "name": "stderr",
          "output_type": "stream",
          "text": [
            "[Parallel(n_jobs=2)]: Using backend ThreadingBackend with 2 concurrent workers.\n",
            "[Parallel(n_jobs=2)]: Done  46 tasks      | elapsed:   14.8s\n",
            "[Parallel(n_jobs=2)]: Done 796 tasks      | elapsed:  4.1min\n",
            "[Parallel(n_jobs=2)]: Done 196 tasks      | elapsed:   59.5s\n",
            "[Parallel(n_jobs=2)]: Done 446 tasks      | elapsed:  2.2min\n",
            "[Parallel(n_jobs=2)]: Done 1246 tasks      | elapsed:  6.3min\n",
            "[Parallel(n_jobs=2)]: Done 796 tasks      | elapsed:  4.1min\n",
            "[Parallel(n_jobs=2)]: Done 1501 out of 1501 | elapsed:  7.6min finished\n",
            "[Parallel(n_jobs=2)]: Using backend ThreadingBackend with 2 concurrent workers.\n",
            "[Parallel(n_jobs=2)]: Done  46 tasks      | elapsed:    0.2s\n",
            "[Parallel(n_jobs=2)]: Done 196 tasks      | elapsed:    1.1s\n",
            "[Parallel(n_jobs=2)]: Done 446 tasks      | elapsed:    2.6s\n",
            "[Parallel(n_jobs=2)]: Done 796 tasks      | elapsed:    4.6s\n",
            "[Parallel(n_jobs=2)]: Done 1246 tasks      | elapsed:    7.3s\n",
            "[Parallel(n_jobs=2)]: Done 1501 out of 1501 | elapsed:    8.7s finished\n",
            "[Parallel(n_jobs=2)]: Using backend ThreadingBackend with 2 concurrent workers.\n",
            "[Parallel(n_jobs=2)]: Done  46 tasks      | elapsed:    0.6s\n",
            "[Parallel(n_jobs=2)]: Done 196 tasks      | elapsed:    2.4s\n",
            "[Parallel(n_jobs=2)]: Done 446 tasks      | elapsed:    5.4s\n",
            "[Parallel(n_jobs=2)]: Done 796 tasks      | elapsed:   10.1s\n",
            "[Parallel(n_jobs=2)]: Done 1246 tasks      | elapsed:   15.8s\n",
            "[Parallel(n_jobs=2)]: Done 1501 out of 1501 | elapsed:   18.9s finished\n",
            "[Parallel(n_jobs=2)]: Using backend ThreadingBackend with 2 concurrent workers.\n"
          ]
        },
        {
          "name": "stdout",
          "output_type": "stream",
          "text": [
            "[CV 1/1; 39/75] END max_depth=5, max_features=0.5, n_estimators=1501;, score=(train=0.709, test=0.709) total time= 7.8min\n",
            "[CV 1/1; 41/75] START max_depth=5, max_features=0.7, n_estimators=1.............\n",
            "[CV 1/1; 41/75] END max_depth=5, max_features=0.7, n_estimators=1;, score=(train=0.709, test=0.709) total time=   0.8s\n",
            "[CV 1/1; 42/75] START max_depth=5, max_features=0.7, n_estimators=501...........\n"
          ]
        },
        {
          "name": "stderr",
          "output_type": "stream",
          "text": [
            "[Parallel(n_jobs=2)]: Using backend ThreadingBackend with 2 concurrent workers.\n",
            "[Parallel(n_jobs=2)]: Done  46 tasks      | elapsed:   19.0s\n",
            "[Parallel(n_jobs=2)]: Done 196 tasks      | elapsed:  1.3min\n",
            "[Parallel(n_jobs=2)]: Done 1246 tasks      | elapsed:  6.3min\n",
            "[Parallel(n_jobs=2)]: Done 446 tasks      | elapsed:  3.0min\n",
            "[Parallel(n_jobs=2)]: Done 501 out of 501 | elapsed:  3.4min finished\n",
            "[Parallel(n_jobs=2)]: Using backend ThreadingBackend with 2 concurrent workers.\n",
            "[Parallel(n_jobs=2)]: Done  46 tasks      | elapsed:    0.3s\n",
            "[Parallel(n_jobs=2)]: Done 196 tasks      | elapsed:    1.1s\n",
            "[Parallel(n_jobs=2)]: Done 446 tasks      | elapsed:    2.5s\n",
            "[Parallel(n_jobs=2)]: Done 501 out of 501 | elapsed:    2.8s finished\n",
            "[Parallel(n_jobs=2)]: Using backend ThreadingBackend with 2 concurrent workers.\n",
            "[Parallel(n_jobs=2)]: Done  46 tasks      | elapsed:    0.6s\n",
            "[Parallel(n_jobs=2)]: Done 196 tasks      | elapsed:    2.5s\n",
            "[Parallel(n_jobs=2)]: Done 446 tasks      | elapsed:    5.4s\n",
            "[Parallel(n_jobs=2)]: Done 501 out of 501 | elapsed:    6.0s finished\n"
          ]
        },
        {
          "name": "stdout",
          "output_type": "stream",
          "text": [
            "[CV 1/1; 42/75] END max_depth=5, max_features=0.7, n_estimators=501;, score=(train=0.709, test=0.709) total time= 3.4min\n",
            "[CV 1/1; 43/75] START max_depth=5, max_features=0.7, n_estimators=1001..........\n"
          ]
        },
        {
          "name": "stderr",
          "output_type": "stream",
          "text": [
            "[Parallel(n_jobs=2)]: Using backend ThreadingBackend with 2 concurrent workers.\n",
            "[Parallel(n_jobs=2)]: Done  46 tasks      | elapsed:   15.3s\n",
            "[Parallel(n_jobs=2)]: Done 1796 tasks      | elapsed:  8.9min\n",
            "[Parallel(n_jobs=2)]: Done 196 tasks      | elapsed:  1.1min\n",
            "[Parallel(n_jobs=2)]: Done 2001 out of 2001 | elapsed:  9.8min finished\n",
            "[Parallel(n_jobs=2)]: Using backend ThreadingBackend with 2 concurrent workers.\n",
            "[Parallel(n_jobs=2)]: Done  46 tasks      | elapsed:    0.2s\n",
            "[Parallel(n_jobs=2)]: Done 196 tasks      | elapsed:    0.9s\n",
            "[Parallel(n_jobs=2)]: Done 446 tasks      | elapsed:    2.1s\n",
            "[Parallel(n_jobs=2)]: Done 796 tasks      | elapsed:    4.1s\n",
            "[Parallel(n_jobs=2)]: Done 1246 tasks      | elapsed:    6.6s\n",
            "[Parallel(n_jobs=2)]: Done 1796 tasks      | elapsed:    9.6s\n",
            "[Parallel(n_jobs=2)]: Done 2001 out of 2001 | elapsed:   10.7s finished\n",
            "[Parallel(n_jobs=2)]: Using backend ThreadingBackend with 2 concurrent workers.\n",
            "[Parallel(n_jobs=2)]: Done  46 tasks      | elapsed:    0.6s\n",
            "[Parallel(n_jobs=2)]: Done 196 tasks      | elapsed:    2.4s\n",
            "[Parallel(n_jobs=2)]: Done 446 tasks      | elapsed:    5.7s\n",
            "[Parallel(n_jobs=2)]: Done 796 tasks      | elapsed:    9.9s\n",
            "[Parallel(n_jobs=2)]: Done 1246 tasks      | elapsed:   15.3s\n",
            "[Parallel(n_jobs=2)]: Done 1796 tasks      | elapsed:   21.8s\n",
            "[Parallel(n_jobs=2)]: Done 2001 out of 2001 | elapsed:   24.1s finished\n"
          ]
        },
        {
          "name": "stdout",
          "output_type": "stream",
          "text": [
            "[CV 1/1; 40/75] END max_depth=5, max_features=0.5, n_estimators=2001;, score=(train=0.709, test=0.709) total time=10.0min\n",
            "[CV 1/1; 44/75] START max_depth=5, max_features=0.7, n_estimators=1501..........\n"
          ]
        },
        {
          "name": "stderr",
          "output_type": "stream",
          "text": [
            "[Parallel(n_jobs=2)]: Using backend ThreadingBackend with 2 concurrent workers.\n",
            "[Parallel(n_jobs=2)]: Done  46 tasks      | elapsed:   17.9s\n",
            "[Parallel(n_jobs=2)]: Done 446 tasks      | elapsed:  2.6min\n",
            "[Parallel(n_jobs=2)]: Done 196 tasks      | elapsed:  1.1min\n",
            "[Parallel(n_jobs=2)]: Done 446 tasks      | elapsed:  2.6min\n",
            "[Parallel(n_jobs=2)]: Done 796 tasks      | elapsed:  4.7min\n",
            "[Parallel(n_jobs=2)]: Done 1001 out of 1001 | elapsed:  6.0min finished\n",
            "[Parallel(n_jobs=2)]: Using backend ThreadingBackend with 2 concurrent workers.\n",
            "[Parallel(n_jobs=2)]: Done  46 tasks      | elapsed:    0.2s\n",
            "[Parallel(n_jobs=2)]: Done 196 tasks      | elapsed:    0.9s\n",
            "[Parallel(n_jobs=2)]: Done 446 tasks      | elapsed:    2.2s\n",
            "[Parallel(n_jobs=2)]: Done 796 tasks      | elapsed:    3.9s\n",
            "[Parallel(n_jobs=2)]: Done 1001 out of 1001 | elapsed:    5.0s finished\n",
            "[Parallel(n_jobs=2)]: Using backend ThreadingBackend with 2 concurrent workers.\n",
            "[Parallel(n_jobs=2)]: Done  46 tasks      | elapsed:    0.5s\n",
            "[Parallel(n_jobs=2)]: Done 196 tasks      | elapsed:    2.2s\n",
            "[Parallel(n_jobs=2)]: Done 446 tasks      | elapsed:    5.1s\n",
            "[Parallel(n_jobs=2)]: Done 796 tasks      | elapsed:    9.2s\n",
            "[Parallel(n_jobs=2)]: Done 1001 out of 1001 | elapsed:   11.5s finished\n"
          ]
        },
        {
          "name": "stdout",
          "output_type": "stream",
          "text": [
            "[CV 1/1; 43/75] END max_depth=5, max_features=0.7, n_estimators=1001;, score=(train=0.709, test=0.709) total time= 6.1min\n",
            "[CV 1/1; 45/75] START max_depth=5, max_features=0.7, n_estimators=2001..........\n"
          ]
        },
        {
          "name": "stderr",
          "output_type": "stream",
          "text": [
            "[Parallel(n_jobs=2)]: Using backend ThreadingBackend with 2 concurrent workers.\n",
            "[Parallel(n_jobs=2)]: Done  46 tasks      | elapsed:   16.5s\n",
            "[Parallel(n_jobs=2)]: Done 796 tasks      | elapsed:  4.6min\n",
            "[Parallel(n_jobs=2)]: Done 196 tasks      | elapsed:  1.2min\n",
            "[Parallel(n_jobs=2)]: Done 446 tasks      | elapsed:  2.7min\n",
            "[Parallel(n_jobs=2)]: Done 1246 tasks      | elapsed:  7.3min\n",
            "[Parallel(n_jobs=2)]: Done 1501 out of 1501 | elapsed:  8.9min finished\n",
            "[Parallel(n_jobs=2)]: Using backend ThreadingBackend with 2 concurrent workers.\n",
            "[Parallel(n_jobs=2)]: Done  46 tasks      | elapsed:    0.2s\n",
            "[Parallel(n_jobs=2)]: Done 196 tasks      | elapsed:    0.9s\n",
            "[Parallel(n_jobs=2)]: Done 446 tasks      | elapsed:    2.1s\n",
            "[Parallel(n_jobs=2)]: Done 796 tasks      | elapsed:    3.9s\n",
            "[Parallel(n_jobs=2)]: Done 1246 tasks      | elapsed:    6.4s\n",
            "[Parallel(n_jobs=2)]: Done 796 tasks      | elapsed:  4.9min\n",
            "[Parallel(n_jobs=2)]: Done 1501 out of 1501 | elapsed:    7.7s finished\n",
            "[Parallel(n_jobs=2)]: Using backend ThreadingBackend with 2 concurrent workers.\n",
            "[Parallel(n_jobs=2)]: Done  46 tasks      | elapsed:    0.5s\n",
            "[Parallel(n_jobs=2)]: Done 196 tasks      | elapsed:    2.3s\n",
            "[Parallel(n_jobs=2)]: Done 446 tasks      | elapsed:    5.4s\n",
            "[Parallel(n_jobs=2)]: Done 796 tasks      | elapsed:    9.9s\n",
            "[Parallel(n_jobs=2)]: Done 1246 tasks      | elapsed:   15.2s\n",
            "[Parallel(n_jobs=2)]: Done 1501 out of 1501 | elapsed:   18.3s finished\n",
            "[Parallel(n_jobs=2)]: Using backend ThreadingBackend with 2 concurrent workers.\n"
          ]
        },
        {
          "name": "stdout",
          "output_type": "stream",
          "text": [
            "[CV 1/1; 44/75] END max_depth=5, max_features=0.7, n_estimators=1501;, score=(train=0.709, test=0.709) total time= 9.1min\n",
            "[CV 1/1; 46/75] START max_depth=5, max_features=0.9, n_estimators=1.............\n",
            "[CV 1/1; 46/75] END max_depth=5, max_features=0.9, n_estimators=1;, score=(train=0.709, test=0.709) total time=   1.0s\n",
            "[CV 1/1; 47/75] START max_depth=5, max_features=0.9, n_estimators=501...........\n"
          ]
        },
        {
          "name": "stderr",
          "output_type": "stream",
          "text": [
            "[Parallel(n_jobs=2)]: Using backend ThreadingBackend with 2 concurrent workers.\n",
            "[Parallel(n_jobs=2)]: Done  46 tasks      | elapsed:   23.3s\n",
            "[Parallel(n_jobs=2)]: Done 196 tasks      | elapsed:  1.6min\n",
            "[Parallel(n_jobs=2)]: Done 1246 tasks      | elapsed:  7.7min\n",
            "[Parallel(n_jobs=2)]: Done 446 tasks      | elapsed:  3.4min\n",
            "[Parallel(n_jobs=2)]: Done 501 out of 501 | elapsed:  3.8min finished\n",
            "[Parallel(n_jobs=2)]: Using backend ThreadingBackend with 2 concurrent workers.\n",
            "[Parallel(n_jobs=2)]: Done  46 tasks      | elapsed:    0.2s\n",
            "[Parallel(n_jobs=2)]: Done 196 tasks      | elapsed:    1.0s\n",
            "[Parallel(n_jobs=2)]: Done 446 tasks      | elapsed:    2.2s\n",
            "[Parallel(n_jobs=2)]: Done 501 out of 501 | elapsed:    2.4s finished\n",
            "[Parallel(n_jobs=2)]: Using backend ThreadingBackend with 2 concurrent workers.\n",
            "[Parallel(n_jobs=2)]: Done  46 tasks      | elapsed:    0.6s\n",
            "[Parallel(n_jobs=2)]: Done 196 tasks      | elapsed:    2.3s\n",
            "[Parallel(n_jobs=2)]: Done 446 tasks      | elapsed:    5.3s\n",
            "[Parallel(n_jobs=2)]: Done 501 out of 501 | elapsed:    5.9s finished\n"
          ]
        },
        {
          "name": "stdout",
          "output_type": "stream",
          "text": [
            "[CV 1/1; 47/75] END max_depth=5, max_features=0.9, n_estimators=501;, score=(train=0.709, test=0.709) total time= 3.9min\n",
            "[CV 1/1; 48/75] START max_depth=5, max_features=0.9, n_estimators=1001..........\n"
          ]
        },
        {
          "name": "stderr",
          "output_type": "stream",
          "text": [
            "[Parallel(n_jobs=2)]: Using backend ThreadingBackend with 2 concurrent workers.\n",
            "[Parallel(n_jobs=2)]: Done  46 tasks      | elapsed:   20.2s\n",
            "[Parallel(n_jobs=2)]: Done 196 tasks      | elapsed:  1.5min\n",
            "[Parallel(n_jobs=2)]: Done 1796 tasks      | elapsed: 10.9min\n",
            "[Parallel(n_jobs=2)]: Done 2001 out of 2001 | elapsed: 12.1min finished\n",
            "[Parallel(n_jobs=2)]: Using backend ThreadingBackend with 2 concurrent workers.\n",
            "[Parallel(n_jobs=2)]: Done  46 tasks      | elapsed:    0.2s\n",
            "[Parallel(n_jobs=2)]: Done 196 tasks      | elapsed:    1.0s\n",
            "[Parallel(n_jobs=2)]: Done 446 tasks      | elapsed:    2.2s\n",
            "[Parallel(n_jobs=2)]: Done 796 tasks      | elapsed:    4.0s\n",
            "[Parallel(n_jobs=2)]: Done 1246 tasks      | elapsed:    6.6s\n",
            "[Parallel(n_jobs=2)]: Done 1796 tasks      | elapsed:    9.6s\n",
            "[Parallel(n_jobs=2)]: Done 2001 out of 2001 | elapsed:   10.7s finished\n",
            "[Parallel(n_jobs=2)]: Using backend ThreadingBackend with 2 concurrent workers.\n",
            "[Parallel(n_jobs=2)]: Done  46 tasks      | elapsed:    0.6s\n",
            "[Parallel(n_jobs=2)]: Done 196 tasks      | elapsed:    2.3s\n",
            "[Parallel(n_jobs=2)]: Done 446 tasks      | elapsed:    5.2s\n",
            "[Parallel(n_jobs=2)]: Done 796 tasks      | elapsed:    9.2s\n",
            "[Parallel(n_jobs=2)]: Done 446 tasks      | elapsed:  3.3min\n",
            "[Parallel(n_jobs=2)]: Done 1246 tasks      | elapsed:   14.9s\n",
            "[Parallel(n_jobs=2)]: Done 1796 tasks      | elapsed:   21.6s\n",
            "[Parallel(n_jobs=2)]: Done 2001 out of 2001 | elapsed:   24.2s finished\n"
          ]
        },
        {
          "name": "stdout",
          "output_type": "stream",
          "text": [
            "[CV 1/1; 45/75] END max_depth=5, max_features=0.7, n_estimators=2001;, score=(train=0.709, test=0.709) total time=12.3min\n",
            "[CV 1/1; 49/75] START max_depth=5, max_features=0.9, n_estimators=1501..........\n"
          ]
        },
        {
          "name": "stderr",
          "output_type": "stream",
          "text": [
            "[Parallel(n_jobs=2)]: Using backend ThreadingBackend with 2 concurrent workers.\n",
            "[Parallel(n_jobs=2)]: Done  46 tasks      | elapsed:   20.4s\n",
            "[Parallel(n_jobs=2)]: Done 196 tasks      | elapsed:  1.4min\n",
            "[Parallel(n_jobs=2)]: Done 796 tasks      | elapsed:  5.8min\n",
            "[Parallel(n_jobs=2)]: Done 446 tasks      | elapsed:  3.3min\n",
            "[Parallel(n_jobs=2)]: Done 1001 out of 1001 | elapsed:  7.4min finished\n",
            "[Parallel(n_jobs=2)]: Using backend ThreadingBackend with 2 concurrent workers.\n",
            "[Parallel(n_jobs=2)]: Done  46 tasks      | elapsed:    0.2s\n",
            "[Parallel(n_jobs=2)]: Done 196 tasks      | elapsed:    0.9s\n",
            "[Parallel(n_jobs=2)]: Done 446 tasks      | elapsed:    2.2s\n",
            "[Parallel(n_jobs=2)]: Done 796 tasks      | elapsed:    3.9s\n",
            "[Parallel(n_jobs=2)]: Done 1001 out of 1001 | elapsed:    5.0s finished\n",
            "[Parallel(n_jobs=2)]: Using backend ThreadingBackend with 2 concurrent workers.\n",
            "[Parallel(n_jobs=2)]: Done  46 tasks      | elapsed:    0.6s\n",
            "[Parallel(n_jobs=2)]: Done 196 tasks      | elapsed:    2.3s\n",
            "[Parallel(n_jobs=2)]: Done 446 tasks      | elapsed:    5.6s\n",
            "[Parallel(n_jobs=2)]: Done 796 tasks      | elapsed:   10.0s\n",
            "[Parallel(n_jobs=2)]: Done 1001 out of 1001 | elapsed:   12.4s finished\n"
          ]
        },
        {
          "name": "stdout",
          "output_type": "stream",
          "text": [
            "[CV 1/1; 48/75] END max_depth=5, max_features=0.9, n_estimators=1001;, score=(train=0.709, test=0.709) total time= 7.5min\n",
            "[CV 1/1; 50/75] START max_depth=5, max_features=0.9, n_estimators=2001..........\n"
          ]
        },
        {
          "name": "stderr",
          "output_type": "stream",
          "text": [
            "[Parallel(n_jobs=2)]: Using backend ThreadingBackend with 2 concurrent workers.\n",
            "[Parallel(n_jobs=2)]: Done  46 tasks      | elapsed:   22.0s\n",
            "[Parallel(n_jobs=2)]: Done 196 tasks      | elapsed:  1.5min\n",
            "[Parallel(n_jobs=2)]: Done 796 tasks      | elapsed:  5.8min\n",
            "[Parallel(n_jobs=2)]: Done 446 tasks      | elapsed:  3.3min\n",
            "[Parallel(n_jobs=2)]: Done 1246 tasks      | elapsed:  9.2min\n",
            "[Parallel(n_jobs=2)]: Done 796 tasks      | elapsed:  5.9min\n",
            "[Parallel(n_jobs=2)]: Done 1501 out of 1501 | elapsed: 11.1min finished\n",
            "[Parallel(n_jobs=2)]: Using backend ThreadingBackend with 2 concurrent workers.\n",
            "[Parallel(n_jobs=2)]: Done  46 tasks      | elapsed:    0.3s\n",
            "[Parallel(n_jobs=2)]: Done 196 tasks      | elapsed:    1.0s\n",
            "[Parallel(n_jobs=2)]: Done 446 tasks      | elapsed:    2.3s\n",
            "[Parallel(n_jobs=2)]: Done 796 tasks      | elapsed:    4.2s\n",
            "[Parallel(n_jobs=2)]: Done 1246 tasks      | elapsed:    6.6s\n",
            "[Parallel(n_jobs=2)]: Done 1501 out of 1501 | elapsed:    8.0s finished\n",
            "[Parallel(n_jobs=2)]: Using backend ThreadingBackend with 2 concurrent workers.\n",
            "[Parallel(n_jobs=2)]: Done  46 tasks      | elapsed:    0.5s\n",
            "[Parallel(n_jobs=2)]: Done 196 tasks      | elapsed:    2.3s\n",
            "[Parallel(n_jobs=2)]: Done 446 tasks      | elapsed:    5.4s\n",
            "[Parallel(n_jobs=2)]: Done 796 tasks      | elapsed:    9.5s\n",
            "[Parallel(n_jobs=2)]: Done 1246 tasks      | elapsed:   14.8s\n",
            "[Parallel(n_jobs=2)]: Done 1501 out of 1501 | elapsed:   17.8s finished\n",
            "[Parallel(n_jobs=2)]: Using backend ThreadingBackend with 2 concurrent workers.\n"
          ]
        },
        {
          "name": "stdout",
          "output_type": "stream",
          "text": [
            "[CV 1/1; 49/75] END max_depth=5, max_features=0.9, n_estimators=1501;, score=(train=0.709, test=0.709) total time=11.2min\n",
            "[CV 1/1; 51/75] START max_depth=7, max_features=0.1, n_estimators=1.............\n",
            "[CV 1/1; 51/75] END max_depth=7, max_features=0.1, n_estimators=1;, score=(train=0.709, test=0.709) total time=   0.3s\n",
            "[CV 1/1; 52/75] START max_depth=7, max_features=0.1, n_estimators=501...........\n"
          ]
        },
        {
          "name": "stderr",
          "output_type": "stream",
          "text": [
            "[Parallel(n_jobs=2)]: Using backend ThreadingBackend with 2 concurrent workers.\n",
            "[Parallel(n_jobs=2)]: Done  46 tasks      | elapsed:    4.4s\n",
            "[Parallel(n_jobs=2)]: Done 196 tasks      | elapsed:   18.3s\n",
            "[Parallel(n_jobs=2)]: Done 446 tasks      | elapsed:   42.4s\n",
            "[Parallel(n_jobs=2)]: Done 501 out of 501 | elapsed:   47.3s finished\n",
            "[Parallel(n_jobs=2)]: Using backend ThreadingBackend with 2 concurrent workers.\n",
            "[Parallel(n_jobs=2)]: Done  46 tasks      | elapsed:    0.2s\n",
            "[Parallel(n_jobs=2)]: Done 196 tasks      | elapsed:    1.1s\n",
            "[Parallel(n_jobs=2)]: Done 446 tasks      | elapsed:    2.6s\n",
            "[Parallel(n_jobs=2)]: Done 501 out of 501 | elapsed:    2.9s finished\n",
            "[Parallel(n_jobs=2)]: Using backend ThreadingBackend with 2 concurrent workers.\n",
            "[Parallel(n_jobs=2)]: Done  46 tasks      | elapsed:    0.6s\n",
            "[Parallel(n_jobs=2)]: Done 196 tasks      | elapsed:    2.6s\n",
            "[Parallel(n_jobs=2)]: Done 446 tasks      | elapsed:    6.1s\n",
            "[Parallel(n_jobs=2)]: Done 501 out of 501 | elapsed:    7.0s finished\n"
          ]
        },
        {
          "name": "stdout",
          "output_type": "stream",
          "text": [
            "[CV 1/1; 52/75] END max_depth=7, max_features=0.1, n_estimators=501;, score=(train=0.709, test=0.709) total time=  50.6s\n",
            "[CV 1/1; 53/75] START max_depth=7, max_features=0.1, n_estimators=1001..........\n"
          ]
        },
        {
          "name": "stderr",
          "output_type": "stream",
          "text": [
            "[Parallel(n_jobs=2)]: Using backend ThreadingBackend with 2 concurrent workers.\n",
            "[Parallel(n_jobs=2)]: Done  46 tasks      | elapsed:    5.2s\n",
            "[Parallel(n_jobs=2)]: Done 196 tasks      | elapsed:   19.4s\n",
            "[Parallel(n_jobs=2)]: Done 446 tasks      | elapsed:   42.6s\n",
            "[Parallel(n_jobs=2)]: Done 1246 tasks      | elapsed:  9.2min\n",
            "[Parallel(n_jobs=2)]: Done 796 tasks      | elapsed:  1.3min\n",
            "[Parallel(n_jobs=2)]: Done 1001 out of 1001 | elapsed:  1.6min finished\n",
            "[Parallel(n_jobs=2)]: Using backend ThreadingBackend with 2 concurrent workers.\n",
            "[Parallel(n_jobs=2)]: Done  46 tasks      | elapsed:    0.2s\n",
            "[Parallel(n_jobs=2)]: Done 196 tasks      | elapsed:    1.1s\n",
            "[Parallel(n_jobs=2)]: Done 446 tasks      | elapsed:    2.4s\n",
            "[Parallel(n_jobs=2)]: Done 796 tasks      | elapsed:    4.4s\n",
            "[Parallel(n_jobs=2)]: Done 1001 out of 1001 | elapsed:    5.7s finished\n",
            "[Parallel(n_jobs=2)]: Using backend ThreadingBackend with 2 concurrent workers.\n",
            "[Parallel(n_jobs=2)]: Done  46 tasks      | elapsed:    0.6s\n",
            "[Parallel(n_jobs=2)]: Done 196 tasks      | elapsed:    2.6s\n",
            "[Parallel(n_jobs=2)]: Done 446 tasks      | elapsed:    5.9s\n",
            "[Parallel(n_jobs=2)]: Done 796 tasks      | elapsed:   10.5s\n",
            "[Parallel(n_jobs=2)]: Done 1001 out of 1001 | elapsed:   13.1s finished\n"
          ]
        },
        {
          "name": "stdout",
          "output_type": "stream",
          "text": [
            "[CV 1/1; 53/75] END max_depth=7, max_features=0.1, n_estimators=1001;, score=(train=0.709, test=0.709) total time= 1.7min\n",
            "[CV 1/1; 54/75] START max_depth=7, max_features=0.1, n_estimators=1501..........\n"
          ]
        },
        {
          "name": "stderr",
          "output_type": "stream",
          "text": [
            "[Parallel(n_jobs=2)]: Using backend ThreadingBackend with 2 concurrent workers.\n",
            "[Parallel(n_jobs=2)]: Done  46 tasks      | elapsed:    4.2s\n",
            "[Parallel(n_jobs=2)]: Done 196 tasks      | elapsed:   18.7s\n",
            "[Parallel(n_jobs=2)]: Done 446 tasks      | elapsed:   41.4s\n",
            "[Parallel(n_jobs=2)]: Done 796 tasks      | elapsed:  1.3min\n",
            "[Parallel(n_jobs=2)]: Done 1246 tasks      | elapsed:  2.0min\n",
            "[Parallel(n_jobs=2)]: Done 1501 out of 1501 | elapsed:  2.4min finished\n",
            "[Parallel(n_jobs=2)]: Using backend ThreadingBackend with 2 concurrent workers.\n",
            "[Parallel(n_jobs=2)]: Done  46 tasks      | elapsed:    0.3s\n",
            "[Parallel(n_jobs=2)]: Done 196 tasks      | elapsed:    1.1s\n",
            "[Parallel(n_jobs=2)]: Done 446 tasks      | elapsed:    2.6s\n",
            "[Parallel(n_jobs=2)]: Done 796 tasks      | elapsed:    4.8s\n",
            "[Parallel(n_jobs=2)]: Done 1246 tasks      | elapsed:    7.6s\n",
            "[Parallel(n_jobs=2)]: Done 1501 out of 1501 | elapsed:    9.2s finished\n",
            "[Parallel(n_jobs=2)]: Using backend ThreadingBackend with 2 concurrent workers.\n",
            "[Parallel(n_jobs=2)]: Done  46 tasks      | elapsed:    0.6s\n",
            "[Parallel(n_jobs=2)]: Done 196 tasks      | elapsed:    2.7s\n",
            "[Parallel(n_jobs=2)]: Done 446 tasks      | elapsed:    6.2s\n",
            "[Parallel(n_jobs=2)]: Done 796 tasks      | elapsed:   11.2s\n",
            "[Parallel(n_jobs=2)]: Done 1246 tasks      | elapsed:   18.4s\n",
            "[Parallel(n_jobs=2)]: Done 1501 out of 1501 | elapsed:   23.1s finished\n"
          ]
        },
        {
          "name": "stdout",
          "output_type": "stream",
          "text": [
            "[CV 1/1; 54/75] END max_depth=7, max_features=0.1, n_estimators=1501;, score=(train=0.709, test=0.709) total time= 2.6min\n",
            "[CV 1/1; 55/75] START max_depth=7, max_features=0.1, n_estimators=2001..........\n"
          ]
        },
        {
          "name": "stderr",
          "output_type": "stream",
          "text": [
            "[Parallel(n_jobs=2)]: Using backend ThreadingBackend with 2 concurrent workers.\n",
            "[Parallel(n_jobs=2)]: Done  46 tasks      | elapsed:    6.9s\n",
            "[Parallel(n_jobs=2)]: Done 1796 tasks      | elapsed: 13.6min\n",
            "[Parallel(n_jobs=2)]: Done 196 tasks      | elapsed:   27.2s\n",
            "[Parallel(n_jobs=2)]: Done 446 tasks      | elapsed:  1.0min\n",
            "[Parallel(n_jobs=2)]: Done 796 tasks      | elapsed:  1.8min\n",
            "[Parallel(n_jobs=2)]: Done 2001 out of 2001 | elapsed: 15.6min finished\n",
            "[Parallel(n_jobs=2)]: Using backend ThreadingBackend with 2 concurrent workers.\n",
            "[Parallel(n_jobs=2)]: Done  46 tasks      | elapsed:    0.2s\n",
            "[Parallel(n_jobs=2)]: Done 196 tasks      | elapsed:    1.0s\n",
            "[Parallel(n_jobs=2)]: Done 446 tasks      | elapsed:    2.4s\n",
            "[Parallel(n_jobs=2)]: Done 796 tasks      | elapsed:    4.3s\n",
            "[Parallel(n_jobs=2)]: Done 1246 tasks      | elapsed:    6.8s\n",
            "[Parallel(n_jobs=2)]: Done 1796 tasks      | elapsed:    9.7s\n",
            "[Parallel(n_jobs=2)]: Done 1246 tasks      | elapsed:  2.6min\n",
            "[Parallel(n_jobs=2)]: Done 2001 out of 2001 | elapsed:   10.8s finished\n",
            "[Parallel(n_jobs=2)]: Using backend ThreadingBackend with 2 concurrent workers.\n",
            "[Parallel(n_jobs=2)]: Done  46 tasks      | elapsed:    0.7s\n",
            "[Parallel(n_jobs=2)]: Done 196 tasks      | elapsed:    2.7s\n",
            "[Parallel(n_jobs=2)]: Done 446 tasks      | elapsed:    5.8s\n",
            "[Parallel(n_jobs=2)]: Done 796 tasks      | elapsed:   10.1s\n",
            "[Parallel(n_jobs=2)]: Done 1246 tasks      | elapsed:   15.7s\n",
            "[Parallel(n_jobs=2)]: Done 1796 tasks      | elapsed:   22.6s\n",
            "[Parallel(n_jobs=2)]: Done 2001 out of 2001 | elapsed:   25.2s finished\n"
          ]
        },
        {
          "name": "stdout",
          "output_type": "stream",
          "text": [
            "[CV 1/1; 50/75] END max_depth=5, max_features=0.9, n_estimators=2001;, score=(train=0.709, test=0.709) total time=15.8min\n",
            "[CV 1/1; 56/75] START max_depth=7, max_features=0.3, n_estimators=1.............\n"
          ]
        },
        {
          "name": "stderr",
          "output_type": "stream",
          "text": [
            "[Parallel(n_jobs=2)]: Using backend ThreadingBackend with 2 concurrent workers.\n"
          ]
        },
        {
          "name": "stdout",
          "output_type": "stream",
          "text": [
            "[CV 1/1; 56/75] END max_depth=7, max_features=0.3, n_estimators=1;, score=(train=0.709, test=0.708) total time=   0.7s\n",
            "[CV 1/1; 57/75] START max_depth=7, max_features=0.3, n_estimators=501...........\n"
          ]
        },
        {
          "name": "stderr",
          "output_type": "stream",
          "text": [
            "[Parallel(n_jobs=2)]: Using backend ThreadingBackend with 2 concurrent workers.\n",
            "[Parallel(n_jobs=2)]: Done  46 tasks      | elapsed:   12.0s\n",
            "[Parallel(n_jobs=2)]: Done 1796 tasks      | elapsed:  3.6min\n",
            "[Parallel(n_jobs=2)]: Done 196 tasks      | elapsed:   48.3s\n",
            "[Parallel(n_jobs=2)]: Done 2001 out of 2001 | elapsed:  4.0min finished\n",
            "[Parallel(n_jobs=2)]: Using backend ThreadingBackend with 2 concurrent workers.\n",
            "[Parallel(n_jobs=2)]: Done  46 tasks      | elapsed:    0.3s\n",
            "[Parallel(n_jobs=2)]: Done 196 tasks      | elapsed:    1.1s\n",
            "[Parallel(n_jobs=2)]: Done 446 tasks      | elapsed:    2.7s\n",
            "[Parallel(n_jobs=2)]: Done 796 tasks      | elapsed:    4.8s\n",
            "[Parallel(n_jobs=2)]: Done 1246 tasks      | elapsed:    7.6s\n",
            "[Parallel(n_jobs=2)]: Done 1796 tasks      | elapsed:   11.0s\n",
            "[Parallel(n_jobs=2)]: Done 2001 out of 2001 | elapsed:   12.2s finished\n",
            "[Parallel(n_jobs=2)]: Using backend ThreadingBackend with 2 concurrent workers.\n",
            "[Parallel(n_jobs=2)]: Done  46 tasks      | elapsed:    0.7s\n",
            "[Parallel(n_jobs=2)]: Done 196 tasks      | elapsed:    2.8s\n",
            "[Parallel(n_jobs=2)]: Done 446 tasks      | elapsed:    6.3s\n",
            "[Parallel(n_jobs=2)]: Done 796 tasks      | elapsed:   11.1s\n",
            "[Parallel(n_jobs=2)]: Done 1246 tasks      | elapsed:   17.4s\n",
            "[Parallel(n_jobs=2)]: Done 1796 tasks      | elapsed:   24.9s\n",
            "[Parallel(n_jobs=2)]: Done 2001 out of 2001 | elapsed:   27.7s finished\n"
          ]
        },
        {
          "name": "stdout",
          "output_type": "stream",
          "text": [
            "[CV 1/1; 55/75] END max_depth=7, max_features=0.1, n_estimators=2001;, score=(train=0.709, test=0.709) total time= 4.2min\n",
            "[CV 1/1; 58/75] START max_depth=7, max_features=0.3, n_estimators=1001..........\n"
          ]
        },
        {
          "name": "stderr",
          "output_type": "stream",
          "text": [
            "[Parallel(n_jobs=2)]: Using backend ThreadingBackend with 2 concurrent workers.\n",
            "[Parallel(n_jobs=2)]: Done  46 tasks      | elapsed:   11.0s\n",
            "[Parallel(n_jobs=2)]: Done 446 tasks      | elapsed:  1.7min\n",
            "[Parallel(n_jobs=2)]: Done 501 out of 501 | elapsed:  1.9min finished\n",
            "[Parallel(n_jobs=2)]: Using backend ThreadingBackend with 2 concurrent workers.\n",
            "[Parallel(n_jobs=2)]: Done  46 tasks      | elapsed:    0.3s\n",
            "[Parallel(n_jobs=2)]: Done 196 tasks      | elapsed:    1.3s\n",
            "[Parallel(n_jobs=2)]: Done 446 tasks      | elapsed:    2.9s\n",
            "[Parallel(n_jobs=2)]: Done 501 out of 501 | elapsed:    3.3s finished\n",
            "[Parallel(n_jobs=2)]: Using backend ThreadingBackend with 2 concurrent workers.\n",
            "[Parallel(n_jobs=2)]: Done  46 tasks      | elapsed:    0.7s\n",
            "[Parallel(n_jobs=2)]: Done 196 tasks      | elapsed:    3.0s\n",
            "[Parallel(n_jobs=2)]: Done 446 tasks      | elapsed:    6.9s\n",
            "[Parallel(n_jobs=2)]: Done 501 out of 501 | elapsed:    7.7s finished\n"
          ]
        },
        {
          "name": "stdout",
          "output_type": "stream",
          "text": [
            "[CV 1/1; 57/75] END max_depth=7, max_features=0.3, n_estimators=501;, score=(train=0.709, test=0.709) total time= 2.0min\n",
            "[CV 1/1; 59/75] START max_depth=7, max_features=0.3, n_estimators=1501..........\n"
          ]
        },
        {
          "name": "stderr",
          "output_type": "stream",
          "text": [
            "[Parallel(n_jobs=2)]: Using backend ThreadingBackend with 2 concurrent workers.\n",
            "[Parallel(n_jobs=2)]: Done 196 tasks      | elapsed:   43.8s\n",
            "[Parallel(n_jobs=2)]: Done  46 tasks      | elapsed:   10.3s\n",
            "[Parallel(n_jobs=2)]: Done 196 tasks      | elapsed:   42.9s\n",
            "[Parallel(n_jobs=2)]: Done 446 tasks      | elapsed:  1.7min\n",
            "[Parallel(n_jobs=2)]: Done 446 tasks      | elapsed:  1.7min\n",
            "[Parallel(n_jobs=2)]: Done 796 tasks      | elapsed:  3.0min\n",
            "[Parallel(n_jobs=2)]: Done 796 tasks      | elapsed:  3.0min\n",
            "[Parallel(n_jobs=2)]: Done 1001 out of 1001 | elapsed:  3.8min finished\n",
            "[Parallel(n_jobs=2)]: Using backend ThreadingBackend with 2 concurrent workers.\n",
            "[Parallel(n_jobs=2)]: Done  46 tasks      | elapsed:    0.3s\n",
            "[Parallel(n_jobs=2)]: Done 196 tasks      | elapsed:    1.2s\n",
            "[Parallel(n_jobs=2)]: Done 446 tasks      | elapsed:    2.8s\n",
            "[Parallel(n_jobs=2)]: Done 796 tasks      | elapsed:    5.1s\n",
            "[Parallel(n_jobs=2)]: Done 1001 out of 1001 | elapsed:    6.4s finished\n",
            "[Parallel(n_jobs=2)]: Using backend ThreadingBackend with 2 concurrent workers.\n",
            "[Parallel(n_jobs=2)]: Done  46 tasks      | elapsed:    0.7s\n",
            "[Parallel(n_jobs=2)]: Done 196 tasks      | elapsed:    2.9s\n",
            "[Parallel(n_jobs=2)]: Done 446 tasks      | elapsed:    6.7s\n",
            "[Parallel(n_jobs=2)]: Done 796 tasks      | elapsed:   12.0s\n",
            "[Parallel(n_jobs=2)]: Done 1001 out of 1001 | elapsed:   15.1s finished\n"
          ]
        },
        {
          "name": "stdout",
          "output_type": "stream",
          "text": [
            "[CV 1/1; 58/75] END max_depth=7, max_features=0.3, n_estimators=1001;, score=(train=0.709, test=0.709) total time= 3.9min\n",
            "[CV 1/1; 60/75] START max_depth=7, max_features=0.3, n_estimators=2001..........\n"
          ]
        },
        {
          "name": "stderr",
          "output_type": "stream",
          "text": [
            "[Parallel(n_jobs=2)]: Using backend ThreadingBackend with 2 concurrent workers.\n",
            "[Parallel(n_jobs=2)]: Done  46 tasks      | elapsed:   12.3s\n",
            "[Parallel(n_jobs=2)]: Done 196 tasks      | elapsed:   48.1s\n",
            "[Parallel(n_jobs=2)]: Done 1246 tasks      | elapsed:  4.7min\n",
            "[Parallel(n_jobs=2)]: Done 446 tasks      | elapsed:  1.7min\n",
            "[Parallel(n_jobs=2)]: Done 1501 out of 1501 | elapsed:  5.6min finished\n",
            "[Parallel(n_jobs=2)]: Using backend ThreadingBackend with 2 concurrent workers.\n",
            "[Parallel(n_jobs=2)]: Done  46 tasks      | elapsed:    0.3s\n",
            "[Parallel(n_jobs=2)]: Done 196 tasks      | elapsed:    1.2s\n",
            "[Parallel(n_jobs=2)]: Done 446 tasks      | elapsed:    2.7s\n",
            "[Parallel(n_jobs=2)]: Done 796 tasks      | elapsed:    5.0s\n",
            "[Parallel(n_jobs=2)]: Done 1246 tasks      | elapsed:    7.8s\n",
            "[Parallel(n_jobs=2)]: Done 1501 out of 1501 | elapsed:    9.6s finished\n",
            "[Parallel(n_jobs=2)]: Using backend ThreadingBackend with 2 concurrent workers.\n",
            "[Parallel(n_jobs=2)]: Done  46 tasks      | elapsed:    0.8s\n",
            "[Parallel(n_jobs=2)]: Done 196 tasks      | elapsed:    3.1s\n",
            "[Parallel(n_jobs=2)]: Done 446 tasks      | elapsed:    6.8s\n",
            "[Parallel(n_jobs=2)]: Done 796 tasks      | elapsed:   11.9s\n",
            "[Parallel(n_jobs=2)]: Done 1246 tasks      | elapsed:   18.4s\n",
            "[Parallel(n_jobs=2)]: Done 1501 out of 1501 | elapsed:   22.1s finished\n",
            "[Parallel(n_jobs=2)]: Using backend ThreadingBackend with 2 concurrent workers.\n"
          ]
        },
        {
          "name": "stdout",
          "output_type": "stream",
          "text": [
            "[CV 1/1; 59/75] END max_depth=7, max_features=0.3, n_estimators=1501;, score=(train=0.709, test=0.709) total time= 5.8min\n",
            "[CV 1/1; 61/75] START max_depth=7, max_features=0.5, n_estimators=1.............\n",
            "[CV 1/1; 61/75] END max_depth=7, max_features=0.5, n_estimators=1;, score=(train=0.709, test=0.708) total time=   0.8s\n",
            "[CV 1/1; 62/75] START max_depth=7, max_features=0.5, n_estimators=501...........\n"
          ]
        },
        {
          "name": "stderr",
          "output_type": "stream",
          "text": [
            "[Parallel(n_jobs=2)]: Using backend ThreadingBackend with 2 concurrent workers.\n",
            "[Parallel(n_jobs=2)]: Done  46 tasks      | elapsed:   16.1s\n",
            "[Parallel(n_jobs=2)]: Done 796 tasks      | elapsed:  3.0min\n",
            "[Parallel(n_jobs=2)]: Done 196 tasks      | elapsed:  1.1min\n",
            "[Parallel(n_jobs=2)]: Done 1246 tasks      | elapsed:  4.6min\n",
            "[Parallel(n_jobs=2)]: Done 446 tasks      | elapsed:  2.5min\n",
            "[Parallel(n_jobs=2)]: Done 501 out of 501 | elapsed:  2.8min finished\n",
            "[Parallel(n_jobs=2)]: Using backend ThreadingBackend with 2 concurrent workers.\n",
            "[Parallel(n_jobs=2)]: Done  46 tasks      | elapsed:    0.3s\n",
            "[Parallel(n_jobs=2)]: Done 196 tasks      | elapsed:    1.2s\n",
            "[Parallel(n_jobs=2)]: Done 446 tasks      | elapsed:    2.8s\n",
            "[Parallel(n_jobs=2)]: Done 501 out of 501 | elapsed:    3.1s finished\n",
            "[Parallel(n_jobs=2)]: Using backend ThreadingBackend with 2 concurrent workers.\n",
            "[Parallel(n_jobs=2)]: Done  46 tasks      | elapsed:    0.7s\n",
            "[Parallel(n_jobs=2)]: Done 196 tasks      | elapsed:    3.1s\n",
            "[Parallel(n_jobs=2)]: Done 446 tasks      | elapsed:    6.9s\n",
            "[Parallel(n_jobs=2)]: Done 501 out of 501 | elapsed:    7.7s finished\n"
          ]
        },
        {
          "name": "stdout",
          "output_type": "stream",
          "text": [
            "[CV 1/1; 62/75] END max_depth=7, max_features=0.5, n_estimators=501;, score=(train=0.710, test=0.709) total time= 2.9min\n",
            "[CV 1/1; 63/75] START max_depth=7, max_features=0.5, n_estimators=1001..........\n"
          ]
        },
        {
          "name": "stderr",
          "output_type": "stream",
          "text": [
            "[Parallel(n_jobs=2)]: Using backend ThreadingBackend with 2 concurrent workers.\n",
            "[Parallel(n_jobs=2)]: Done  46 tasks      | elapsed:   15.8s\n",
            "[Parallel(n_jobs=2)]: Done 1796 tasks      | elapsed:  6.6min\n",
            "[Parallel(n_jobs=2)]: Done 196 tasks      | elapsed:  1.1min\n",
            "[Parallel(n_jobs=2)]: Done 2001 out of 2001 | elapsed:  7.3min finished\n",
            "[Parallel(n_jobs=2)]: Using backend ThreadingBackend with 2 concurrent workers.\n",
            "[Parallel(n_jobs=2)]: Done  46 tasks      | elapsed:    0.3s\n",
            "[Parallel(n_jobs=2)]: Done 196 tasks      | elapsed:    1.2s\n",
            "[Parallel(n_jobs=2)]: Done 446 tasks      | elapsed:    2.7s\n",
            "[Parallel(n_jobs=2)]: Done 796 tasks      | elapsed:    4.9s\n",
            "[Parallel(n_jobs=2)]: Done 1246 tasks      | elapsed:    7.7s\n",
            "[Parallel(n_jobs=2)]: Done 1796 tasks      | elapsed:   11.2s\n",
            "[Parallel(n_jobs=2)]: Done 2001 out of 2001 | elapsed:   12.5s finished\n",
            "[Parallel(n_jobs=2)]: Using backend ThreadingBackend with 2 concurrent workers.\n",
            "[Parallel(n_jobs=2)]: Done  46 tasks      | elapsed:    0.6s\n",
            "[Parallel(n_jobs=2)]: Done 196 tasks      | elapsed:    2.8s\n",
            "[Parallel(n_jobs=2)]: Done 446 tasks      | elapsed:    6.3s\n",
            "[Parallel(n_jobs=2)]: Done 796 tasks      | elapsed:   11.4s\n",
            "[Parallel(n_jobs=2)]: Done 1246 tasks      | elapsed:   18.1s\n",
            "[Parallel(n_jobs=2)]: Done 1796 tasks      | elapsed:   26.0s\n",
            "[Parallel(n_jobs=2)]: Done 2001 out of 2001 | elapsed:   28.9s finished\n"
          ]
        },
        {
          "name": "stdout",
          "output_type": "stream",
          "text": [
            "[CV 1/1; 60/75] END max_depth=7, max_features=0.3, n_estimators=2001;, score=(train=0.709, test=0.709) total time= 7.6min\n",
            "[CV 1/1; 64/75] START max_depth=7, max_features=0.5, n_estimators=1501..........\n"
          ]
        },
        {
          "name": "stderr",
          "output_type": "stream",
          "text": [
            "[Parallel(n_jobs=2)]: Using backend ThreadingBackend with 2 concurrent workers.\n",
            "[Parallel(n_jobs=2)]: Done 446 tasks      | elapsed:  2.5min\n",
            "[Parallel(n_jobs=2)]: Done  46 tasks      | elapsed:   15.3s\n",
            "[Parallel(n_jobs=2)]: Done 196 tasks      | elapsed:  1.1min\n",
            "[Parallel(n_jobs=2)]: Done 796 tasks      | elapsed:  4.4min\n",
            "[Parallel(n_jobs=2)]: Done 446 tasks      | elapsed:  2.5min\n",
            "[Parallel(n_jobs=2)]: Done 1001 out of 1001 | elapsed:  5.6min finished\n",
            "[Parallel(n_jobs=2)]: Using backend ThreadingBackend with 2 concurrent workers.\n",
            "[Parallel(n_jobs=2)]: Done  46 tasks      | elapsed:    0.3s\n",
            "[Parallel(n_jobs=2)]: Done 196 tasks      | elapsed:    1.2s\n",
            "[Parallel(n_jobs=2)]: Done 446 tasks      | elapsed:    2.8s\n",
            "[Parallel(n_jobs=2)]: Done 796 tasks      | elapsed:    5.1s\n",
            "[Parallel(n_jobs=2)]: Done 1001 out of 1001 | elapsed:    6.4s finished\n",
            "[Parallel(n_jobs=2)]: Using backend ThreadingBackend with 2 concurrent workers.\n",
            "[Parallel(n_jobs=2)]: Done  46 tasks      | elapsed:    0.6s\n",
            "[Parallel(n_jobs=2)]: Done 196 tasks      | elapsed:    2.8s\n",
            "[Parallel(n_jobs=2)]: Done 446 tasks      | elapsed:    6.5s\n",
            "[Parallel(n_jobs=2)]: Done 796 tasks      | elapsed:   11.6s\n",
            "[Parallel(n_jobs=2)]: Done 1001 out of 1001 | elapsed:   14.5s finished\n"
          ]
        },
        {
          "name": "stdout",
          "output_type": "stream",
          "text": [
            "[CV 1/1; 63/75] END max_depth=7, max_features=0.5, n_estimators=1001;, score=(train=0.710, test=0.709) total time= 5.7min\n",
            "[CV 1/1; 65/75] START max_depth=7, max_features=0.5, n_estimators=2001..........\n"
          ]
        },
        {
          "name": "stderr",
          "output_type": "stream",
          "text": [
            "[Parallel(n_jobs=2)]: Using backend ThreadingBackend with 2 concurrent workers.\n",
            "[Parallel(n_jobs=2)]: Done  46 tasks      | elapsed:   15.6s\n",
            "[Parallel(n_jobs=2)]: Done 796 tasks      | elapsed:  4.4min\n",
            "[Parallel(n_jobs=2)]: Done 196 tasks      | elapsed:  1.1min\n",
            "[Parallel(n_jobs=2)]: Done 446 tasks      | elapsed:  2.5min\n",
            "[Parallel(n_jobs=2)]: Done 1246 tasks      | elapsed:  6.9min\n",
            "[Parallel(n_jobs=2)]: Done 796 tasks      | elapsed:  4.4min\n",
            "[Parallel(n_jobs=2)]: Done 1501 out of 1501 | elapsed:  8.3min finished\n",
            "[Parallel(n_jobs=2)]: Using backend ThreadingBackend with 2 concurrent workers.\n",
            "[Parallel(n_jobs=2)]: Done  46 tasks      | elapsed:    0.3s\n",
            "[Parallel(n_jobs=2)]: Done 196 tasks      | elapsed:    1.2s\n",
            "[Parallel(n_jobs=2)]: Done 446 tasks      | elapsed:    2.7s\n",
            "[Parallel(n_jobs=2)]: Done 796 tasks      | elapsed:    5.0s\n",
            "[Parallel(n_jobs=2)]: Done 1246 tasks      | elapsed:    7.8s\n",
            "[Parallel(n_jobs=2)]: Done 1501 out of 1501 | elapsed:    9.4s finished\n",
            "[Parallel(n_jobs=2)]: Using backend ThreadingBackend with 2 concurrent workers.\n",
            "[Parallel(n_jobs=2)]: Done  46 tasks      | elapsed:    0.7s\n",
            "[Parallel(n_jobs=2)]: Done 196 tasks      | elapsed:    2.8s\n",
            "[Parallel(n_jobs=2)]: Done 446 tasks      | elapsed:    6.5s\n",
            "[Parallel(n_jobs=2)]: Done 796 tasks      | elapsed:   11.6s\n",
            "[Parallel(n_jobs=2)]: Done 1246 tasks      | elapsed:   18.2s\n",
            "[Parallel(n_jobs=2)]: Done 1501 out of 1501 | elapsed:   21.9s finished\n",
            "[Parallel(n_jobs=2)]: Using backend ThreadingBackend with 2 concurrent workers.\n"
          ]
        },
        {
          "name": "stdout",
          "output_type": "stream",
          "text": [
            "[CV 1/1; 64/75] END max_depth=7, max_features=0.5, n_estimators=1501;, score=(train=0.710, test=0.709) total time= 8.5min\n",
            "[CV 1/1; 66/75] START max_depth=7, max_features=0.7, n_estimators=1.............\n",
            "[CV 1/1; 66/75] END max_depth=7, max_features=0.7, n_estimators=1;, score=(train=0.710, test=0.709) total time=   1.0s\n",
            "[CV 1/1; 67/75] START max_depth=7, max_features=0.7, n_estimators=501...........\n"
          ]
        },
        {
          "name": "stderr",
          "output_type": "stream",
          "text": [
            "[Parallel(n_jobs=2)]: Using backend ThreadingBackend with 2 concurrent workers.\n",
            "[Parallel(n_jobs=2)]: Done  46 tasks      | elapsed:   20.1s\n",
            "[Parallel(n_jobs=2)]: Done 196 tasks      | elapsed:  1.5min\n",
            "[Parallel(n_jobs=2)]: Done 1246 tasks      | elapsed:  6.9min\n",
            "[Parallel(n_jobs=2)]: Done 446 tasks      | elapsed:  3.3min\n",
            "[Parallel(n_jobs=2)]: Done 501 out of 501 | elapsed:  3.8min finished\n",
            "[Parallel(n_jobs=2)]: Using backend ThreadingBackend with 2 concurrent workers.\n",
            "[Parallel(n_jobs=2)]: Done  46 tasks      | elapsed:    0.3s\n",
            "[Parallel(n_jobs=2)]: Done 196 tasks      | elapsed:    1.2s\n",
            "[Parallel(n_jobs=2)]: Done 446 tasks      | elapsed:    2.8s\n",
            "[Parallel(n_jobs=2)]: Done 501 out of 501 | elapsed:    3.1s finished\n",
            "[Parallel(n_jobs=2)]: Using backend ThreadingBackend with 2 concurrent workers.\n",
            "[Parallel(n_jobs=2)]: Done  46 tasks      | elapsed:    0.7s\n",
            "[Parallel(n_jobs=2)]: Done 196 tasks      | elapsed:    2.8s\n",
            "[Parallel(n_jobs=2)]: Done 446 tasks      | elapsed:    6.5s\n",
            "[Parallel(n_jobs=2)]: Done 501 out of 501 | elapsed:    7.4s finished\n"
          ]
        },
        {
          "name": "stdout",
          "output_type": "stream",
          "text": [
            "[CV 1/1; 67/75] END max_depth=7, max_features=0.7, n_estimators=501;, score=(train=0.710, test=0.710) total time= 3.8min\n",
            "[CV 1/1; 68/75] START max_depth=7, max_features=0.7, n_estimators=1001..........\n"
          ]
        },
        {
          "name": "stderr",
          "output_type": "stream",
          "text": [
            "[Parallel(n_jobs=2)]: Using backend ThreadingBackend with 2 concurrent workers.\n",
            "[Parallel(n_jobs=2)]: Done  46 tasks      | elapsed:   21.2s\n",
            "[Parallel(n_jobs=2)]: Done 1796 tasks      | elapsed:  9.9min\n",
            "[Parallel(n_jobs=2)]: Done 196 tasks      | elapsed:  1.5min\n",
            "[Parallel(n_jobs=2)]: Done 2001 out of 2001 | elapsed: 11.0min finished\n",
            "[Parallel(n_jobs=2)]: Using backend ThreadingBackend with 2 concurrent workers.\n",
            "[Parallel(n_jobs=2)]: Done  46 tasks      | elapsed:    0.3s\n",
            "[Parallel(n_jobs=2)]: Done 196 tasks      | elapsed:    1.2s\n",
            "[Parallel(n_jobs=2)]: Done 446 tasks      | elapsed:    2.9s\n",
            "[Parallel(n_jobs=2)]: Done 796 tasks      | elapsed:    5.1s\n",
            "[Parallel(n_jobs=2)]: Done 1246 tasks      | elapsed:    8.0s\n",
            "[Parallel(n_jobs=2)]: Done 1796 tasks      | elapsed:   11.5s\n",
            "[Parallel(n_jobs=2)]: Done 2001 out of 2001 | elapsed:   12.8s finished\n",
            "[Parallel(n_jobs=2)]: Using backend ThreadingBackend with 2 concurrent workers.\n",
            "[Parallel(n_jobs=2)]: Done  46 tasks      | elapsed:    0.7s\n",
            "[Parallel(n_jobs=2)]: Done 196 tasks      | elapsed:    3.1s\n",
            "[Parallel(n_jobs=2)]: Done 446 tasks      | elapsed:    6.8s\n",
            "[Parallel(n_jobs=2)]: Done 796 tasks      | elapsed:   12.0s\n",
            "[Parallel(n_jobs=2)]: Done 1246 tasks      | elapsed:   18.5s\n",
            "[Parallel(n_jobs=2)]: Done 1796 tasks      | elapsed:   26.5s\n",
            "[Parallel(n_jobs=2)]: Done 2001 out of 2001 | elapsed:   29.4s finished\n"
          ]
        },
        {
          "name": "stdout",
          "output_type": "stream",
          "text": [
            "[CV 1/1; 65/75] END max_depth=7, max_features=0.5, n_estimators=2001;, score=(train=0.710, test=0.709) total time=11.3min\n",
            "[CV 1/1; 69/75] START max_depth=7, max_features=0.7, n_estimators=1501..........\n"
          ]
        },
        {
          "name": "stderr",
          "output_type": "stream",
          "text": [
            "[Parallel(n_jobs=2)]: Using backend ThreadingBackend with 2 concurrent workers.\n",
            "[Parallel(n_jobs=2)]: Done  46 tasks      | elapsed:   21.1s\n",
            "[Parallel(n_jobs=2)]: Done 446 tasks      | elapsed:  3.3min\n",
            "[Parallel(n_jobs=2)]: Done 196 tasks      | elapsed:  1.5min\n",
            "[Parallel(n_jobs=2)]: Done 446 tasks      | elapsed:  3.3min\n",
            "[Parallel(n_jobs=2)]: Done 796 tasks      | elapsed:  5.9min\n",
            "[Parallel(n_jobs=2)]: Done 1001 out of 1001 | elapsed:  7.4min finished\n",
            "[Parallel(n_jobs=2)]: Using backend ThreadingBackend with 2 concurrent workers.\n",
            "[Parallel(n_jobs=2)]: Done  46 tasks      | elapsed:    0.3s\n",
            "[Parallel(n_jobs=2)]: Done 196 tasks      | elapsed:    1.2s\n",
            "[Parallel(n_jobs=2)]: Done 446 tasks      | elapsed:    2.8s\n",
            "[Parallel(n_jobs=2)]: Done 796 tasks      | elapsed:    5.0s\n",
            "[Parallel(n_jobs=2)]: Done 1001 out of 1001 | elapsed:    6.3s finished\n",
            "[Parallel(n_jobs=2)]: Using backend ThreadingBackend with 2 concurrent workers.\n",
            "[Parallel(n_jobs=2)]: Done  46 tasks      | elapsed:    0.7s\n",
            "[Parallel(n_jobs=2)]: Done 196 tasks      | elapsed:    3.1s\n",
            "[Parallel(n_jobs=2)]: Done 446 tasks      | elapsed:    6.9s\n",
            "[Parallel(n_jobs=2)]: Done 796 tasks      | elapsed:   12.1s\n",
            "[Parallel(n_jobs=2)]: Done 1001 out of 1001 | elapsed:   15.1s finished\n"
          ]
        },
        {
          "name": "stdout",
          "output_type": "stream",
          "text": [
            "[CV 1/1; 68/75] END max_depth=7, max_features=0.7, n_estimators=1001;, score=(train=0.710, test=0.710) total time= 7.5min\n",
            "[CV 1/1; 70/75] START max_depth=7, max_features=0.7, n_estimators=2001..........\n"
          ]
        },
        {
          "name": "stderr",
          "output_type": "stream",
          "text": [
            "[Parallel(n_jobs=2)]: Using backend ThreadingBackend with 2 concurrent workers.\n",
            "[Parallel(n_jobs=2)]: Done  46 tasks      | elapsed:   20.5s\n",
            "[Parallel(n_jobs=2)]: Done 796 tasks      | elapsed:  5.9min\n",
            "[Parallel(n_jobs=2)]: Done 196 tasks      | elapsed:  1.5min\n",
            "[Parallel(n_jobs=2)]: Done 446 tasks      | elapsed:  3.3min\n",
            "[Parallel(n_jobs=2)]: Done 1246 tasks      | elapsed:  9.3min\n",
            "[Parallel(n_jobs=2)]: Done 1501 out of 1501 | elapsed: 11.2min finished\n",
            "[Parallel(n_jobs=2)]: Using backend ThreadingBackend with 2 concurrent workers.\n",
            "[Parallel(n_jobs=2)]: Done  46 tasks      | elapsed:    0.3s\n",
            "[Parallel(n_jobs=2)]: Done 796 tasks      | elapsed:  5.9min\n",
            "[Parallel(n_jobs=2)]: Done 196 tasks      | elapsed:    1.3s\n",
            "[Parallel(n_jobs=2)]: Done 446 tasks      | elapsed:    2.9s\n",
            "[Parallel(n_jobs=2)]: Done 796 tasks      | elapsed:    5.2s\n",
            "[Parallel(n_jobs=2)]: Done 1246 tasks      | elapsed:    8.0s\n",
            "[Parallel(n_jobs=2)]: Done 1501 out of 1501 | elapsed:    9.7s finished\n",
            "[Parallel(n_jobs=2)]: Using backend ThreadingBackend with 2 concurrent workers.\n",
            "[Parallel(n_jobs=2)]: Done  46 tasks      | elapsed:    0.7s\n",
            "[Parallel(n_jobs=2)]: Done 196 tasks      | elapsed:    2.9s\n",
            "[Parallel(n_jobs=2)]: Done 446 tasks      | elapsed:    6.6s\n",
            "[Parallel(n_jobs=2)]: Done 796 tasks      | elapsed:   11.7s\n",
            "[Parallel(n_jobs=2)]: Done 1246 tasks      | elapsed:   18.5s\n",
            "[Parallel(n_jobs=2)]: Done 1501 out of 1501 | elapsed:   22.4s finished\n",
            "[Parallel(n_jobs=2)]: Using backend ThreadingBackend with 2 concurrent workers.\n"
          ]
        },
        {
          "name": "stdout",
          "output_type": "stream",
          "text": [
            "[CV 1/1; 69/75] END max_depth=7, max_features=0.7, n_estimators=1501;, score=(train=0.710, test=0.710) total time=11.4min\n",
            "[CV 1/1; 71/75] START max_depth=7, max_features=0.9, n_estimators=1.............\n",
            "[CV 1/1; 71/75] END max_depth=7, max_features=0.9, n_estimators=1;, score=(train=0.709, test=0.709) total time=   1.2s\n",
            "[CV 1/1; 72/75] START max_depth=7, max_features=0.9, n_estimators=501...........\n"
          ]
        },
        {
          "name": "stderr",
          "output_type": "stream",
          "text": [
            "[Parallel(n_jobs=2)]: Using backend ThreadingBackend with 2 concurrent workers.\n",
            "[Parallel(n_jobs=2)]: Done  46 tasks      | elapsed:   25.6s\n",
            "[Parallel(n_jobs=2)]: Done 196 tasks      | elapsed:  1.8min\n",
            "[Parallel(n_jobs=2)]: Done 1246 tasks      | elapsed:  9.2min\n",
            "[Parallel(n_jobs=2)]: Done 446 tasks      | elapsed:  4.2min\n",
            "[Parallel(n_jobs=2)]: Done 501 out of 501 | elapsed:  4.7min finished\n",
            "[Parallel(n_jobs=2)]: Using backend ThreadingBackend with 2 concurrent workers.\n",
            "[Parallel(n_jobs=2)]: Done  46 tasks      | elapsed:    0.3s\n",
            "[Parallel(n_jobs=2)]: Done 196 tasks      | elapsed:    1.3s\n",
            "[Parallel(n_jobs=2)]: Done 446 tasks      | elapsed:    2.9s\n",
            "[Parallel(n_jobs=2)]: Done 501 out of 501 | elapsed:    3.3s finished\n",
            "[Parallel(n_jobs=2)]: Using backend ThreadingBackend with 2 concurrent workers.\n",
            "[Parallel(n_jobs=2)]: Done  46 tasks      | elapsed:    0.7s\n",
            "[Parallel(n_jobs=2)]: Done 196 tasks      | elapsed:    2.9s\n",
            "[Parallel(n_jobs=2)]: Done 446 tasks      | elapsed:    6.8s\n",
            "[Parallel(n_jobs=2)]: Done 501 out of 501 | elapsed:    7.6s finished\n"
          ]
        },
        {
          "name": "stdout",
          "output_type": "stream",
          "text": [
            "[CV 1/1; 72/75] END max_depth=7, max_features=0.9, n_estimators=501;, score=(train=0.710, test=0.710) total time= 4.8min\n",
            "[CV 1/1; 73/75] START max_depth=7, max_features=0.9, n_estimators=1001..........\n"
          ]
        },
        {
          "name": "stderr",
          "output_type": "stream",
          "text": [
            "[Parallel(n_jobs=2)]: Using backend ThreadingBackend with 2 concurrent workers.\n",
            "[Parallel(n_jobs=2)]: Done  46 tasks      | elapsed:   25.8s\n",
            "[Parallel(n_jobs=2)]: Done 196 tasks      | elapsed:  1.9min\n",
            "[Parallel(n_jobs=2)]: Done 1796 tasks      | elapsed: 13.3min\n",
            "[Parallel(n_jobs=2)]: Done 2001 out of 2001 | elapsed: 14.9min finished\n",
            "[Parallel(n_jobs=2)]: Using backend ThreadingBackend with 2 concurrent workers.\n",
            "[Parallel(n_jobs=2)]: Done  46 tasks      | elapsed:    0.3s\n",
            "[Parallel(n_jobs=2)]: Done 196 tasks      | elapsed:    1.2s\n",
            "[Parallel(n_jobs=2)]: Done 446 tasks      | elapsed:    2.8s\n",
            "[Parallel(n_jobs=2)]: Done 796 tasks      | elapsed:    5.0s\n",
            "[Parallel(n_jobs=2)]: Done 1246 tasks      | elapsed:    7.9s\n",
            "[Parallel(n_jobs=2)]: Done 1796 tasks      | elapsed:   11.4s\n",
            "[Parallel(n_jobs=2)]: Done 2001 out of 2001 | elapsed:   12.7s finished\n",
            "[Parallel(n_jobs=2)]: Using backend ThreadingBackend with 2 concurrent workers.\n",
            "[Parallel(n_jobs=2)]: Done  46 tasks      | elapsed:    0.7s\n",
            "[Parallel(n_jobs=2)]: Done 196 tasks      | elapsed:    2.9s\n",
            "[Parallel(n_jobs=2)]: Done 446 tasks      | elapsed:    6.6s\n",
            "[Parallel(n_jobs=2)]: Done 796 tasks      | elapsed:   11.7s\n",
            "[Parallel(n_jobs=2)]: Done 1246 tasks      | elapsed:   18.7s\n",
            "[Parallel(n_jobs=2)]: Done 446 tasks      | elapsed:  4.2min\n",
            "[Parallel(n_jobs=2)]: Done 1796 tasks      | elapsed:   26.9s\n",
            "[Parallel(n_jobs=2)]: Done 2001 out of 2001 | elapsed:   29.9s finished\n"
          ]
        },
        {
          "name": "stdout",
          "output_type": "stream",
          "text": [
            "[CV 1/1; 70/75] END max_depth=7, max_features=0.7, n_estimators=2001;, score=(train=0.710, test=0.710) total time=15.1min\n",
            "[CV 1/1; 74/75] START max_depth=7, max_features=0.9, n_estimators=1501..........\n"
          ]
        },
        {
          "name": "stderr",
          "output_type": "stream",
          "text": [
            "[Parallel(n_jobs=2)]: Using backend ThreadingBackend with 2 concurrent workers.\n",
            "[Parallel(n_jobs=2)]: Done  46 tasks      | elapsed:   26.2s\n",
            "[Parallel(n_jobs=2)]: Done 196 tasks      | elapsed:  1.8min\n",
            "[Parallel(n_jobs=2)]: Done 796 tasks      | elapsed:  7.4min\n",
            "[Parallel(n_jobs=2)]: Done 446 tasks      | elapsed:  4.2min\n",
            "[Parallel(n_jobs=2)]: Done 1001 out of 1001 | elapsed:  9.4min finished\n",
            "[Parallel(n_jobs=2)]: Using backend ThreadingBackend with 2 concurrent workers.\n",
            "[Parallel(n_jobs=2)]: Done  46 tasks      | elapsed:    0.3s\n",
            "[Parallel(n_jobs=2)]: Done 196 tasks      | elapsed:    1.2s\n",
            "[Parallel(n_jobs=2)]: Done 446 tasks      | elapsed:    2.9s\n",
            "[Parallel(n_jobs=2)]: Done 796 tasks      | elapsed:    5.2s\n",
            "[Parallel(n_jobs=2)]: Done 1001 out of 1001 | elapsed:    6.5s finished\n",
            "[Parallel(n_jobs=2)]: Using backend ThreadingBackend with 2 concurrent workers.\n",
            "[Parallel(n_jobs=2)]: Done  46 tasks      | elapsed:    0.7s\n",
            "[Parallel(n_jobs=2)]: Done 196 tasks      | elapsed:    2.9s\n",
            "[Parallel(n_jobs=2)]: Done 446 tasks      | elapsed:    6.6s\n",
            "[Parallel(n_jobs=2)]: Done 796 tasks      | elapsed:   11.9s\n",
            "[Parallel(n_jobs=2)]: Done 1001 out of 1001 | elapsed:   15.1s finished\n"
          ]
        },
        {
          "name": "stdout",
          "output_type": "stream",
          "text": [
            "[CV 1/1; 73/75] END max_depth=7, max_features=0.9, n_estimators=1001;, score=(train=0.710, test=0.710) total time= 9.5min\n",
            "[CV 1/1; 75/75] START max_depth=7, max_features=0.9, n_estimators=2001..........\n"
          ]
        },
        {
          "name": "stderr",
          "output_type": "stream",
          "text": [
            "[Parallel(n_jobs=2)]: Using backend ThreadingBackend with 2 concurrent workers.\n",
            "[Parallel(n_jobs=2)]: Done  46 tasks      | elapsed:   25.6s\n",
            "[Parallel(n_jobs=2)]: Done 196 tasks      | elapsed:  1.8min\n",
            "[Parallel(n_jobs=2)]: Done 796 tasks      | elapsed:  7.4min\n",
            "[Parallel(n_jobs=2)]: Done 446 tasks      | elapsed:  4.2min\n",
            "[Parallel(n_jobs=2)]: Done 1246 tasks      | elapsed: 11.6min\n",
            "[Parallel(n_jobs=2)]: Done 796 tasks      | elapsed:  7.4min\n",
            "[Parallel(n_jobs=2)]: Done 1501 out of 1501 | elapsed: 14.0min finished\n",
            "[Parallel(n_jobs=2)]: Using backend ThreadingBackend with 2 concurrent workers.\n",
            "[Parallel(n_jobs=2)]: Done  46 tasks      | elapsed:    0.3s\n",
            "[Parallel(n_jobs=2)]: Done 196 tasks      | elapsed:    1.2s\n",
            "[Parallel(n_jobs=2)]: Done 446 tasks      | elapsed:    2.9s\n",
            "[Parallel(n_jobs=2)]: Done 796 tasks      | elapsed:    5.1s\n",
            "[Parallel(n_jobs=2)]: Done 1246 tasks      | elapsed:    7.9s\n",
            "[Parallel(n_jobs=2)]: Done 1501 out of 1501 | elapsed:    9.6s finished\n",
            "[Parallel(n_jobs=2)]: Using backend ThreadingBackend with 2 concurrent workers.\n",
            "[Parallel(n_jobs=2)]: Done  46 tasks      | elapsed:    0.7s\n",
            "[Parallel(n_jobs=2)]: Done 196 tasks      | elapsed:    3.0s\n",
            "[Parallel(n_jobs=2)]: Done 446 tasks      | elapsed:    6.8s\n",
            "[Parallel(n_jobs=2)]: Done 796 tasks      | elapsed:   12.1s\n",
            "[Parallel(n_jobs=2)]: Done 1246 tasks      | elapsed:   18.6s\n",
            "[Parallel(n_jobs=2)]: Done 1501 out of 1501 | elapsed:   22.5s finished\n"
          ]
        },
        {
          "name": "stdout",
          "output_type": "stream",
          "text": [
            "[CV 1/1; 74/75] END max_depth=7, max_features=0.9, n_estimators=1501;, score=(train=0.710, test=0.710) total time=14.2min\n"
          ]
        },
        {
          "name": "stderr",
          "output_type": "stream",
          "text": [
            "[Parallel(n_jobs=2)]: Done 1246 tasks      | elapsed: 10.8min\n",
            "[Parallel(n_jobs=2)]: Done 1796 tasks      | elapsed: 14.4min\n",
            "[Parallel(n_jobs=2)]: Done 2001 out of 2001 | elapsed: 15.7min finished\n",
            "[Parallel(n_jobs=2)]: Using backend ThreadingBackend with 2 concurrent workers.\n",
            "[Parallel(n_jobs=2)]: Done  46 tasks      | elapsed:    0.2s\n",
            "[Parallel(n_jobs=2)]: Done 196 tasks      | elapsed:    1.0s\n",
            "[Parallel(n_jobs=2)]: Done 446 tasks      | elapsed:    2.2s\n",
            "[Parallel(n_jobs=2)]: Done 796 tasks      | elapsed:    3.9s\n",
            "[Parallel(n_jobs=2)]: Done 1246 tasks      | elapsed:    6.1s\n",
            "[Parallel(n_jobs=2)]: Done 1796 tasks      | elapsed:    8.9s\n",
            "[Parallel(n_jobs=2)]: Done 2001 out of 2001 | elapsed:    9.9s finished\n",
            "[Parallel(n_jobs=2)]: Using backend ThreadingBackend with 2 concurrent workers.\n",
            "[Parallel(n_jobs=2)]: Done  46 tasks      | elapsed:    0.5s\n",
            "[Parallel(n_jobs=2)]: Done 196 tasks      | elapsed:    2.2s\n",
            "[Parallel(n_jobs=2)]: Done 446 tasks      | elapsed:    5.0s\n",
            "[Parallel(n_jobs=2)]: Done 796 tasks      | elapsed:    8.9s\n",
            "[Parallel(n_jobs=2)]: Done 1246 tasks      | elapsed:   13.9s\n",
            "[Parallel(n_jobs=2)]: Done 1796 tasks      | elapsed:   20.0s\n",
            "[Parallel(n_jobs=2)]: Done 2001 out of 2001 | elapsed:   22.3s finished\n"
          ]
        },
        {
          "name": "stdout",
          "output_type": "stream",
          "text": [
            "[CV 1/1; 75/75] END max_depth=7, max_features=0.9, n_estimators=2001;, score=(train=0.711, test=0.710) total time=15.9min\n"
          ]
        },
        {
          "name": "stderr",
          "output_type": "stream",
          "text": [
            "[Parallel(n_jobs=2)]: Using backend ThreadingBackend with 2 concurrent workers.\n",
            "[Parallel(n_jobs=2)]: Done  46 tasks      | elapsed:   19.7s\n",
            "[Parallel(n_jobs=2)]: Done 196 tasks      | elapsed:  1.4min\n",
            "[Parallel(n_jobs=2)]: Done 446 tasks      | elapsed:  3.2min\n",
            "[Parallel(n_jobs=2)]: Done 796 tasks      | elapsed:  5.6min\n",
            "[Parallel(n_jobs=2)]: Done 1001 out of 1001 | elapsed:  7.1min finished\n"
          ]
        },
        {
          "data": {
            "text/html": [
              "<style>#sk-container-id-1 {color: black;}#sk-container-id-1 pre{padding: 0;}#sk-container-id-1 div.sk-toggleable {background-color: white;}#sk-container-id-1 label.sk-toggleable__label {cursor: pointer;display: block;width: 100%;margin-bottom: 0;padding: 0.3em;box-sizing: border-box;text-align: center;}#sk-container-id-1 label.sk-toggleable__label-arrow:before {content: \"▸\";float: left;margin-right: 0.25em;color: #696969;}#sk-container-id-1 label.sk-toggleable__label-arrow:hover:before {color: black;}#sk-container-id-1 div.sk-estimator:hover label.sk-toggleable__label-arrow:before {color: black;}#sk-container-id-1 div.sk-toggleable__content {max-height: 0;max-width: 0;overflow: hidden;text-align: left;background-color: #f0f8ff;}#sk-container-id-1 div.sk-toggleable__content pre {margin: 0.2em;color: black;border-radius: 0.25em;background-color: #f0f8ff;}#sk-container-id-1 input.sk-toggleable__control:checked~div.sk-toggleable__content {max-height: 200px;max-width: 100%;overflow: auto;}#sk-container-id-1 input.sk-toggleable__control:checked~label.sk-toggleable__label-arrow:before {content: \"▾\";}#sk-container-id-1 div.sk-estimator input.sk-toggleable__control:checked~label.sk-toggleable__label {background-color: #d4ebff;}#sk-container-id-1 div.sk-label input.sk-toggleable__control:checked~label.sk-toggleable__label {background-color: #d4ebff;}#sk-container-id-1 input.sk-hidden--visually {border: 0;clip: rect(1px 1px 1px 1px);clip: rect(1px, 1px, 1px, 1px);height: 1px;margin: -1px;overflow: hidden;padding: 0;position: absolute;width: 1px;}#sk-container-id-1 div.sk-estimator {font-family: monospace;background-color: #f0f8ff;border: 1px dotted black;border-radius: 0.25em;box-sizing: border-box;margin-bottom: 0.5em;}#sk-container-id-1 div.sk-estimator:hover {background-color: #d4ebff;}#sk-container-id-1 div.sk-parallel-item::after {content: \"\";width: 100%;border-bottom: 1px solid gray;flex-grow: 1;}#sk-container-id-1 div.sk-label:hover label.sk-toggleable__label {background-color: #d4ebff;}#sk-container-id-1 div.sk-serial::before {content: \"\";position: absolute;border-left: 1px solid gray;box-sizing: border-box;top: 0;bottom: 0;left: 50%;z-index: 0;}#sk-container-id-1 div.sk-serial {display: flex;flex-direction: column;align-items: center;background-color: white;padding-right: 0.2em;padding-left: 0.2em;position: relative;}#sk-container-id-1 div.sk-item {position: relative;z-index: 1;}#sk-container-id-1 div.sk-parallel {display: flex;align-items: stretch;justify-content: center;background-color: white;position: relative;}#sk-container-id-1 div.sk-item::before, #sk-container-id-1 div.sk-parallel-item::before {content: \"\";position: absolute;border-left: 1px solid gray;box-sizing: border-box;top: 0;bottom: 0;left: 50%;z-index: -1;}#sk-container-id-1 div.sk-parallel-item {display: flex;flex-direction: column;z-index: 1;position: relative;background-color: white;}#sk-container-id-1 div.sk-parallel-item:first-child::after {align-self: flex-end;width: 50%;}#sk-container-id-1 div.sk-parallel-item:last-child::after {align-self: flex-start;width: 50%;}#sk-container-id-1 div.sk-parallel-item:only-child::after {width: 0;}#sk-container-id-1 div.sk-dashed-wrapped {border: 1px dashed gray;margin: 0 0.4em 0.5em 0.4em;box-sizing: border-box;padding-bottom: 0.4em;background-color: white;}#sk-container-id-1 div.sk-label label {font-family: monospace;font-weight: bold;display: inline-block;line-height: 1.2em;}#sk-container-id-1 div.sk-label-container {text-align: center;}#sk-container-id-1 div.sk-container {/* jupyter's `normalize.less` sets `[hidden] { display: none; }` but bootstrap.min.css set `[hidden] { display: none !important; }` so we also need the `!important` here to be able to override the default hidden behavior on the sphinx rendered scikit-learn.org. See: https://github.com/scikit-learn/scikit-learn/issues/21755 */display: inline-block !important;position: relative;}#sk-container-id-1 div.sk-text-repr-fallback {display: none;}</style><div id=\"sk-container-id-1\" class=\"sk-top-container\"><div class=\"sk-text-repr-fallback\"><pre>GridSearchCV(cv=PredefinedSplit(test_fold=array([-1, -1, ...,  0,  0])),\n",
              "             estimator=RandomForestClassifier(n_jobs=2, verbose=1), n_jobs=2,\n",
              "             param_grid={&#x27;max_depth&#x27;: [2, 5, 7],\n",
              "                         &#x27;max_features&#x27;: [0.1, 0.3, 0.5, 0.7, 0.9],\n",
              "                         &#x27;n_estimators&#x27;: [1, 501, 1001, 1501, 2001]},\n",
              "             return_train_score=True, scoring=&#x27;accuracy&#x27;, verbose=10)</pre><b>In a Jupyter environment, please rerun this cell to show the HTML representation or trust the notebook. <br />On GitHub, the HTML representation is unable to render, please try loading this page with nbviewer.org.</b></div><div class=\"sk-container\" hidden><div class=\"sk-item sk-dashed-wrapped\"><div class=\"sk-label-container\"><div class=\"sk-label sk-toggleable\"><input class=\"sk-toggleable__control sk-hidden--visually\" id=\"sk-estimator-id-1\" type=\"checkbox\" ><label for=\"sk-estimator-id-1\" class=\"sk-toggleable__label sk-toggleable__label-arrow\">GridSearchCV</label><div class=\"sk-toggleable__content\"><pre>GridSearchCV(cv=PredefinedSplit(test_fold=array([-1, -1, ...,  0,  0])),\n",
              "             estimator=RandomForestClassifier(n_jobs=2, verbose=1), n_jobs=2,\n",
              "             param_grid={&#x27;max_depth&#x27;: [2, 5, 7],\n",
              "                         &#x27;max_features&#x27;: [0.1, 0.3, 0.5, 0.7, 0.9],\n",
              "                         &#x27;n_estimators&#x27;: [1, 501, 1001, 1501, 2001]},\n",
              "             return_train_score=True, scoring=&#x27;accuracy&#x27;, verbose=10)</pre></div></div></div><div class=\"sk-parallel\"><div class=\"sk-parallel-item\"><div class=\"sk-item\"><div class=\"sk-label-container\"><div class=\"sk-label sk-toggleable\"><input class=\"sk-toggleable__control sk-hidden--visually\" id=\"sk-estimator-id-2\" type=\"checkbox\" ><label for=\"sk-estimator-id-2\" class=\"sk-toggleable__label sk-toggleable__label-arrow\">estimator: RandomForestClassifier</label><div class=\"sk-toggleable__content\"><pre>RandomForestClassifier(n_jobs=2, verbose=1)</pre></div></div></div><div class=\"sk-serial\"><div class=\"sk-item\"><div class=\"sk-estimator sk-toggleable\"><input class=\"sk-toggleable__control sk-hidden--visually\" id=\"sk-estimator-id-3\" type=\"checkbox\" ><label for=\"sk-estimator-id-3\" class=\"sk-toggleable__label sk-toggleable__label-arrow\">RandomForestClassifier</label><div class=\"sk-toggleable__content\"><pre>RandomForestClassifier(n_jobs=2, verbose=1)</pre></div></div></div></div></div></div></div></div></div></div>"
            ],
            "text/plain": [
              "GridSearchCV(cv=PredefinedSplit(test_fold=array([-1, -1, ...,  0,  0])),\n",
              "             estimator=RandomForestClassifier(n_jobs=2, verbose=1), n_jobs=2,\n",
              "             param_grid={'max_depth': [2, 5, 7],\n",
              "                         'max_features': [0.1, 0.3, 0.5, 0.7, 0.9],\n",
              "                         'n_estimators': [1, 501, 1001, 1501, 2001]},\n",
              "             return_train_score=True, scoring='accuracy', verbose=10)"
            ]
          },
          "execution_count": 6,
          "metadata": {},
          "output_type": "execute_result"
        }
      ],
      "source": [
        "nr_max_trees = 2500\n",
        "lag = 500\n",
        "n_estimators = list(range(1, nr_max_trees + 1, lag))\n",
        "max_depths = [2, 5, 7]\n",
        "max_features = [0.1, 0.3, 0.5, 0.7, 0.9]\n",
        "\n",
        "param_grid = {\n",
        "    \"n_estimators\": n_estimators,\n",
        "    \"max_depth\": max_depths,\n",
        "    \"max_features\": max_features\n",
        "}\n",
        "print(param_grid)\n",
        "\n",
        "clf = RandomForestClassifier(n_jobs=2, verbose=1)\n",
        "search = GridSearchCV(estimator=clf, param_grid=param_grid, scoring=\"accuracy\", cv=cv, verbose=10, return_train_score=True, n_jobs=2)\n",
        "search.fit(fullX, fullY)"
      ]
    },
    {
      "cell_type": "code",
      "execution_count": 7,
      "id": "tgAi5Dh9eq2r",
      "metadata": {
        "id": "tgAi5Dh9eq2r"
      },
      "outputs": [
        {
          "name": "stdout",
          "output_type": "stream",
          "text": [
            "0\n",
            "1\n",
            "2\n"
          ]
        },
        {
          "data": {
            "image/png": "[encoded data removed]",
            "text/plain": [
              "<Figure size 1800x600 with 3 Axes>"
            ]
          },
          "metadata": {},
          "output_type": "display_data"
        }
      ],
      "source": [
        "import pandas as pd\n",
        "\n",
        "results_df = pd.DataFrame(search.cv_results_)\n",
        "results_df.to_csv(\"./health_forests_results.csv\")\n",
        "\n",
        "cols: int = len(max_depths)\n",
        "_, axs = subplots(1, cols, figsize=(cols * HEIGHT, HEIGHT), squeeze=False)\n",
        "for i, max_depth in enumerate(max_depths):\n",
        "  print(i)\n",
        "  results = results_df[results_df[\"param_max_depth\"] == max_depth]\n",
        "  results = results[[\"param_max_features\", \"param_n_estimators\", \"split0_test_score\", \"split0_train_score\"]]\n",
        "\n",
        "  values = {}\n",
        "  for max_feature, group in results.groupby(\"param_max_features\"):\n",
        "    scores = [group[group[\"param_n_estimators\"] == n_estimator][\"split0_test_score\"].values[0] for n_estimator in n_estimators]\n",
        "    values[max_feature] = scores\n",
        "\n",
        "  plot_multiline_chart(\n",
        "      n_estimators,\n",
        "      values,\n",
        "      ax=axs[0, i],\n",
        "      title=f\"Random Forests with max_depth={max_depth}\",\n",
        "      xlabel=\"nr estimators\",\n",
        "      ylabel=\"accuracy\",\n",
        "      percentage=True,\n",
        "  )\n",
        "\n",
        "best_model = search.best_estimator_\n",
        "params = {\"params\": search.best_params_, \"metric\": \"accuracy\", \"name\": \"random_forest\"}\n",
        "savefig(f\"images/{file_tag}_rf_{eval_metric}_study.png\", bbox_inches=\"tight\")\n",
        "show()"
      ]
    },
    {
      "cell_type": "code",
      "execution_count": null,
      "id": "3f121099",
      "metadata": {
        "id": "3f121099"
      },
      "outputs": [],
      "source": [
        "prd_trn: array = best_model.predict(trnX)\n",
        "prd_tst: array = best_model.predict(tstX)\n",
        "figure()\n",
        "plot_evaluation_results(params, trnY, prd_trn, tstY, prd_tst, labels)\n",
        "savefig(f'images/{file_tag}_rf_{params[\"name\"]}_best_{params[\"metric\"]}_eval.png')\n",
        "show()"
      ]
    },
    {
      "cell_type": "code",
      "execution_count": null,
      "id": "cf8ae628",
      "metadata": {
        "id": "cf8ae628"
      },
      "outputs": [],
      "source": [
        "from numpy import std, argsort\n",
        "from dslabs_functions import plot_horizontal_bar_chart\n",
        "\n",
        "stdevs: list[float] = list(\n",
        "    std([tree.feature_importances_ for tree in best_model.estimators_], axis=0)\n",
        ")\n",
        "importances = best_model.feature_importances_\n",
        "indices: list[int] = argsort(importances)[::-1]\n",
        "elems: list[str] = []\n",
        "imp_values: list[float] = []\n",
        "for f in range(len(vars)):\n",
        "    elems += [vars[indices[f]]]\n",
        "    imp_values.append(importances[indices[f]])\n",
        "    print(f\"{f+1}. {elems[f]} ({importances[indices[f]]})\")\n",
        "\n",
        "figure()\n",
        "plot_horizontal_bar_chart(\n",
        "    elems,\n",
        "    imp_values,\n",
        "    error=stdevs,\n",
        "    title=\"RF variables importance\",\n",
        "    xlabel=\"importance\",\n",
        "    ylabel=\"variables\",\n",
        "    percentage=True,\n",
        ")\n",
        "savefig(f\"images/{file_tag}_rf_{eval_metric}_vars_ranking.png\", bbox_inches=\"tight\")"
      ]
    },
    {
      "cell_type": "markdown",
      "id": "e6fa8d9f",
      "metadata": {
        "id": "e6fa8d9f"
      },
      "source": [
        "<h3>Overfitting study</h3>"
      ]
    },
    {
      "cell_type": "code",
      "execution_count": null,
      "id": "8ea013d6",
      "metadata": {
        "id": "8ea013d6"
      },
      "outputs": [],
      "source": [
        "d_max: int = params[\"params\"][0]\n",
        "feat: float = params[\"params\"][1]\n",
        "nr_estimators: list[int] = [i for i in range(2, 2501, 500)]\n",
        "\n",
        "y_tst_values: list[float] = []\n",
        "y_trn_values: list[float] = []\n",
        "acc_metric: str = \"accuracy\"\n",
        "\n",
        "for n in nr_estimators:\n",
        "    clf = RandomForestClassifier(n_estimators=n, max_depth=d_max, max_features=feat)\n",
        "    clf.fit(trnX, trnY)\n",
        "    prd_tst_Y: array = clf.predict(tstX)\n",
        "    prd_trn_Y: array = clf.predict(trnX)\n",
        "    y_tst_values.append(CLASS_EVAL_METRICS[acc_metric](tstY, prd_tst_Y))\n",
        "    y_trn_values.append(CLASS_EVAL_METRICS[acc_metric](trnY, prd_trn_Y))\n",
        "\n",
        "figure()\n",
        "plot_multiline_chart(\n",
        "    nr_estimators,\n",
        "    {\"Train\": y_trn_values, \"Test\": y_tst_values},\n",
        "    title=f\"RF overfitting study for d={d_max} and f={feat}\",\n",
        "    xlabel=\"nr_estimators\",\n",
        "    ylabel=str(eval_metric),\n",
        "    percentage=True,\n",
        ")\n",
        "savefig(f\"images/{file_tag}_rf_{eval_metric}_overfitting.png\")"
      ]
    }
  ],
  "metadata": {
    "colab": {
      "provenance": []
    },
    "kernelspec": {
      "display_name": "Python 3",
      "name": "python3"
    },
    "language_info": {
      "codemirror_mode": {
        "name": "ipython",
        "version": 3
      },
      "file_extension": ".py",
      "mimetype": "text/x-python",
      "name": "python",
      "nbconvert_exporter": "python",
      "pygments_lexer": "ipython3",
      "version": "3.12.0"
    }
  },
  "nbformat": 4,
  "nbformat_minor": 5
}
