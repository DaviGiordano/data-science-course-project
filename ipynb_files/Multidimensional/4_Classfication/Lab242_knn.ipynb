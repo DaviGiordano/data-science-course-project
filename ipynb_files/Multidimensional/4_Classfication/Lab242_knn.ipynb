{
 "cells": [
  {
   "cell_type": "markdown",
   "id": "df4312dc",
   "metadata": {},
   "source": [
    "<h1>Classification</h1>"
   ]
  },
  {
   "cell_type": "markdown",
   "id": "8f6ab177",
   "metadata": {},
   "source": [
    "<h2 align=\"center\">KNN</h2><h3>Paremeters study</h3>"
   ]
  },
  {
   "cell_type": "code",
   "execution_count": 1,
   "id": "0885a5e6",
   "metadata": {},
   "outputs": [
    {
     "name": "stdout",
     "output_type": "stream",
     "text": [
      "Train#=304745 Test#=76187\n",
      "Labels=[0. 1.]\n",
      "[[3.63136000e+05 3.62109682e-01 1.00000000e+00 ... 0.00000000e+00\n",
      "  9.16666667e-01 0.00000000e+00]\n",
      " [5.87110000e+04 9.15770139e-02 0.00000000e+00 ... 0.00000000e+00\n",
      "  9.16666667e-01 0.00000000e+00]\n",
      " [1.64834000e+05 7.31566518e-01 0.00000000e+00 ... 1.00000000e+00\n",
      "  8.33333333e-01 1.00000000e+00]\n",
      " ...\n",
      " [3.09766000e+05 7.04014694e-01 1.00000000e+00 ... 0.00000000e+00\n",
      "  9.16666667e-01 0.00000000e+00]\n",
      " [2.60548000e+05 3.99632642e-01 0.00000000e+00 ... 0.00000000e+00\n",
      "  0.00000000e+00 0.00000000e+00]\n",
      " [1.87790000e+04 5.70453949e-01 1.00000000e+00 ... 0.00000000e+00\n",
      "  8.33333333e-01 0.00000000e+00]]\n",
      "[1. 0. 0. ... 1. 0. 0.]\n"
     ]
    },
    {
     "ename": "KeyboardInterrupt",
     "evalue": "",
     "output_type": "error",
     "traceback": [
      "\u001b[0;31m---------------------------------------------------------------------------\u001b[0m",
      "\u001b[0;31mKeyboardInterrupt\u001b[0m                         Traceback (most recent call last)",
      "\u001b[1;32m/home/niklas/Dokumente/data-science-course-project/ipynb_files/Multidimensional/4_Classfication/Lab242_knn.ipynb Cell 3\u001b[0m line \u001b[0;36m5\n\u001b[1;32m     <a href='vscode-notebook-cell:/home/niklas/Dokumente/data-science-course-project/ipynb_files/Multidimensional/4_Classfication/Lab242_knn.ipynb#W2sZmlsZQ%3D%3D?line=52'>53</a>\u001b[0m \u001b[39mprint\u001b[39m(trnY)\n\u001b[1;32m     <a href='vscode-notebook-cell:/home/niklas/Dokumente/data-science-course-project/ipynb_files/Multidimensional/4_Classfication/Lab242_knn.ipynb#W2sZmlsZQ%3D%3D?line=54'>55</a>\u001b[0m figure()\n\u001b[0;32m---> <a href='vscode-notebook-cell:/home/niklas/Dokumente/data-science-course-project/ipynb_files/Multidimensional/4_Classfication/Lab242_knn.ipynb#W2sZmlsZQ%3D%3D?line=55'>56</a>\u001b[0m best_model, params \u001b[39m=\u001b[39m knn_study(trnX, trnY, tstX, tstY, k_max\u001b[39m=\u001b[39;49m\u001b[39m25\u001b[39;49m, metric\u001b[39m=\u001b[39;49meval_metric)\n\u001b[1;32m     <a href='vscode-notebook-cell:/home/niklas/Dokumente/data-science-course-project/ipynb_files/Multidimensional/4_Classfication/Lab242_knn.ipynb#W2sZmlsZQ%3D%3D?line=56'>57</a>\u001b[0m savefig(\u001b[39mf\u001b[39m\u001b[39m'\u001b[39m\u001b[39mimages/\u001b[39m\u001b[39m{\u001b[39;00mfile_tag\u001b[39m}\u001b[39;00m\u001b[39m_knn_\u001b[39m\u001b[39m{\u001b[39;00meval_metric\u001b[39m}\u001b[39;00m\u001b[39m_study.png\u001b[39m\u001b[39m'\u001b[39m)\n\u001b[1;32m     <a href='vscode-notebook-cell:/home/niklas/Dokumente/data-science-course-project/ipynb_files/Multidimensional/4_Classfication/Lab242_knn.ipynb#W2sZmlsZQ%3D%3D?line=57'>58</a>\u001b[0m show()\n",
      "\u001b[1;32m/home/niklas/Dokumente/data-science-course-project/ipynb_files/Multidimensional/4_Classfication/Lab242_knn.ipynb Cell 3\u001b[0m line \u001b[0;36m2\n\u001b[1;32m     <a href='vscode-notebook-cell:/home/niklas/Dokumente/data-science-course-project/ipynb_files/Multidimensional/4_Classfication/Lab242_knn.ipynb#W2sZmlsZQ%3D%3D?line=22'>23</a>\u001b[0m clf \u001b[39m=\u001b[39m KNeighborsClassifier(n_neighbors\u001b[39m=\u001b[39mk, metric\u001b[39m=\u001b[39md)\n\u001b[1;32m     <a href='vscode-notebook-cell:/home/niklas/Dokumente/data-science-course-project/ipynb_files/Multidimensional/4_Classfication/Lab242_knn.ipynb#W2sZmlsZQ%3D%3D?line=23'>24</a>\u001b[0m clf\u001b[39m.\u001b[39mfit(trnX, trnY)\n\u001b[0;32m---> <a href='vscode-notebook-cell:/home/niklas/Dokumente/data-science-course-project/ipynb_files/Multidimensional/4_Classfication/Lab242_knn.ipynb#W2sZmlsZQ%3D%3D?line=24'>25</a>\u001b[0m prdY: array \u001b[39m=\u001b[39m clf\u001b[39m.\u001b[39;49mpredict(tstX)\n\u001b[1;32m     <a href='vscode-notebook-cell:/home/niklas/Dokumente/data-science-course-project/ipynb_files/Multidimensional/4_Classfication/Lab242_knn.ipynb#W2sZmlsZQ%3D%3D?line=25'>26</a>\u001b[0m \u001b[39meval\u001b[39m: \u001b[39mfloat\u001b[39m \u001b[39m=\u001b[39m CLASS_EVAL_METRICS[metric](tstY, prdY)\n\u001b[1;32m     <a href='vscode-notebook-cell:/home/niklas/Dokumente/data-science-course-project/ipynb_files/Multidimensional/4_Classfication/Lab242_knn.ipynb#W2sZmlsZQ%3D%3D?line=26'>27</a>\u001b[0m y_tst_values\u001b[39m.\u001b[39mappend(\u001b[39meval\u001b[39m)\n",
      "File \u001b[0;32m~/Dokumente/data-science-course-project/venv/lib/python3.12/site-packages/sklearn/neighbors/_classification.py:254\u001b[0m, in \u001b[0;36mKNeighborsClassifier.predict\u001b[0;34m(self, X)\u001b[0m\n\u001b[1;32m    250\u001b[0m \u001b[39mif\u001b[39;00m \u001b[39mself\u001b[39m\u001b[39m.\u001b[39mweights \u001b[39m==\u001b[39m \u001b[39m\"\u001b[39m\u001b[39muniform\u001b[39m\u001b[39m\"\u001b[39m:\n\u001b[1;32m    251\u001b[0m     \u001b[39mif\u001b[39;00m \u001b[39mself\u001b[39m\u001b[39m.\u001b[39m_fit_method \u001b[39m==\u001b[39m \u001b[39m\"\u001b[39m\u001b[39mbrute\u001b[39m\u001b[39m\"\u001b[39m \u001b[39mand\u001b[39;00m ArgKminClassMode\u001b[39m.\u001b[39mis_usable_for(\n\u001b[1;32m    252\u001b[0m         X, \u001b[39mself\u001b[39m\u001b[39m.\u001b[39m_fit_X, \u001b[39mself\u001b[39m\u001b[39m.\u001b[39mmetric\n\u001b[1;32m    253\u001b[0m     ):\n\u001b[0;32m--> 254\u001b[0m         probabilities \u001b[39m=\u001b[39m \u001b[39mself\u001b[39;49m\u001b[39m.\u001b[39;49mpredict_proba(X)\n\u001b[1;32m    255\u001b[0m         \u001b[39mif\u001b[39;00m \u001b[39mself\u001b[39m\u001b[39m.\u001b[39moutputs_2d_:\n\u001b[1;32m    256\u001b[0m             \u001b[39mreturn\u001b[39;00m np\u001b[39m.\u001b[39mstack(\n\u001b[1;32m    257\u001b[0m                 [\n\u001b[1;32m    258\u001b[0m                     \u001b[39mself\u001b[39m\u001b[39m.\u001b[39mclasses_[idx][np\u001b[39m.\u001b[39margmax(probas, axis\u001b[39m=\u001b[39m\u001b[39m1\u001b[39m)]\n\u001b[0;32m   (...)\u001b[0m\n\u001b[1;32m    261\u001b[0m                 axis\u001b[39m=\u001b[39m\u001b[39m1\u001b[39m,\n\u001b[1;32m    262\u001b[0m             )\n",
      "File \u001b[0;32m~/Dokumente/data-science-course-project/venv/lib/python3.12/site-packages/sklearn/neighbors/_classification.py:332\u001b[0m, in \u001b[0;36mKNeighborsClassifier.predict_proba\u001b[0;34m(self, X)\u001b[0m\n\u001b[1;32m    327\u001b[0m     \u001b[39melse\u001b[39;00m:\n\u001b[1;32m    328\u001b[0m         X \u001b[39m=\u001b[39m \u001b[39mself\u001b[39m\u001b[39m.\u001b[39m_validate_data(\n\u001b[1;32m    329\u001b[0m             X, accept_sparse\u001b[39m=\u001b[39m\u001b[39m\"\u001b[39m\u001b[39mcsr\u001b[39m\u001b[39m\"\u001b[39m, reset\u001b[39m=\u001b[39m\u001b[39mFalse\u001b[39;00m, order\u001b[39m=\u001b[39m\u001b[39m\"\u001b[39m\u001b[39mC\u001b[39m\u001b[39m\"\u001b[39m\n\u001b[1;32m    330\u001b[0m         )\n\u001b[0;32m--> 332\u001b[0m     probabilities \u001b[39m=\u001b[39m ArgKminClassMode\u001b[39m.\u001b[39;49mcompute(\n\u001b[1;32m    333\u001b[0m         X,\n\u001b[1;32m    334\u001b[0m         \u001b[39mself\u001b[39;49m\u001b[39m.\u001b[39;49m_fit_X,\n\u001b[1;32m    335\u001b[0m         k\u001b[39m=\u001b[39;49m\u001b[39mself\u001b[39;49m\u001b[39m.\u001b[39;49mn_neighbors,\n\u001b[1;32m    336\u001b[0m         weights\u001b[39m=\u001b[39;49m\u001b[39mself\u001b[39;49m\u001b[39m.\u001b[39;49mweights,\n\u001b[1;32m    337\u001b[0m         labels\u001b[39m=\u001b[39;49m\u001b[39mself\u001b[39;49m\u001b[39m.\u001b[39;49m_y,\n\u001b[1;32m    338\u001b[0m         unique_labels\u001b[39m=\u001b[39;49m\u001b[39mself\u001b[39;49m\u001b[39m.\u001b[39;49mclasses_,\n\u001b[1;32m    339\u001b[0m         metric\u001b[39m=\u001b[39;49mmetric,\n\u001b[1;32m    340\u001b[0m         metric_kwargs\u001b[39m=\u001b[39;49mmetric_kwargs,\n\u001b[1;32m    341\u001b[0m         \u001b[39m# `strategy=\"parallel_on_X\"` has in practice be shown\u001b[39;49;00m\n\u001b[1;32m    342\u001b[0m         \u001b[39m# to be more efficient than `strategy=\"parallel_on_Y``\u001b[39;49;00m\n\u001b[1;32m    343\u001b[0m         \u001b[39m# on many combination of datasets.\u001b[39;49;00m\n\u001b[1;32m    344\u001b[0m         \u001b[39m# Hence, we choose to enforce it here.\u001b[39;49;00m\n\u001b[1;32m    345\u001b[0m         \u001b[39m# For more information, see:\u001b[39;49;00m\n\u001b[1;32m    346\u001b[0m         \u001b[39m# https://github.com/scikit-learn/scikit-learn/pull/24076#issuecomment-1445258342  # noqa\u001b[39;49;00m\n\u001b[1;32m    347\u001b[0m         \u001b[39m# TODO: adapt the heuristic for `strategy=\"auto\"` for\u001b[39;49;00m\n\u001b[1;32m    348\u001b[0m         \u001b[39m# `ArgKminClassMode` and use `strategy=\"auto\"`.\u001b[39;49;00m\n\u001b[1;32m    349\u001b[0m         strategy\u001b[39m=\u001b[39;49m\u001b[39m\"\u001b[39;49m\u001b[39mparallel_on_X\u001b[39;49m\u001b[39m\"\u001b[39;49m,\n\u001b[1;32m    350\u001b[0m     )\n\u001b[1;32m    351\u001b[0m     \u001b[39mreturn\u001b[39;00m probabilities\n\u001b[1;32m    353\u001b[0m \u001b[39m# In that case, we do not need the distances to perform\u001b[39;00m\n\u001b[1;32m    354\u001b[0m \u001b[39m# the weighting so we do not compute them.\u001b[39;00m\n",
      "File \u001b[0;32m~/Dokumente/data-science-course-project/venv/lib/python3.12/site-packages/sklearn/metrics/_pairwise_distances_reduction/_dispatcher.py:585\u001b[0m, in \u001b[0;36mArgKminClassMode.compute\u001b[0;34m(cls, X, Y, k, weights, labels, unique_labels, metric, chunk_size, metric_kwargs, strategy)\u001b[0m\n\u001b[1;32m    580\u001b[0m     \u001b[39mraise\u001b[39;00m \u001b[39mValueError\u001b[39;00m(\n\u001b[1;32m    581\u001b[0m         \u001b[39m\"\u001b[39m\u001b[39mOnly the \u001b[39m\u001b[39m'\u001b[39m\u001b[39muniform\u001b[39m\u001b[39m'\u001b[39m\u001b[39m or \u001b[39m\u001b[39m'\u001b[39m\u001b[39mdistance\u001b[39m\u001b[39m'\u001b[39m\u001b[39m weights options are supported\u001b[39m\u001b[39m\"\u001b[39m\n\u001b[1;32m    582\u001b[0m         \u001b[39mf\u001b[39m\u001b[39m\"\u001b[39m\u001b[39m at this time. Got: \u001b[39m\u001b[39m{\u001b[39;00mweights\u001b[39m=}\u001b[39;00m\u001b[39m.\u001b[39m\u001b[39m\"\u001b[39m\n\u001b[1;32m    583\u001b[0m     )\n\u001b[1;32m    584\u001b[0m \u001b[39mif\u001b[39;00m X\u001b[39m.\u001b[39mdtype \u001b[39m==\u001b[39m Y\u001b[39m.\u001b[39mdtype \u001b[39m==\u001b[39m np\u001b[39m.\u001b[39mfloat64:\n\u001b[0;32m--> 585\u001b[0m     \u001b[39mreturn\u001b[39;00m ArgKminClassMode64\u001b[39m.\u001b[39;49mcompute(\n\u001b[1;32m    586\u001b[0m         X\u001b[39m=\u001b[39;49mX,\n\u001b[1;32m    587\u001b[0m         Y\u001b[39m=\u001b[39;49mY,\n\u001b[1;32m    588\u001b[0m         k\u001b[39m=\u001b[39;49mk,\n\u001b[1;32m    589\u001b[0m         weights\u001b[39m=\u001b[39;49mweights,\n\u001b[1;32m    590\u001b[0m         class_membership\u001b[39m=\u001b[39;49mnp\u001b[39m.\u001b[39;49marray(labels, dtype\u001b[39m=\u001b[39;49mnp\u001b[39m.\u001b[39;49mintp),\n\u001b[1;32m    591\u001b[0m         unique_labels\u001b[39m=\u001b[39;49mnp\u001b[39m.\u001b[39;49marray(unique_labels, dtype\u001b[39m=\u001b[39;49mnp\u001b[39m.\u001b[39;49mintp),\n\u001b[1;32m    592\u001b[0m         metric\u001b[39m=\u001b[39;49mmetric,\n\u001b[1;32m    593\u001b[0m         chunk_size\u001b[39m=\u001b[39;49mchunk_size,\n\u001b[1;32m    594\u001b[0m         metric_kwargs\u001b[39m=\u001b[39;49mmetric_kwargs,\n\u001b[1;32m    595\u001b[0m         strategy\u001b[39m=\u001b[39;49mstrategy,\n\u001b[1;32m    596\u001b[0m     )\n\u001b[1;32m    598\u001b[0m \u001b[39mif\u001b[39;00m X\u001b[39m.\u001b[39mdtype \u001b[39m==\u001b[39m Y\u001b[39m.\u001b[39mdtype \u001b[39m==\u001b[39m np\u001b[39m.\u001b[39mfloat32:\n\u001b[1;32m    599\u001b[0m     \u001b[39mreturn\u001b[39;00m ArgKminClassMode32\u001b[39m.\u001b[39mcompute(\n\u001b[1;32m    600\u001b[0m         X\u001b[39m=\u001b[39mX,\n\u001b[1;32m    601\u001b[0m         Y\u001b[39m=\u001b[39mY,\n\u001b[0;32m   (...)\u001b[0m\n\u001b[1;32m    609\u001b[0m         strategy\u001b[39m=\u001b[39mstrategy,\n\u001b[1;32m    610\u001b[0m     )\n",
      "File \u001b[0;32msklearn/metrics/_pairwise_distances_reduction/_argkmin_classmode.pyx:244\u001b[0m, in \u001b[0;36msklearn.metrics._pairwise_distances_reduction._argkmin_classmode.ArgKminClassMode64.compute\u001b[0;34m()\u001b[0m\n",
      "File \u001b[0;32m~/Dokumente/data-science-course-project/venv/lib/python3.12/site-packages/threadpoolctl.py:440\u001b[0m, in \u001b[0;36m_ThreadpoolLimiter.__exit__\u001b[0;34m(self, type, value, traceback)\u001b[0m\n\u001b[1;32m    437\u001b[0m \u001b[39mdef\u001b[39;00m \u001b[39m__enter__\u001b[39m(\u001b[39mself\u001b[39m):\n\u001b[1;32m    438\u001b[0m     \u001b[39mreturn\u001b[39;00m \u001b[39mself\u001b[39m\n\u001b[0;32m--> 440\u001b[0m \u001b[39mdef\u001b[39;00m \u001b[39m__exit__\u001b[39m(\u001b[39mself\u001b[39m, \u001b[39mtype\u001b[39m, value, traceback):\n\u001b[1;32m    441\u001b[0m     \u001b[39mself\u001b[39m\u001b[39m.\u001b[39mrestore_original_limits()\n\u001b[1;32m    443\u001b[0m \u001b[39m@classmethod\u001b[39m\n\u001b[1;32m    444\u001b[0m \u001b[39mdef\u001b[39;00m \u001b[39mwrap\u001b[39m(\u001b[39mcls\u001b[39m, controller, \u001b[39m*\u001b[39m, limits\u001b[39m=\u001b[39m\u001b[39mNone\u001b[39;00m, user_api\u001b[39m=\u001b[39m\u001b[39mNone\u001b[39;00m):\n",
      "\u001b[0;31mKeyboardInterrupt\u001b[0m: "
     ]
    },
    {
     "data": {
      "text/plain": [
       "<Figure size 600x450 with 0 Axes>"
      ]
     },
     "metadata": {},
     "output_type": "display_data"
    }
   ],
   "source": [
    "from typing import Literal\n",
    "from numpy import array, ndarray\n",
    "from sklearn.neighbors import KNeighborsClassifier\n",
    "from matplotlib.pyplot import figure, savefig, show\n",
    "from dslabs_functions import CLASS_EVAL_METRICS, DELTA_IMPROVE, plot_multiline_chart\n",
    "from dslabs_functions import read_train_test_from_files, plot_evaluation_results\n",
    "from dslabs_functions import split_data_set\n",
    "\n",
    "def knn_study(\n",
    "        trnX: ndarray, trnY: array, tstX: ndarray, tstY: array, k_max: int=19, lag: int=2, metric='accuracy'\n",
    "        ) -> tuple[KNeighborsClassifier | None, dict]:\n",
    "    dist: list[Literal['manhattan', 'euclidean', 'chebyshev']] = ['manhattan', 'euclidean', 'chebyshev']\n",
    "\n",
    "    kvalues: list[int] = [i for i in range(1, k_max+1, lag)]\n",
    "    best_model: KNeighborsClassifier | None = None\n",
    "    best_params: dict = {'name': 'KNN', 'metric': metric, 'params': ()}\n",
    "    best_performance: float = 0.0\n",
    "\n",
    "    values: dict[str, list] = {}\n",
    "    for d in dist:\n",
    "        y_tst_values: list = []\n",
    "        for k in kvalues:\n",
    "            clf = KNeighborsClassifier(n_neighbors=k, metric=d)\n",
    "            clf.fit(trnX, trnY)\n",
    "            prdY: array = clf.predict(tstX)\n",
    "            eval: float = CLASS_EVAL_METRICS[metric](tstY, prdY)\n",
    "            y_tst_values.append(eval)\n",
    "            if eval - best_performance > DELTA_IMPROVE:\n",
    "                best_performance: float = eval\n",
    "                best_params['params'] = (k, d)\n",
    "                best_model = clf\n",
    "            # print(f'KNN {d} k={k}')\n",
    "        values[d] = y_tst_values\n",
    "    print(f'KNN best with k={best_params['params'][0]} and {best_params['params'][1]}')\n",
    "    plot_multiline_chart(kvalues, values, title=f'KNN Models ({metric})', xlabel='k', ylabel=metric, percentage=True)\n",
    "\n",
    "    return best_model, best_params\n",
    "\n",
    "file_tag = \"covid\"\n",
    "data_path = \"../../../data/covid_scaled_minmax.csv\"\n",
    "test_filename = \"data/stroke_test.csv\"\n",
    "target = \"CovidPos\"\n",
    "eval_metric = \"accuracy\"\n",
    "\n",
    "# trnX, tstX, trnY, tstY, labels, vars = read_train_test_from_files(\n",
    "#     train_filename, test_filename, target\n",
    "# )\n",
    "\n",
    "trnX, tstX, trnY, tstY, labels, vars = split_data_set(data_path, target)\n",
    "print(f\"Train#={len(trnX)} Test#={len(tstX)}\")\n",
    "print(f\"Labels={labels}\")\n",
    "print(trnX)\n",
    "print(trnY)\n",
    "\n",
    "figure()\n",
    "best_model, params = knn_study(trnX, trnY, tstX, tstY, k_max=25, metric=eval_metric)\n",
    "savefig(f'images/{file_tag}_knn_{eval_metric}_study.png')\n",
    "show()"
   ]
  },
  {
   "cell_type": "markdown",
   "id": "b5eec39d",
   "metadata": {},
   "source": [
    "<h3>Best model performance</h3>"
   ]
  },
  {
   "cell_type": "code",
   "execution_count": null,
   "id": "43bbc12f",
   "metadata": {},
   "outputs": [],
   "source": [
    "prd_trn: array = best_model.predict(trnX)\n",
    "prd_tst: array = best_model.predict(tstX)\n",
    "figure()\n",
    "plot_evaluation_results(params, trnY, prd_trn, tstY, prd_tst, labels)\n",
    "savefig(f'images/{file_tag}_knn_{params[\"name\"]}_best_{params[\"metric\"]}_eval.png')\n",
    "show()"
   ]
  },
  {
   "cell_type": "markdown",
   "id": "24325632",
   "metadata": {},
   "source": [
    "<h3>Overfitting study</h3>"
   ]
  },
  {
   "cell_type": "code",
   "execution_count": null,
   "id": "4a306fb5",
   "metadata": {},
   "outputs": [],
   "source": [
    "from matplotlib.pyplot import figure, savefig\n",
    "\n",
    "distance: Literal[\"manhattan\", \"euclidean\", \"chebyshev\"] = params[\"params\"][1]\n",
    "K_MAX = 25\n",
    "kvalues: list[int] = [i for i in range(1, K_MAX, 2)]\n",
    "y_tst_values: list = []\n",
    "y_trn_values: list = []\n",
    "acc_metric: str = \"accuracy\"\n",
    "for k in kvalues:\n",
    "    clf = KNeighborsClassifier(n_neighbors=k, metric=distance)\n",
    "    clf.fit(trnX, trnY)\n",
    "    prd_tst_Y: array = clf.predict(tstX)\n",
    "    prd_trn_Y: array = clf.predict(trnX)\n",
    "    y_tst_values.append(CLASS_EVAL_METRICS[acc_metric](tstY, prd_tst_Y))\n",
    "    y_trn_values.append(CLASS_EVAL_METRICS[acc_metric](trnY, prd_trn_Y))\n",
    "\n",
    "figure()\n",
    "plot_multiline_chart(\n",
    "    kvalues,\n",
    "    {\"Train\": y_trn_values, \"Test\": y_tst_values},\n",
    "    title=f\"KNN overfitting study for {distance}\",\n",
    "    xlabel=\"K\",\n",
    "    ylabel=str(eval_metric),\n",
    "    percentage=True,\n",
    ")\n",
    "savefig(f\"images/{file_tag}_knn_overfitting.png\")\n",
    "show()"
   ]
  }
 ],
 "metadata": {
  "kernelspec": {
   "display_name": "venv",
   "language": "python",
   "name": "python3"
  },
  "language_info": {
   "codemirror_mode": {
    "name": "ipython",
    "version": 3
   },
   "file_extension": ".py",
   "mimetype": "text/x-python",
   "name": "python",
   "nbconvert_exporter": "python",
   "pygments_lexer": "ipython3",
   "version": "3.12.0"
  }
 },
 "nbformat": 4,
 "nbformat_minor": 5
}
