{
 "cells": [
  {
   "cell_type": "markdown",
   "id": "b7166917",
   "metadata": {},
   "source": [
    "<h1>Data Preparation</h1><h2 align=\"center\">Scaling</h2>"
   ]
  },
  {
   "cell_type": "markdown",
   "id": "ea16627f",
   "metadata": {},
   "source": [
    "<h3>Standard Scaler</h3>"
   ]
  },
  {
   "cell_type": "code",
   "execution_count": null,
   "id": "8f113b68",
   "metadata": {},
   "outputs": [],
   "source": [
    "from pandas import read_csv, DataFrame, Series\n",
    "from sklearn.preprocessing import StandardScaler\n",
    "\n",
    "file = \"stroke\"\n",
    "data: DataFrame = read_csv(\"data/stroke_mvi_encoded.csv\", index_col=\"id\", na_values=\"\")\n",
    "target = \"stroke\"\n",
    "vars: list[str] = data.columns.to_list()\n",
    "target_data: Series = data.pop(target)\n",
    "\n",
    "transf: StandardScaler = StandardScaler(with_mean=True, with_std=True, copy=True).fit(\n",
    "    data\n",
    ")\n",
    "df_zscore = DataFrame(transf.transform(data), index=data.index)\n",
    "df_zscore[target] = target_data\n",
    "df_zscore.columns = vars\n",
    "df_zscore.to_csv(f\"data/{file}_scaled_zscore.csv\", index=\"id\")"
   ]
  },
  {
   "cell_type": "markdown",
   "id": "3a65bcec",
   "metadata": {},
   "source": [
    "<h3>MinMax Scaler</h3>"
   ]
  },
  {
   "cell_type": "code",
   "execution_count": null,
   "id": "bd1efd92",
   "metadata": {},
   "outputs": [],
   "source": [
    "from sklearn.preprocessing import MinMaxScaler\n",
    "\n",
    "transf: MinMaxScaler = MinMaxScaler(feature_range=(0, 1), copy=True).fit(data)\n",
    "df_minmax = DataFrame(transf.transform(data), index=data.index)\n",
    "df_minmax[target] = target_data\n",
    "df_minmax.columns = vars\n",
    "df_minmax.to_csv(f\"data/{file}_scaled_minmax.csv\", index=\"id\")"
   ]
  },
  {
   "cell_type": "code",
   "execution_count": null,
   "id": "08880d63",
   "metadata": {},
   "outputs": [],
   "source": [
    "from matplotlib.pyplot import subplots, show\n",
    "\n",
    "fig, axs = subplots(1, 3, figsize=(20, 10), squeeze=False)\n",
    "axs[0, 1].set_title(\"Original data\")\n",
    "data.boxplot(ax=axs[0, 0])\n",
    "axs[0, 0].set_title(\"Z-score normalization\")\n",
    "df_zscore.boxplot(ax=axs[0, 1])\n",
    "axs[0, 2].set_title(\"MinMax normalization\")\n",
    "df_minmax.boxplot(ax=axs[0, 2])\n",
    "show()"
   ]
  }
 ],
 "metadata": {},
 "nbformat": 4,
 "nbformat_minor": 5
}
