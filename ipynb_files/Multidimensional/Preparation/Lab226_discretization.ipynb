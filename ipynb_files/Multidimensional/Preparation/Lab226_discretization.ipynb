{
 "cells": [
  {
   "cell_type": "markdown",
   "id": "41d86677",
   "metadata": {},
   "source": [
    "<h1>Data Preparation</h1>"
   ]
  },
  {
   "cell_type": "code",
   "execution_count": null,
   "id": "98aaa083",
   "metadata": {},
   "outputs": [],
   "source": [
    "from pandas import read_csv, DataFrame\n",
    "\n",
    "file = \"algae\"\n",
    "filename = \"data/algae_mv_most_frequent.csv\"\n",
    "data: DataFrame = read_csv(\n",
    "    filename,\n",
    "    index_col=\"date\",\n",
    "    na_values=\"\",\n",
    "    parse_dates=True,\n",
    ")"
   ]
  },
  {
   "cell_type": "markdown",
   "id": "9a9967fb",
   "metadata": {},
   "source": [
    "<h2 align=\"center\">Discretization</h2>"
   ]
  },
  {
   "cell_type": "code",
   "execution_count": null,
   "id": "43147398",
   "metadata": {},
   "outputs": [],
   "source": [
    "from dslabs_functions import get_variable_types\n",
    "\n",
    "variable_types: dict[str, list] = get_variable_types(data)\n",
    "numeric_vars: list[str] = variable_types[\"numeric\"]\n",
    "symbolic_vars: list[str] = variable_types[\"symbolic\"]\n",
    "boolean_vars: list[str] = variable_types[\"binary\"]\n",
    "\n",
    "df_nr: DataFrame = data[numeric_vars]\n",
    "df_sb: DataFrame = data[symbolic_vars]\n",
    "df_bool = data[boolean_vars]"
   ]
  },
  {
   "cell_type": "markdown",
   "id": "99e1f864",
   "metadata": {},
   "source": [
    "<h3>Equal-width discretization</h3>"
   ]
  },
  {
   "cell_type": "code",
   "execution_count": null,
   "id": "87f93f63",
   "metadata": {},
   "outputs": [],
   "source": [
    "from sklearn.preprocessing import KBinsDiscretizer\n",
    "from pandas import concat\n",
    "\n",
    "N_BINS = 5\n",
    "discretization: KBinsDiscretizer = KBinsDiscretizer(\n",
    "    n_bins=N_BINS, encode=\"ordinal\", strategy=\"uniform\"\n",
    ")\n",
    "discretization.fit(df_nr)\n",
    "eq_width = DataFrame(discretization.transform(df_nr), index=data.index)\n",
    "\n",
    "df = DataFrame(df_sb, index=data.index)\n",
    "df: DataFrame = concat([df, df_bool, eq_width], axis=1)\n",
    "df.columns = symbolic_vars + boolean_vars + numeric_vars\n",
    "df.to_csv(f\"data/{file}_eq_width.csv\", index=True)\n",
    "\n",
    "df.hist(bins=N_BINS)"
   ]
  },
  {
   "cell_type": "markdown",
   "id": "fca6ea33",
   "metadata": {},
   "source": [
    "<h3>Equal-frequency</h3>"
   ]
  },
  {
   "cell_type": "code",
   "execution_count": null,
   "id": "addd4356",
   "metadata": {},
   "outputs": [],
   "source": [
    "discretization: KBinsDiscretizer = KBinsDiscretizer(\n",
    "    n_bins=N_BINS, encode=\"ordinal\", strategy=\"quantile\"\n",
    ")\n",
    "discretization.fit(df_nr)\n",
    "eq_width = DataFrame(discretization.transform(df_nr), index=data.index)\n",
    "\n",
    "df = DataFrame(df_sb, index=data.index)\n",
    "df = concat([df, df_bool, eq_width], axis=1)\n",
    "df.columns = symbolic_vars + boolean_vars + numeric_vars\n",
    "df.to_csv(f\"data/{file}_eq_frequency.csv\", index=True)\n",
    "\n",
    "df.hist(bins=N_BINS)"
   ]
  }
 ],
 "metadata": {},
 "nbformat": 4,
 "nbformat_minor": 5
}
