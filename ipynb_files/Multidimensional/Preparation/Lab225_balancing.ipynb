{
 "cells": [
  {
   "cell_type": "markdown",
   "id": "690d7330",
   "metadata": {},
   "source": [
    "<h1>Data Preparation</h1><h2 align=\"center\">Data Balancing</h2>"
   ]
  },
  {
   "cell_type": "code",
   "execution_count": null,
   "id": "c8d67a14",
   "metadata": {},
   "outputs": [],
   "source": [
    "from pandas import read_csv, concat, DataFrame, Series\n",
    "from matplotlib.pyplot import figure, show\n",
    "from dslabs_functions import plot_bar_chart\n",
    "\n",
    "file = \"stroke_train\"\n",
    "target = \"stroke\"\n",
    "original: DataFrame = read_csv(f\"data/{file}.csv\", sep=\",\", decimal=\".\")\n",
    "\n",
    "target_count: Series = original[target].value_counts()\n",
    "positive_class = target_count.idxmin()\n",
    "negative_class = target_count.idxmax()\n",
    "\n",
    "print(\"Minority class=\", positive_class, \":\", target_count[positive_class])\n",
    "print(\"Majority class=\", negative_class, \":\", target_count[negative_class])\n",
    "print(\n",
    "    \"Proportion:\",\n",
    "    round(target_count[positive_class] / target_count[negative_class], 2),\n",
    "    \": 1\",\n",
    ")\n",
    "values: dict[str, list] = {\n",
    "    \"Original\": [target_count[positive_class], target_count[negative_class]]\n",
    "}\n",
    "\n",
    "figure()\n",
    "plot_bar_chart(\n",
    "    target_count.index.to_list(), target_count.to_list(), title=\"Class balance\"\n",
    ")\n",
    "show()"
   ]
  },
  {
   "cell_type": "code",
   "execution_count": null,
   "id": "e5e5abe3",
   "metadata": {},
   "outputs": [],
   "source": [
    "df_positives: Series = original[original[target] == positive_class]\n",
    "df_negatives: Series = original[original[target] == negative_class]"
   ]
  },
  {
   "cell_type": "code",
   "execution_count": null,
   "id": "ea4a16ff",
   "metadata": {},
   "outputs": [],
   "source": [
    "df_neg_sample: DataFrame = DataFrame(df_negatives.sample(len(df_positives)))\n",
    "df_under: DataFrame = concat([df_positives, df_neg_sample], axis=0)\n",
    "df_under.to_csv(f\"data/{file}_under.csv\", index=False)\n",
    "\n",
    "print(\"Minority class=\", positive_class, \":\", len(df_positives))\n",
    "print(\"Majority class=\", negative_class, \":\", len(df_neg_sample))\n",
    "print(\"Proportion:\", round(len(df_positives) / len(df_neg_sample), 2), \": 1\")"
   ]
  },
  {
   "cell_type": "code",
   "execution_count": null,
   "id": "4bc190e9",
   "metadata": {},
   "outputs": [],
   "source": [
    "df_pos_sample: DataFrame = DataFrame(\n",
    "    df_positives.sample(len(df_negatives), replace=True)\n",
    ")\n",
    "df_over: DataFrame = concat([df_pos_sample, df_negatives], axis=0)\n",
    "df_over.to_csv(f\"data/{file}_over.csv\", index=False)\n",
    "\n",
    "print(\"Minority class=\", positive_class, \":\", len(df_pos_sample))\n",
    "print(\"Majority class=\", negative_class, \":\", len(df_negatives))\n",
    "print(\"Proportion:\", round(len(df_pos_sample) / len(df_negatives), 2), \": 1\")"
   ]
  },
  {
   "cell_type": "markdown",
   "id": "fd3536cf",
   "metadata": {},
   "source": [
    "<h3>SMOTE</h3>"
   ]
  },
  {
   "cell_type": "code",
   "execution_count": null,
   "id": "d7078a68",
   "metadata": {},
   "outputs": [],
   "source": [
    "from numpy import ndarray\n",
    "from pandas import Series\n",
    "from imblearn.over_sampling import SMOTE\n",
    "\n",
    "RANDOM_STATE = 42\n",
    "\n",
    "smote: SMOTE = SMOTE(sampling_strategy=\"minority\", random_state=RANDOM_STATE)\n",
    "y = original.pop(target).values\n",
    "X: ndarray = original.values\n",
    "smote_X, smote_y = smote.fit_resample(X, y)\n",
    "df_smote: DataFrame = concat([DataFrame(smote_X), DataFrame(smote_y)], axis=1)\n",
    "df_smote.columns = list(original.columns) + [target]\n",
    "df_smote.to_csv(f\"data/{file}_smote.csv\", index=False)\n",
    "\n",
    "smote_target_count: Series = Series(smote_y).value_counts()\n",
    "print(\"Minority class=\", positive_class, \":\", smote_target_count[positive_class])\n",
    "print(\"Majority class=\", negative_class, \":\", smote_target_count[negative_class])\n",
    "print(\n",
    "    \"Proportion:\",\n",
    "    round(smote_target_count[positive_class] / smote_target_count[negative_class], 2),\n",
    "    \": 1\",\n",
    ")\n",
    "print(df_smote.shape)"
   ]
  }
 ],
 "metadata": {},
 "nbformat": 4,
 "nbformat_minor": 5
}
