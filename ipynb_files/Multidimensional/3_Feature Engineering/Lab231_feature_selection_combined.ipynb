{
 "cells": [
  {
   "cell_type": "markdown",
   "id": "242b6d51",
   "metadata": {},
   "source": [
    "<h1>Feature Engineering</h1><h2 align=\"center\">Feature Selection</h2>"
   ]
  },
  {
   "cell_type": "code",
   "execution_count": 1,
   "id": "b54a71df",
   "metadata": {},
   "outputs": [],
   "source": [
    "# import pandas as pd\n",
    "\n",
    "# def sample(filepath_in, filepath_out, get_head, num_samples):\n",
    "#     df = pd.read_csv(filepath_in)\n",
    "#     if get_head:\n",
    "#         df = df.head(num_samples)\n",
    "#     else:\n",
    "#         df = df.tail(num_samples)\n",
    "#     df.to_csv(filepath_out, index=False)\n",
    "\n",
    "# # filename = \"class_covid_final_test\"\n",
    "# # filename = \"class_covid_final_train\"\n",
    "# # filename = \"class_credit_score_test\"\n",
    "# filename = \"class_credit_score_train\"\n",
    "# filepath_in = f\"../../../data/{filename}.csv\"\n",
    "# filepath_out = f\"{filename}.csv\"\n",
    "\n",
    "# sample(filepath_in, filepath_out, True, 1000)"
   ]
  },
  {
   "cell_type": "markdown",
   "id": "0f695e62",
   "metadata": {},
   "source": [
    "# Dataset 1"
   ]
  },
  {
   "cell_type": "markdown",
   "id": "bff024da",
   "metadata": {},
   "source": [
    "<h3>Dropping Low Variance Variables</h3>"
   ]
  },
  {
   "cell_type": "code",
   "execution_count": 2,
   "id": "91415640",
   "metadata": {},
   "outputs": [
    {
     "name": "stdout",
     "output_type": "stream",
     "text": [
      "Original variables ['State', 'Sex', 'GeneralHealth', 'PhysicalHealthDays', 'MentalHealthDays', 'LastCheckupTime', 'PhysicalActivities', 'SleepHours', 'RemovedTeeth', 'HadHeartAttack', 'HadAngina', 'HadStroke', 'HadAsthma', 'HadSkinCancer', 'HadCOPD', 'HadDepressiveDisorder', 'HadKidneyDisease', 'HadArthritis', 'HadDiabetes', 'DeafOrHardOfHearing', 'BlindOrVisionDifficulty', 'DifficultyConcentrating', 'DifficultyWalking', 'DifficultyDressingBathing', 'DifficultyErrands', 'SmokerStatus', 'ECigaretteUsage', 'ChestScan', 'RaceEthnicityCategory', 'AgeCategory', 'HeightInMeters', 'WeightInKilograms', 'BMI', 'AlcoholDrinkers', 'HIVTesting', 'FluVaxLast12', 'PneumoVaxEver', 'TetanusLast10Tdap', 'HighRiskLastYear', 'CovidPos']\n",
      "Variables to drop ['Sex', 'GeneralHealth', 'LastCheckupTime', 'PhysicalActivities', 'SleepHours', 'RemovedTeeth', 'HadHeartAttack', 'HadAngina', 'HadStroke', 'HadAsthma', 'HadSkinCancer', 'HadCOPD', 'HadDepressiveDisorder', 'HadKidneyDisease', 'HadArthritis', 'HadDiabetes', 'DeafOrHardOfHearing', 'BlindOrVisionDifficulty', 'DifficultyConcentrating', 'DifficultyWalking', 'DifficultyDressingBathing', 'DifficultyErrands', 'ChestScan', 'HeightInMeters', 'AlcoholDrinkers', 'HIVTesting', 'FluVaxLast12', 'PneumoVaxEver', 'HighRiskLastYear']\n"
     ]
    }
   ],
   "source": [
    "from pandas import DataFrame, Index, read_csv\n",
    "from dslabs_functions import (\n",
    "    select_low_variance_variables,\n",
    "    study_variance_for_feature_selection,\n",
    "    apply_feature_selection,\n",
    "    select_redundant_variables,\n",
    "    study_redundancy_for_feature_selection,\n",
    ")\n",
    "\n",
    "\n",
    "def select_low_variance_variables(\n",
    "    data: DataFrame, max_threshold: float, target: str = \"class\"\n",
    ") -> list:\n",
    "    summary5: DataFrame = data.describe()\n",
    "    vars2drop: Index[str] = summary5.columns[\n",
    "        summary5.loc[\"std\"] * summary5.loc[\"std\"] < max_threshold\n",
    "    ]\n",
    "    vars2drop = vars2drop.drop(target) if target in vars2drop else vars2drop\n",
    "    return list(vars2drop.values)\n",
    "\n",
    "\n",
    "target = \"CovidPos\"\n",
    "file_tag = \"covid\"\n",
    "# filename = \"class_covid_final_train.csv\"\n",
    "filename = \"../../../data/class_covid_final_train.csv\"\n",
    "train: DataFrame = read_csv(filename)\n",
    "\n",
    "print(\"Original variables\", train.columns.to_list())\n",
    "vars2drop: list[str] = select_low_variance_variables(train, 3, target=target)\n",
    "print(\"Variables to drop\", vars2drop)"
   ]
  },
  {
   "cell_type": "code",
   "execution_count": 3,
   "id": "bad27023",
   "metadata": {},
   "outputs": [],
   "source": [
    "from math import ceil\n",
    "from matplotlib.pyplot import savefig, show, figure\n",
    "from dslabs_functions import HEIGHT, evaluate_approach, plot_multiline_chart\n",
    "\n",
    "\n",
    "def study_variance_for_feature_selection(\n",
    "    train: DataFrame,\n",
    "    test: DataFrame,\n",
    "    target: str = \"class\",\n",
    "    max_threshold: float = 1,\n",
    "    lag: float = 0.05,\n",
    "    metric: str = \"accuracy\",\n",
    "    file_tag: str = \"\",\n",
    ") -> dict:\n",
    "    options: list[float] = [\n",
    "        round(i * lag, 3) for i in range(1, ceil(max_threshold / lag + lag))\n",
    "    ]\n",
    "    # results: dict[str, list] = {\"NB\": []}\n",
    "    results: dict[str, list] = {\"NB\": [], \"KNN\": []}\n",
    "    summary5: DataFrame = train.describe()\n",
    "    for thresh in options:\n",
    "        vars2drop: Index[str] = summary5.columns[\n",
    "            summary5.loc[\"std\"] * summary5.loc[\"std\"] < thresh\n",
    "        ]\n",
    "        vars2drop = vars2drop.drop(target) if target in vars2drop else vars2drop\n",
    "\n",
    "        train_copy: DataFrame = train.drop(vars2drop, axis=1, inplace=False)\n",
    "        test_copy: DataFrame = test.drop(vars2drop, axis=1, inplace=False)\n",
    "        eval: dict[str, list] | None = evaluate_approach(\n",
    "            train_copy, test_copy, target=target, metric=metric\n",
    "        )\n",
    "        if eval is not None:\n",
    "            results[\"NB\"].append(eval[metric][0])\n",
    "            results[\"KNN\"].append(eval[metric][1])\n",
    "\n",
    "    plot_multiline_chart(\n",
    "        options,\n",
    "        results,\n",
    "        title=f\"{file_tag} variance study ({metric})\",\n",
    "        xlabel=\"variance threshold\",\n",
    "        ylabel=metric,\n",
    "        percentage=True,\n",
    "    )\n",
    "    savefig(f\"images/{file_tag}_fs_low_var_{metric}_study.png\")\n",
    "    return results\n",
    "\n",
    "\n",
    "eval_metric = \"accuracy\"\n",
    "test_filename = \"../../../data/class_covid_final_test.csv\"\n",
    "# test_filename = \"class_covid_final_train.csv\"\n",
    "test: DataFrame = read_csv(test_filename)\n",
    "\n",
    "figure(figsize=(2 * HEIGHT, HEIGHT))\n",
    "study_variance_for_feature_selection(\n",
    "    train,\n",
    "    test,\n",
    "    target=target,\n",
    "    max_threshold=3,\n",
    "    lag=0.1,\n",
    "    metric=eval_metric,\n",
    "    file_tag=file_tag,\n",
    ")\n",
    "show()"
   ]
  },
  {
   "cell_type": "code",
   "execution_count": null,
   "id": "24da763c",
   "metadata": {},
   "outputs": [
    {
     "name": "stdout",
     "output_type": "stream",
     "text": [
      "Original data: train=(266652, 40), test=(114280, 40)\n",
      "After low variance FS: train_cp=(266652, 14), test_cp=(114280, 14)\n"
     ]
    }
   ],
   "source": [
    "def apply_feature_selection(\n",
    "    train: DataFrame,\n",
    "    test: DataFrame,\n",
    "    vars2drop: list,\n",
    "    filename: str = \"\",\n",
    "    tag: str = \"\",\n",
    ") -> tuple[DataFrame, DataFrame]:\n",
    "    train_copy: DataFrame = train.drop(vars2drop, axis=1, inplace=False)\n",
    "    train_copy.to_csv(f\"{filename}_train_{tag}.csv\", index=True)\n",
    "    test_copy: DataFrame = test.drop(vars2drop, axis=1, inplace=False)\n",
    "    test_copy.to_csv(f\"{filename}_test_{tag}.csv\", index=True)\n",
    "    return train_copy, test_copy\n",
    "\n",
    "\n",
    "vars2drop: list[str] = select_low_variance_variables(\n",
    "    train, max_threshold=1.2, target=target\n",
    ")\n",
    "train_cp, test_cp = apply_feature_selection(\n",
    "    train, test, vars2drop, filename=f\"data/{file_tag}\", tag=\"lowvar\"\n",
    ")\n",
    "print(f\"Original data: train={train.shape}, test={test.shape}\")\n",
    "print(f\"After low variance FS: train_cp={train_cp.shape}, test_cp={test_cp.shape}\")"
   ]
  },
  {
   "cell_type": "markdown",
   "id": "2d2d0780",
   "metadata": {},
   "source": [
    "<h3>Dropping Redundant Variables</h3>"
   ]
  },
  {
   "cell_type": "code",
   "execution_count": null,
   "id": "0e3c81cd",
   "metadata": {},
   "outputs": [
    {
     "name": "stdout",
     "output_type": "stream",
     "text": [
      "Original variables ['State' 'Sex' 'GeneralHealth' 'PhysicalHealthDays' 'MentalHealthDays'\n",
      " 'LastCheckupTime' 'PhysicalActivities' 'SleepHours' 'RemovedTeeth'\n",
      " 'HadHeartAttack' 'HadAngina' 'HadStroke' 'HadAsthma' 'HadSkinCancer'\n",
      " 'HadCOPD' 'HadDepressiveDisorder' 'HadKidneyDisease' 'HadArthritis'\n",
      " 'HadDiabetes' 'DeafOrHardOfHearing' 'BlindOrVisionDifficulty'\n",
      " 'DifficultyConcentrating' 'DifficultyWalking' 'DifficultyDressingBathing'\n",
      " 'DifficultyErrands' 'SmokerStatus' 'ECigaretteUsage' 'ChestScan'\n",
      " 'RaceEthnicityCategory' 'AgeCategory' 'HeightInMeters'\n",
      " 'WeightInKilograms' 'BMI' 'AlcoholDrinkers' 'HIVTesting' 'FluVaxLast12'\n",
      " 'PneumoVaxEver' 'TetanusLast10Tdap' 'HighRiskLastYear' 'CovidPos']\n",
      "Variables to drop []\n"
     ]
    }
   ],
   "source": [
    "from pandas import Series\n",
    "\n",
    "\n",
    "def select_redundant_variables(\n",
    "    data: DataFrame, min_threshold: float = 0.90, target: str = \"class\"\n",
    ") -> list:\n",
    "    df: DataFrame = data.drop(target, axis=1, inplace=False)\n",
    "    corr_matrix: DataFrame = abs(df.corr())\n",
    "    variables: Index[str] = corr_matrix.columns\n",
    "    vars2drop: list = []\n",
    "    for v1 in variables:\n",
    "        vars_corr: Series = (corr_matrix[v1]).loc[corr_matrix[v1] >= min_threshold]\n",
    "        vars_corr.drop(v1, inplace=True)\n",
    "        if len(vars_corr) > 1:\n",
    "            lst_corr = list(vars_corr.index)\n",
    "            for v2 in lst_corr:\n",
    "                if v2 not in vars2drop:\n",
    "                    vars2drop.append(v2)\n",
    "    return vars2drop\n",
    "\n",
    "\n",
    "print(\"Original variables\", train.columns.values)\n",
    "vars2drop: list[str] = select_redundant_variables(\n",
    "    train, target=target, min_threshold=0.5\n",
    ")\n",
    "print(\"Variables to drop\", vars2drop)"
   ]
  },
  {
   "cell_type": "code",
   "execution_count": null,
   "id": "112abc3e",
   "metadata": {},
   "outputs": [],
   "source": [
    "def study_redundancy_for_feature_selection(\n",
    "    train: DataFrame,\n",
    "    test: DataFrame,\n",
    "    target: str = \"class\",\n",
    "    min_threshold: float = 0.90,\n",
    "    lag: float = 0.05,\n",
    "    metric: str = \"accuracy\",\n",
    "    file_tag: str = \"\",\n",
    ") -> dict:\n",
    "    options: list[float] = [\n",
    "        round(min_threshold + i * lag, 3)\n",
    "        for i in range(ceil((1 - min_threshold) / lag) + 1)\n",
    "    ]\n",
    "\n",
    "    df: DataFrame = train.drop(target, axis=1, inplace=False)\n",
    "    corr_matrix: DataFrame = abs(df.corr())\n",
    "    variables: Index[str] = corr_matrix.columns\n",
    "    results: dict[str, list] = {\"NB\": [], \"KNN\": []}\n",
    "    for thresh in options:\n",
    "        vars2drop: list = []\n",
    "        for v1 in variables:\n",
    "            vars_corr: Series = (corr_matrix[v1]).loc[corr_matrix[v1] >= thresh]\n",
    "            vars_corr.drop(v1, inplace=True)\n",
    "            if len(vars_corr) > 1:\n",
    "                lst_corr = list(vars_corr.index)\n",
    "                for v2 in lst_corr:\n",
    "                    if v2 not in vars2drop:\n",
    "                        vars2drop.append(v2)\n",
    "\n",
    "        train_copy: DataFrame = train.drop(vars2drop, axis=1, inplace=False)\n",
    "        test_copy: DataFrame = test.drop(vars2drop, axis=1, inplace=False)\n",
    "        eval: dict | None = evaluate_approach(\n",
    "            train_copy, test_copy, target=target, metric=metric\n",
    "        )\n",
    "        if eval is not None:\n",
    "            results[\"NB\"].append(eval[metric][0])\n",
    "            results[\"KNN\"].append(eval[metric][1])\n",
    "\n",
    "    plot_multiline_chart(\n",
    "        options,\n",
    "        results,\n",
    "        title=f\"{file_tag} redundancy study ({metric})\",\n",
    "        xlabel=\"correlation threshold\",\n",
    "        ylabel=metric,\n",
    "        percentage=True,\n",
    "    )\n",
    "    savefig(f\"images/{file_tag}_fs_redundancy_{metric}_study.png\")\n",
    "    return results\n",
    "\n",
    "\n",
    "eval_metric = \"accuracy\"\n",
    "# test_filename = \"class_covid_final_test.csv\"\n",
    "\n",
    "test: DataFrame = read_csv(test_filename)\n",
    "\n",
    "figure(figsize=(2 * HEIGHT, HEIGHT))\n",
    "study_redundancy_for_feature_selection(\n",
    "    train,\n",
    "    test,\n",
    "    target=target,\n",
    "    min_threshold=0.25,\n",
    "    lag=0.05,\n",
    "    metric=eval_metric,\n",
    "    file_tag=file_tag,\n",
    ")\n",
    "show()"
   ]
  },
  {
   "cell_type": "code",
   "execution_count": null,
   "id": "9a0e5bec",
   "metadata": {},
   "outputs": [
    {
     "name": "stdout",
     "output_type": "stream",
     "text": [
      "Original data: train=(1000, 40), test=(1000, 40)\n",
      "After redundant FS: train_cp=(1000, 40), test_cp=(1000, 40)\n"
     ]
    }
   ],
   "source": [
    "vars2drop: list[str] = select_redundant_variables(\n",
    "    train, min_threshold=0.5, target=target\n",
    ")\n",
    "train_cp, test_cp = apply_feature_selection(\n",
    "    train, test, vars2drop, filename=f\"data/{file_tag}\", tag=\"redundant\"\n",
    ")\n",
    "print(f\"Original data: train={train.shape}, test={test.shape}\")\n",
    "print(f\"After redundant FS: train_cp={train_cp.shape}, test_cp={test_cp.shape}\")"
   ]
  },
  {
   "cell_type": "markdown",
   "id": "6636cec8",
   "metadata": {},
   "source": [
    "# Dataset 2"
   ]
  },
  {
   "cell_type": "markdown",
   "id": "b8653e90",
   "metadata": {},
   "source": [
    "<h3>Dropping Low Variance Variables</h3>"
   ]
  },
  {
   "cell_type": "code",
   "execution_count": null,
   "id": "2812d2ca",
   "metadata": {},
   "outputs": [
    {
     "name": "stdout",
     "output_type": "stream",
     "text": [
      "Original variables ['ID', 'Age', 'Occupation', 'Annual_Income', 'Monthly_Inhand_Salary', 'Num_Bank_Accounts', 'Interest_Rate', 'NumofLoan', 'Delay_from_due_date', 'NumofDelayedPayment', 'ChangedCreditLimit', 'NumCreditInquiries', 'CreditMix', 'OutstandingDebt', 'CreditUtilizationRatio', 'Credit_History_Age', 'Payment_of_Min_Amount', 'TotalEMIpermonth', 'Amountinvestedmonthly', 'MonthlyBalance', 'sin_month', 'cos_month', 'PaydayLoan', 'AutoLoan', 'Credit-BuilderLoan', 'StudentLoan', 'NotSpecified', 'MortgageLoan', 'HomeEquityLoan', 'DebtConsolidationLoan', 'PersonalLoan', 'spent', 'value_payments', 'Credit_Score']\n",
      "Variables to drop ['Age', 'Occupation', 'Annual_Income', 'Monthly_Inhand_Salary', 'Num_Bank_Accounts', 'Interest_Rate', 'NumofLoan', 'Delay_from_due_date', 'NumofDelayedPayment', 'ChangedCreditLimit', 'NumCreditInquiries', 'CreditMix', 'OutstandingDebt', 'CreditUtilizationRatio', 'Credit_History_Age', 'Payment_of_Min_Amount', 'TotalEMIpermonth', 'Amountinvestedmonthly', 'MonthlyBalance', 'sin_month', 'cos_month', 'PaydayLoan', 'AutoLoan', 'Credit-BuilderLoan', 'StudentLoan', 'NotSpecified', 'MortgageLoan', 'HomeEquityLoan', 'DebtConsolidationLoan', 'PersonalLoan', 'spent', 'value_payments']\n"
     ]
    }
   ],
   "source": [
    "from pandas import DataFrame, Index, read_csv\n",
    "from dslabs_functions import (\n",
    "    select_low_variance_variables,\n",
    "    study_variance_for_feature_selection,\n",
    "    apply_feature_selection,\n",
    "    select_redundant_variables,\n",
    "    study_redundancy_for_feature_selection,\n",
    ")\n",
    "\n",
    "\n",
    "def select_low_variance_variables(\n",
    "    data: DataFrame, max_threshold: float, target: str = \"class\"\n",
    ") -> list:\n",
    "    summary5: DataFrame = data.describe()\n",
    "    vars2drop: Index[str] = summary5.columns[\n",
    "        summary5.loc[\"std\"] * summary5.loc[\"std\"] < max_threshold\n",
    "    ]\n",
    "    vars2drop = vars2drop.drop(target) if target in vars2drop else vars2drop\n",
    "    return list(vars2drop.values)\n",
    "\n",
    "\n",
    "target = \"Credit_Score\"\n",
    "file_tag = \"services\"\n",
    "filename = \"../../../data/class_credit_score_train.csv\"\n",
    "train: DataFrame = read_csv(filename)\n",
    "\n",
    "print(\"Original variables\", train.columns.to_list())\n",
    "vars2drop: list[str] = select_low_variance_variables(train, 3, target=target)\n",
    "print(\"Variables to drop\", vars2drop)"
   ]
  },
  {
   "cell_type": "code",
   "execution_count": null,
   "id": "e29e5f54",
   "metadata": {},
   "outputs": [],
   "source": [
    "from math import ceil\n",
    "from matplotlib.pyplot import savefig, show, figure\n",
    "from dslabs_functions import HEIGHT, evaluate_approach, plot_multiline_chart\n",
    "\n",
    "\n",
    "def study_variance_for_feature_selection(\n",
    "    train: DataFrame,\n",
    "    test: DataFrame,\n",
    "    target: str = \"class\",\n",
    "    max_threshold: float = 1,\n",
    "    lag: float = 0.05,\n",
    "    metric: str = \"accuracy\",\n",
    "    file_tag: str = \"\",\n",
    ") -> dict:\n",
    "    options: list[float] = [\n",
    "        round(i * lag, 3) for i in range(1, ceil(max_threshold / lag + lag))\n",
    "    ]\n",
    "    # results: dict[str, list] = {\"NB\": []}\n",
    "    results: dict[str, list] = {\"NB\": [], \"KNN\": []}\n",
    "    summary5: DataFrame = train.describe()\n",
    "    for thresh in options:\n",
    "        vars2drop: Index[str] = summary5.columns[\n",
    "            summary5.loc[\"std\"] * summary5.loc[\"std\"] < thresh\n",
    "        ]\n",
    "        vars2drop = vars2drop.drop(target) if target in vars2drop else vars2drop\n",
    "\n",
    "        train_copy: DataFrame = train.drop(vars2drop, axis=1, inplace=False)\n",
    "        test_copy: DataFrame = test.drop(vars2drop, axis=1, inplace=False)\n",
    "        eval: dict[str, list] | None = evaluate_approach(\n",
    "            train_copy, test_copy, target=target, metric=metric\n",
    "        )\n",
    "        if eval is not None:\n",
    "            results[\"NB\"].append(eval[metric][0])\n",
    "            results[\"KNN\"].append(eval[metric][1])\n",
    "\n",
    "    plot_multiline_chart(\n",
    "        options,\n",
    "        results,\n",
    "        title=f\"{file_tag} variance study ({metric})\",\n",
    "        xlabel=\"variance threshold\",\n",
    "        ylabel=metric,\n",
    "        percentage=True,\n",
    "    )\n",
    "    savefig(f\"images/{file_tag}_fs_low_var_{metric}_study.png\")\n",
    "    return results\n",
    "\n",
    "\n",
    "eval_metric = \"accuracy\"\n",
    "test_filename = \"../../../data/class_credit_score_test.csv\"\n",
    "\n",
    "test: DataFrame = read_csv(test_filename)\n",
    "\n",
    "figure(figsize=(2 * HEIGHT, HEIGHT))\n",
    "study_variance_for_feature_selection(\n",
    "    train,\n",
    "    test,\n",
    "    target=target,\n",
    "    max_threshold=3,\n",
    "    lag=0.1,\n",
    "    metric=eval_metric,\n",
    "    file_tag=file_tag,\n",
    ")\n",
    "show()"
   ]
  },
  {
   "cell_type": "code",
   "execution_count": null,
   "id": "cd6100ca",
   "metadata": {},
   "outputs": [
    {
     "name": "stdout",
     "output_type": "stream",
     "text": [
      "Original data: train=(1000, 40), test=(1000, 40)\n",
      "After low variance FS: train_cp=(1000, 14), test_cp=(1000, 14)\n"
     ]
    }
   ],
   "source": [
    "def apply_feature_selection(\n",
    "    train: DataFrame,\n",
    "    test: DataFrame,\n",
    "    vars2drop: list,\n",
    "    filename: str = \"\",\n",
    "    tag: str = \"\",\n",
    ") -> tuple[DataFrame, DataFrame]:\n",
    "    train_copy: DataFrame = train.drop(vars2drop, axis=1, inplace=False)\n",
    "    train_copy.to_csv(f\"{filename}_train_{tag}.csv\", index=True)\n",
    "    test_copy: DataFrame = test.drop(vars2drop, axis=1, inplace=False)\n",
    "    test_copy.to_csv(f\"{filename}_test_{tag}.csv\", index=True)\n",
    "    return train_copy, test_copy\n",
    "\n",
    "\n",
    "vars2drop: list[str] = select_low_variance_variables(\n",
    "    train, max_threshold=1.2, target=target\n",
    ")\n",
    "train_cp, test_cp = apply_feature_selection(\n",
    "    train, test, vars2drop, filename=f\"data/{file_tag}\", tag=\"lowvar\"\n",
    ")\n",
    "print(f\"Original data: train={train.shape}, test={test.shape}\")\n",
    "print(f\"After low variance FS: train_cp={train_cp.shape}, test_cp={test_cp.shape}\")"
   ]
  },
  {
   "cell_type": "markdown",
   "id": "20d32562",
   "metadata": {},
   "source": [
    "<h3>Dropping Redundant Variables</h3>"
   ]
  },
  {
   "cell_type": "code",
   "execution_count": null,
   "id": "bb4a6810",
   "metadata": {},
   "outputs": [
    {
     "name": "stdout",
     "output_type": "stream",
     "text": [
      "Original variables ['State' 'Sex' 'GeneralHealth' 'PhysicalHealthDays' 'MentalHealthDays'\n",
      " 'LastCheckupTime' 'PhysicalActivities' 'SleepHours' 'RemovedTeeth'\n",
      " 'HadHeartAttack' 'HadAngina' 'HadStroke' 'HadAsthma' 'HadSkinCancer'\n",
      " 'HadCOPD' 'HadDepressiveDisorder' 'HadKidneyDisease' 'HadArthritis'\n",
      " 'HadDiabetes' 'DeafOrHardOfHearing' 'BlindOrVisionDifficulty'\n",
      " 'DifficultyConcentrating' 'DifficultyWalking' 'DifficultyDressingBathing'\n",
      " 'DifficultyErrands' 'SmokerStatus' 'ECigaretteUsage' 'ChestScan'\n",
      " 'RaceEthnicityCategory' 'AgeCategory' 'HeightInMeters'\n",
      " 'WeightInKilograms' 'BMI' 'AlcoholDrinkers' 'HIVTesting' 'FluVaxLast12'\n",
      " 'PneumoVaxEver' 'TetanusLast10Tdap' 'HighRiskLastYear' 'CovidPos']\n",
      "Variables to drop []\n"
     ]
    }
   ],
   "source": [
    "from pandas import Series\n",
    "\n",
    "\n",
    "def select_redundant_variables(\n",
    "    data: DataFrame, min_threshold: float = 0.90, target: str = \"class\"\n",
    ") -> list:\n",
    "    df: DataFrame = data.drop(target, axis=1, inplace=False)\n",
    "    corr_matrix: DataFrame = abs(df.corr())\n",
    "    variables: Index[str] = corr_matrix.columns\n",
    "    vars2drop: list = []\n",
    "    for v1 in variables:\n",
    "        vars_corr: Series = (corr_matrix[v1]).loc[corr_matrix[v1] >= min_threshold]\n",
    "        vars_corr.drop(v1, inplace=True)\n",
    "        if len(vars_corr) > 1:\n",
    "            lst_corr = list(vars_corr.index)\n",
    "            for v2 in lst_corr:\n",
    "                if v2 not in vars2drop:\n",
    "                    vars2drop.append(v2)\n",
    "    return vars2drop\n",
    "\n",
    "\n",
    "print(\"Original variables\", train.columns.values)\n",
    "vars2drop: list[str] = select_redundant_variables(\n",
    "    train, target=target, min_threshold=0.5\n",
    ")\n",
    "print(\"Variables to drop\", vars2drop)"
   ]
  },
  {
   "cell_type": "code",
   "execution_count": null,
   "id": "aa9841c1",
   "metadata": {},
   "outputs": [
    {
     "data": {
      "image/png": "[encoded data removed]",
      "text/plain": [
       "<Figure size 1200x600 with 1 Axes>"
      ]
     },
     "metadata": {},
     "output_type": "display_data"
    }
   ],
   "source": [
    "def study_redundancy_for_feature_selection(\n",
    "    train: DataFrame,\n",
    "    test: DataFrame,\n",
    "    target: str = \"class\",\n",
    "    min_threshold: float = 0.90,\n",
    "    lag: float = 0.05,\n",
    "    metric: str = \"accuracy\",\n",
    "    file_tag: str = \"\",\n",
    ") -> dict:\n",
    "    options: list[float] = [\n",
    "        round(min_threshold + i * lag, 3)\n",
    "        for i in range(ceil((1 - min_threshold) / lag) + 1)\n",
    "    ]\n",
    "\n",
    "    df: DataFrame = train.drop(target, axis=1, inplace=False)\n",
    "    corr_matrix: DataFrame = abs(df.corr())\n",
    "    variables: Index[str] = corr_matrix.columns\n",
    "    results: dict[str, list] = {\"NB\": [], \"KNN\": []}\n",
    "    for thresh in options:\n",
    "        vars2drop: list = []\n",
    "        for v1 in variables:\n",
    "            vars_corr: Series = (corr_matrix[v1]).loc[corr_matrix[v1] >= thresh]\n",
    "            vars_corr.drop(v1, inplace=True)\n",
    "            if len(vars_corr) > 1:\n",
    "                lst_corr = list(vars_corr.index)\n",
    "                for v2 in lst_corr:\n",
    "                    if v2 not in vars2drop:\n",
    "                        vars2drop.append(v2)\n",
    "\n",
    "        train_copy: DataFrame = train.drop(vars2drop, axis=1, inplace=False)\n",
    "        test_copy: DataFrame = test.drop(vars2drop, axis=1, inplace=False)\n",
    "        eval: dict | None = evaluate_approach(\n",
    "            train_copy, test_copy, target=target, metric=metric\n",
    "        )\n",
    "        if eval is not None:\n",
    "            results[\"NB\"].append(eval[metric][0])\n",
    "            results[\"KNN\"].append(eval[metric][1])\n",
    "\n",
    "    plot_multiline_chart(\n",
    "        options,\n",
    "        results,\n",
    "        title=f\"{file_tag} redundancy study ({metric})\",\n",
    "        xlabel=\"correlation threshold\",\n",
    "        ylabel=metric,\n",
    "        percentage=True,\n",
    "    )\n",
    "    savefig(f\"images/{file_tag}_fs_redundancy_{metric}_study.png\")\n",
    "    return results\n",
    "\n",
    "\n",
    "# eval_metric = \"accuracy\"\n",
    "# test_filename = \"class_covid_final_test.csv\"\n",
    "\n",
    "test: DataFrame = read_csv(test_filename)\n",
    "\n",
    "figure(figsize=(2 * HEIGHT, HEIGHT))\n",
    "study_redundancy_for_feature_selection(\n",
    "    train,\n",
    "    test,\n",
    "    target=target,\n",
    "    min_threshold=0.25,\n",
    "    lag=0.05,\n",
    "    metric=eval_metric,\n",
    "    file_tag=file_tag,\n",
    ")\n",
    "show()"
   ]
  },
  {
   "cell_type": "code",
   "execution_count": null,
   "id": "e850aaf4",
   "metadata": {},
   "outputs": [
    {
     "name": "stdout",
     "output_type": "stream",
     "text": [
      "Original data: train=(1000, 40), test=(100, 40)\n",
      "After redundant FS: train_cp=(1000, 40), test_cp=(100, 40)\n"
     ]
    }
   ],
   "source": [
    "vars2drop: list[str] = select_redundant_variables(\n",
    "    train, min_threshold=0.5, target=target\n",
    ")\n",
    "train_cp, test_cp = apply_feature_selection(\n",
    "    train, test, vars2drop, filename=f\"data/{file_tag}\", tag=\"redundant\"\n",
    ")\n",
    "print(f\"Original data: train={train.shape}, test={test.shape}\")\n",
    "print(f\"After redundant FS: train_cp={train_cp.shape}, test_cp={test_cp.shape}\")"
   ]
  }
 ],
 "metadata": {
  "kernelspec": {
   "display_name": "data_science",
   "language": "python",
   "name": "python3"
  },
  "language_info": {
   "codemirror_mode": {
    "name": "ipython",
    "version": 3
   },
   "file_extension": ".py",
   "mimetype": "text/x-python",
   "name": "python",
   "nbconvert_exporter": "python",
   "pygments_lexer": "ipython3",
   "version": "3.12.0"
  }
 },
 "nbformat": 4,
 "nbformat_minor": 5
}
