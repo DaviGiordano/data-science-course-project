{
 "cells": [
  {
   "cell_type": "markdown",
   "id": "5d8d8776",
   "metadata": {},
   "source": [
    "<h1>Feature Engineering</h1><h2 align=\"center\">Feature Extraction</h2>"
   ]
  },
  {
   "cell_type": "code",
   "execution_count": null,
   "id": "d044acc8",
   "metadata": {},
   "outputs": [],
   "source": [
    "from pandas import read_csv, DataFrame\n",
    "from matplotlib.pyplot import figure, show, gca\n",
    "from dslabs_functions import plot_multi_scatters_chart\n",
    "\n",
    "data: DataFrame = read_csv(\"data/stroke_scaled_zscore.csv\", index_col=\"id\")\n",
    "target = \"stroke\"\n",
    "var1 = \"age\"\n",
    "var2 = \"bmi\"\n",
    "\n",
    "figure()\n",
    "plot_multi_scatters_chart(data, var1, var2, target)\n",
    "show()"
   ]
  },
  {
   "cell_type": "markdown",
   "id": "4f2cd5ec",
   "metadata": {},
   "source": [
    "<h2 style=\"font-family:Arial;color:#6c6c6c;font-size:25px;\">PCA</h2>"
   ]
  },
  {
   "cell_type": "code",
   "execution_count": null,
   "id": "2a99d7e2",
   "metadata": {},
   "outputs": [],
   "source": [
    "from sklearn.decomposition import PCA\n",
    "from pandas import Series, Index\n",
    "from matplotlib.axes import Axes\n",
    "from dslabs_functions import plot_bar_chart\n",
    "\n",
    "target_data: Series = data.pop(target)\n",
    "index: Index = data.index\n",
    "pca = PCA()\n",
    "pca.fit(data)\n",
    "\n",
    "xvalues: list[str] = [f\"PC{i+1}\" for i in range(len(pca.components_))]\n",
    "figure()\n",
    "ax: Axes = gca()\n",
    "plot_bar_chart(\n",
    "    xvalues,\n",
    "    pca.explained_variance_ratio_,\n",
    "    ax=ax,\n",
    "    title=\"Explained variance ratio\",\n",
    "    xlabel=\"PC\",\n",
    "    ylabel=\"ratio\",\n",
    "    percentage=True,\n",
    ")\n",
    "ax.plot(pca.explained_variance_ratio_)\n",
    "show()"
   ]
  },
  {
   "cell_type": "code",
   "execution_count": null,
   "id": "46bb6c13",
   "metadata": {},
   "outputs": [],
   "source": [
    "from pandas import concat\n",
    "\n",
    "\n",
    "transf: PCA = pca.transform(data)\n",
    "data_trsf = DataFrame(transf, columns=xvalues, index=index)\n",
    "data_trsf: DataFrame = concat([data_trsf, target_data], axis=1)\n",
    "\n",
    "figure()\n",
    "plot_multi_scatters_chart(data_trsf, \"PC1\", \"PC2\", target)\n",
    "show()"
   ]
  }
 ],
 "metadata": {},
 "nbformat": 4,
 "nbformat_minor": 5
}
