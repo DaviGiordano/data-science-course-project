{
 "cells": [
  {
   "cell_type": "markdown",
   "id": "b915eefd",
   "metadata": {},
   "source": [
    "<h1>Feature Engineering</h1><h2 align=\"center\">Feature Generation</h2>"
   ]
  }
 ],
 "metadata": {},
 "nbformat": 4,
 "nbformat_minor": 5
}
