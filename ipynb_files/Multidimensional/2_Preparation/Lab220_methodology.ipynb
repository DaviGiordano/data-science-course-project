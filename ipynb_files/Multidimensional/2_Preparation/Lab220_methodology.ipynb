{
 "cells": [
  {
   "cell_type": "markdown",
   "id": "ab66ab7b",
   "metadata": {},
   "source": [
    "<h1>Data Preparation</h1><h2 align=\"center\">Methodology</h2>"
   ]
  },
  {
   "cell_type": "markdown",
   "id": "19c0d490",
   "metadata": {},
   "source": [
    "<h3>The sequence of tasks</h3>"
   ]
  },
  {
   "cell_type": "markdown",
   "id": "4af52a4e",
   "metadata": {},
   "source": [
    "<h3>Processing each task</h3>"
   ]
  },
  {
   "cell_type": "code",
   "execution_count": null,
   "id": "497bef63",
   "metadata": {},
   "outputs": [],
   "source": [
    "from numpy import ndarray\n",
    "from pandas import DataFrame, read_csv\n",
    "from matplotlib.pyplot import savefig, show, figure\n",
    "from auxiliary.dslabs_functions import plot_multibar_chart, CLASS_EVAL_METRICS, run_NB, run_KNN\n",
    "\n",
    "\n",
    "def evaluate_approach(\n",
    "    train: DataFrame, test: DataFrame, target: str = \"class\", metric: str = \"accuracy\"\n",
    ") -> dict[str, list]:\n",
    "    trnY = train.pop(target).values\n",
    "    trnX: ndarray = train.values\n",
    "    tstY = test.pop(target).values\n",
    "    tstX: ndarray = test.values\n",
    "    eval: dict[str, list] = {}\n",
    "\n",
    "    eval_NB: dict[str, float] = run_NB(trnX, trnY, tstX, tstY, metric=metric)\n",
    "    eval_KNN: dict[str, float] = run_KNN(trnX, trnY, tstX, tstY, metric=metric)\n",
    "    if eval_NB != {} and eval_KNN != {}:\n",
    "        for met in CLASS_EVAL_METRICS:\n",
    "            eval[met] = [eval_NB[met], eval_KNN[met]]\n",
    "    return eval\n",
    "\n",
    "\n",
    "target = \"stroke\"\n",
    "file_tag = \"stroke\"\n",
    "train: DataFrame = read_csv(\"data/stroke_train.csv\")\n",
    "test: DataFrame = read_csv(\"data/stroke_test.csv\")\n",
    "\n",
    "figure()\n",
    "eval: dict[str, list] = evaluate_approach(train, test, target=target, metric=\"recall\")\n",
    "plot_multibar_chart(\n",
    "    [\"NB\", \"KNN\"], eval, title=f\"{file_tag} evaluation\", percentage=True\n",
    ")\n",
    "savefig(f\"images/{file_tag}_eval.png\")\n",
    "show()"
   ]
  }
 ],
 "metadata": {
  "language_info": {
   "name": "python"
  }
 },
 "nbformat": 4,
 "nbformat_minor": 5
}
