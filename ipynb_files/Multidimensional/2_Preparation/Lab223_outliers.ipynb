{
 "cells": [
  {
   "cell_type": "markdown",
   "id": "e07821d7",
   "metadata": {},
   "source": [
    "<h1>Data Preparation</h1><h2 align=\"center\">Outliers</h2>"
   ]
  },
  {
   "cell_type": "markdown",
   "id": "0bfacee3",
   "metadata": {},
   "source": [
    "<h3>Dropping Outliers</h3>"
   ]
  },
  {
   "cell_type": "code",
   "execution_count": null,
   "id": "bef81859",
   "metadata": {},
   "outputs": [],
   "source": [
    "from pandas import read_csv, DataFrame, Series\n",
    "from dslabs_functions import (\n",
    "    NR_STDEV,\n",
    "    get_variable_types,\n",
    "    determine_outlier_thresholds_for_var,\n",
    ")\n",
    "\n",
    "file_tag = \"algae\"\n",
    "data: DataFrame = read_csv(\n",
    "    \"data/algae.csv\", index_col=\"date\", na_values=\"\", parse_dates=True, dayfirst=True\n",
    ")\n",
    "print(f\"Original data: {data.shape}\")\n",
    "\n",
    "n_std: int = NR_STDEV\n",
    "numeric_vars: list[str] = get_variable_types(data)[\"numeric\"]\n",
    "if numeric_vars is not None:\n",
    "    df: DataFrame = data.copy(deep=True)\n",
    "    summary5: DataFrame = data[numeric_vars].describe()\n",
    "    for var in numeric_vars:\n",
    "        top_threshold, bottom_threshold = determine_outlier_thresholds_for_var(\n",
    "            summary5[var]\n",
    "        )\n",
    "        outliers: Series = df[(df[var] > top_threshold) | (df[var] < bottom_threshold)]\n",
    "        df.drop(outliers.index, axis=0, inplace=True)\n",
    "    df.to_csv(f\"data/{file_tag}_drop_outliers.csv\", index=True)\n",
    "    print(f\"Data after dropping outliers: {df.shape}\")\n",
    "else:\n",
    "    print(\"There are no numeric variables\")"
   ]
  },
  {
   "cell_type": "markdown",
   "id": "53de09cb",
   "metadata": {},
   "source": [
    "<h3>Replacing outliers with fixed value</h3>"
   ]
  },
  {
   "cell_type": "code",
   "execution_count": null,
   "id": "5583e365",
   "metadata": {},
   "outputs": [],
   "source": [
    "if [] != numeric_vars:\n",
    "    df: DataFrame = data.copy(deep=True)\n",
    "    for var in numeric_vars:\n",
    "        top, bottom = determine_outlier_thresholds_for_var(summary5[var])\n",
    "        median: float = df[var].median()\n",
    "        df[var] = df[var].apply(lambda x: median if x > top or x < bottom else x)\n",
    "    df.to_csv(f\"data/{file_tag}_replacing_outliers.csv\", index=True)\n",
    "    print(\"Data after replacing outliers:\", df.shape)\n",
    "    print(df.describe())\n",
    "else:\n",
    "    print(\"There are no numeric variables\")"
   ]
  },
  {
   "cell_type": "markdown",
   "id": "131cfb72",
   "metadata": {},
   "source": [
    "<h3>Truncating outliers</h3>"
   ]
  },
  {
   "cell_type": "code",
   "execution_count": null,
   "id": "a900d09b",
   "metadata": {},
   "outputs": [],
   "source": [
    "if [] != numeric_vars:\n",
    "    df: DataFrame = data.copy(deep=True)\n",
    "    for var in numeric_vars:\n",
    "        top, bottom = determine_outlier_thresholds_for_var(summary5[var])\n",
    "        df[var] = df[var].apply(\n",
    "            lambda x: top if x > top else bottom if x < bottom else x\n",
    "        )\n",
    "    df.to_csv(f\"data/{file_tag}_truncate_outliers.csv\", index=True)\n",
    "    print(\"Data after truncating outliers:\", df.shape)\n",
    "    print(df.describe())\n",
    "else:\n",
    "    print(\"There are no numeric variables\")"
   ]
  }
 ],
 "metadata": {},
 "nbformat": 4,
 "nbformat_minor": 5
}
