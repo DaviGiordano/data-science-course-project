{
 "cells": [
  {
   "cell_type": "markdown",
   "id": "954168f1",
   "metadata": {},
   "source": [
    "<h1>Data Preparation</h1><h2 align=\"center\">Variable Encoding</h2>"
   ]
  },
  {
   "cell_type": "markdown",
   "id": "2bc27363",
   "metadata": {},
   "source": [
    "<h3>Ordinal Encoding</h3>"
   ]
  },
  {
   "cell_type": "code",
   "execution_count": null,
   "id": "bc232a25",
   "metadata": {},
   "outputs": [],
   "source": [
    "from pandas import read_csv, DataFrame\n",
    "from dslabs_functions import get_variable_types, encode_cyclic_variables, dummify\n",
    "\n",
    "data: DataFrame = read_csv(\"data/stroke_mvi.csv\", index_col=\"id\", na_values=\"\")\n",
    "vars: dict[str, list] = get_variable_types(data)\n",
    "\n",
    "yes_no: dict[str, int] = {\"no\": 0, \"No\": 0, \"yes\": 1, \"Yes\": 1}\n",
    "residence_type_values: dict[str, int] = {\"Rural\": 0, \"Urban\": 1}\n",
    "\n",
    "encoding: dict[str, dict[str, int]] = {\n",
    "    \"Residence_type\": residence_type_values,\n",
    "    \"hypertension\": yes_no,\n",
    "    \"heart_disease\": yes_no,\n",
    "    \"ever_married\": yes_no,\n",
    "    \"stroke\": yes_no,\n",
    "}\n",
    "df: DataFrame = data.replace(encoding, inplace=False)\n",
    "df.head()"
   ]
  },
  {
   "cell_type": "code",
   "execution_count": null,
   "id": "de3793ad",
   "metadata": {},
   "outputs": [],
   "source": [
    "for v in vars[\"symbolic\"]:\n",
    "    print(v, data[v].unique())"
   ]
  },
  {
   "cell_type": "code",
   "execution_count": null,
   "id": "b9ffc98c",
   "metadata": {},
   "outputs": [],
   "source": [
    "gender_values: dict[str, int] = {\"Female\": 0, \"Other\": 1, \"Male\": 2}\n",
    "work_values: dict[str, int] = {\n",
    "    \"children\": 0,\n",
    "    \"Never_worked\": 1,\n",
    "    \"Self-employed\": 2,\n",
    "    \"Private\": 3,\n",
    "    \"Govt_job\": 4,\n",
    "}\n",
    "status_values: dict[str, int] = {\"never smoked\": 0, \"formerly smoked\": 1, \"smokes\": 2}\n",
    "\n",
    "encoding: dict[str, dict[str, int]] = {\n",
    "    \"gender\": gender_values,\n",
    "    \"work_type\": work_values,\n",
    "    \"smoking_status\": status_values,\n",
    "}\n",
    "\n",
    "df: DataFrame = df.replace(encoding, inplace=False)\n",
    "df.head()"
   ]
  },
  {
   "cell_type": "markdown",
   "id": "85d9479d",
   "metadata": {},
   "source": [
    "<h3>Cyclic variables</h3>"
   ]
  },
  {
   "cell_type": "code",
   "execution_count": null,
   "id": "221450db",
   "metadata": {},
   "outputs": [],
   "source": [
    "from math import pi, sin, cos\n",
    "\n",
    "data: DataFrame = read_csv(\n",
    "    \"data/algae.csv\",\n",
    "    index_col=\"date\",\n",
    "    na_values=\"\",\n",
    "    parse_dates=True,\n",
    "    infer_datetime_format=True,\n",
    ")\n",
    "\n",
    "season_val: dict[str, float] = {\n",
    "    \"spring\": 0,\n",
    "    \"summer\": pi / 2,\n",
    "    \"autumn\": pi,\n",
    "    \"winter\": -pi / 2,\n",
    "}\n",
    "lov: dict[str, int] = {\"low\": 0, \"medium\": 1, \"high\": 2}\n",
    "encoding: dict[str, dict] = {\n",
    "    \"river_depth\": lov,\n",
    "    \"fluid_velocity\": lov,\n",
    "    \"season\": season_val,\n",
    "}\n",
    "\n",
    "data = data.replace(encoding)\n",
    "data.head()"
   ]
  },
  {
   "cell_type": "code",
   "execution_count": null,
   "id": "e7b3948f",
   "metadata": {},
   "outputs": [],
   "source": [
    "def encode_cyclic_variables(data: DataFrame, vars: list[str]) -> None:\n",
    "    for v in vars:\n",
    "        x_max: float | int = max(data[v])\n",
    "        data[v + \"_sin\"] = data[v].apply(lambda x: round(sin(2 * pi * x / x_max), 3))\n",
    "        data[v + \"_cos\"] = data[v].apply(lambda x: round(cos(2 * pi * x / x_max), 3))\n",
    "    return\n",
    "\n",
    "\n",
    "data: DataFrame | None = encode_cyclic_variables(data, [\"season\"])\n",
    "if data is not None:\n",
    "    data.head()"
   ]
  },
  {
   "cell_type": "markdown",
   "id": "8164113b",
   "metadata": {},
   "source": [
    "<h3>Dummification or One-hot Encoding</h3>"
   ]
  },
  {
   "cell_type": "code",
   "execution_count": null,
   "id": "53d00416",
   "metadata": {},
   "outputs": [],
   "source": [
    "from numpy import ndarray\n",
    "from pandas import DataFrame, read_csv, concat\n",
    "from sklearn.preprocessing import OneHotEncoder\n",
    "\n",
    "\n",
    "def dummify(df: DataFrame, vars_to_dummify: list[str]) -> DataFrame:\n",
    "    other_vars: list[str] = [c for c in df.columns if not c in vars_to_dummify]\n",
    "\n",
    "    enc = OneHotEncoder(\n",
    "        handle_unknown=\"ignore\", sparse_output=False, dtype=\"bool\", drop=\"if_binary\"\n",
    "    )\n",
    "    trans: ndarray = enc.fit_transform(df[vars_to_dummify])\n",
    "\n",
    "    new_vars: ndarray = enc.get_feature_names_out(vars_to_dummify)\n",
    "    dummy = DataFrame(trans, columns=new_vars, index=df.index)\n",
    "\n",
    "    final_df: DataFrame = concat([df[other_vars], dummy], axis=1)\n",
    "    return final_df\n",
    "\n",
    "\n",
    "data: DataFrame = read_csv(\n",
    "    \"data/algae.csv\", index_col=\"date\", na_values=\"\", parse_dates=True, dayfirst=True\n",
    ")\n",
    "vars: list[str] = [\"river_depth\", \"fluid_velocity\", \"season\"]\n",
    "df: DataFrame = dummify(data, vars)\n",
    "df.head(5)"
   ]
  }
 ],
 "metadata": {
  "kernelspec": {
   "display_name": "datascience",
   "language": "python",
   "name": "datascience"
  },
  "language_info": {
   "codemirror_mode": {
    "name": "ipython",
    "version": 3
   },
   "file_extension": ".py",
   "mimetype": "text/x-python",
   "name": "python",
   "nbconvert_exporter": "python",
   "pygments_lexer": "ipython3",
   "version": "3.12.0"
  }
 },
 "nbformat": 4,
 "nbformat_minor": 5
}
