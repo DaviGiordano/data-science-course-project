{
 "cells": [
  {
   "cell_type": "markdown",
   "id": "1bff58a1",
   "metadata": {},
   "source": [
    "<h1>Data Preparation</h1><h2 align=\"center\">Missing Values Imputation</h2>"
   ]
  },
  {
   "cell_type": "code",
   "execution_count": null,
   "id": "ae94db3e",
   "metadata": {},
   "outputs": [],
   "source": [
    "from pandas import read_csv, DataFrame\n",
    "from matplotlib.pyplot import figure, show\n",
    "from dslabs_functions import plot_bar_chart\n",
    "\n",
    "filename = \"data/stroke.csv\"\n",
    "data: DataFrame = read_csv(filename, index_col=\"id\", na_values=\"\")\n",
    "print(f\"Dataset nr records={data.shape[0]}\", f\"nr variables={data.shape[1]}\")\n",
    "\n",
    "mv: dict[str, int] = {}\n",
    "figure()\n",
    "for var in data:\n",
    "    nr: int = data[var].isna().sum()\n",
    "    if nr > 0:\n",
    "        mv[var] = nr\n",
    "\n",
    "plot_bar_chart(\n",
    "    list(mv.keys()),\n",
    "    list(mv.values()),\n",
    "    title=\"Missing values per variable\",\n",
    "    xlabel=\"variables\",\n",
    "    ylabel=\"nr missing values\",\n",
    ")\n",
    "show()"
   ]
  },
  {
   "cell_type": "markdown",
   "id": "9b03bf53",
   "metadata": {},
   "source": [
    "<h3>Dropping Missing Values</h3>"
   ]
  },
  {
   "cell_type": "code",
   "execution_count": null,
   "id": "883edb4f",
   "metadata": {},
   "outputs": [],
   "source": [
    "df: DataFrame = data.dropna(how=\"any\", inplace=False)\n",
    "df.shape"
   ]
  },
  {
   "cell_type": "code",
   "execution_count": null,
   "id": "5631841a",
   "metadata": {},
   "outputs": [],
   "source": [
    "df: DataFrame = data.dropna(how=\"all\", inplace=False)\n",
    "df.shape"
   ]
  },
  {
   "cell_type": "code",
   "execution_count": null,
   "id": "a361e133",
   "metadata": {},
   "outputs": [],
   "source": [
    "df: DataFrame = data.dropna(axis=1, how=\"any\", inplace=False)\n",
    "df.shape"
   ]
  },
  {
   "cell_type": "code",
   "execution_count": null,
   "id": "9cf500be",
   "metadata": {},
   "outputs": [],
   "source": [
    "def mvi_by_dropping(\n",
    "    data: DataFrame, min_pct_per_var: float = 0.1, min_pct_per_rec: float = 0.0\n",
    ") -> DataFrame:\n",
    "    # Deleting variables\n",
    "    df: DataFrame = data.dropna(\n",
    "        axis=1, thresh=data.shape[0] * min_pct_per_var, inplace=False\n",
    "    )\n",
    "    # Deleting records\n",
    "    df.dropna(axis=0, thresh=data.shape[1] * min_pct_per_rec, inplace=True)\n",
    "\n",
    "    return df\n",
    "\n",
    "\n",
    "df: DataFrame = mvi_by_dropping(data, min_pct_per_variable=0.7, min_pct_per_record=0.9)\n",
    "print(df.shape)"
   ]
  },
  {
   "cell_type": "markdown",
   "id": "7c5ba162",
   "metadata": {},
   "source": [
    "<h3>Filling missing values </h3>"
   ]
  },
  {
   "cell_type": "code",
   "execution_count": null,
   "id": "b5928afe",
   "metadata": {},
   "outputs": [],
   "source": [
    "from numpy import ndarray\n",
    "from pandas import concat\n",
    "from sklearn.impute import SimpleImputer, KNNImputer\n",
    "from dslabs_functions import get_variable_types, mvi_by_filling\n",
    "\n",
    "\n",
    "def mvi_by_filling(data: DataFrame, strategy: str = \"frequent\") -> DataFrame:\n",
    "    df: DataFrame\n",
    "    variables: dict = get_variable_types(data)\n",
    "    stg_num, v_num = \"mean\", -1\n",
    "    stg_sym, v_sym = \"most_frequent\", \"NA\"\n",
    "    stg_bool, v_bool = \"most_frequent\", False\n",
    "    if strategy != \"knn\":\n",
    "        lst_dfs: list = []\n",
    "        if strategy == \"constant\":\n",
    "            stg_num, stg_sym, stg_bool = \"constant\", \"constant\", \"constant\"\n",
    "        if len(variables[\"numeric\"]) > 0:\n",
    "            imp = SimpleImputer(strategy=stg_num, fill_value=v_num, copy=True)\n",
    "            tmp_nr = DataFrame(\n",
    "                imp.fit_transform(data[variables[\"numeric\"]]),\n",
    "                columns=variables[\"numeric\"],\n",
    "            )\n",
    "            lst_dfs.append(tmp_nr)\n",
    "        if len(variables[\"symbolic\"]) > 0:\n",
    "            imp = SimpleImputer(strategy=stg_sym, fill_value=v_sym, copy=True)\n",
    "            tmp_sb = DataFrame(\n",
    "                imp.fit_transform(data[variables[\"symbolic\"]]),\n",
    "                columns=variables[\"symbolic\"],\n",
    "            )\n",
    "            lst_dfs.append(tmp_sb)\n",
    "        if len(variables[\"binary\"]) > 0:\n",
    "            imp = SimpleImputer(strategy=stg_bool, fill_value=v_bool, copy=True)\n",
    "            tmp_bool = DataFrame(\n",
    "                imp.fit_transform(data[variables[\"binary\"]]),\n",
    "                columns=variables[\"binary\"],\n",
    "            )\n",
    "            lst_dfs.append(tmp_bool)\n",
    "        df = concat(lst_dfs, axis=1)\n",
    "    else:\n",
    "        imp = KNNImputer(n_neighbors=5)\n",
    "        imp.fit(data)\n",
    "        ar: ndarray = imp.transform(data)\n",
    "        df = DataFrame(ar, columns=data.columns, index=data.index)\n",
    "    return df\n",
    "\n",
    "\n",
    "df: DataFrame = mvi_by_filling(data, strategy=\"frequent\")\n",
    "df.head(10)"
   ]
  },
  {
   "cell_type": "code",
   "execution_count": null,
   "id": "72b2371c",
   "metadata": {},
   "outputs": [],
   "source": [
    "data: DataFrame = read_csv(\"data/algae.csv\", index_col=\"date\", dayfirst=True)\n",
    "print(\"Algae dataset:\", data.shape)\n",
    "mv: dict[str, int] = {}\n",
    "figure()\n",
    "for var in data:\n",
    "    nr: int = data[var].isna().sum()\n",
    "    if nr > 0:\n",
    "        mv[var] = nr\n",
    "\n",
    "plot_bar_chart(\n",
    "    list(mv.keys()),\n",
    "    list(mv.values()),\n",
    "    title=\"Missing values per variable\",\n",
    "    xlabel=\"variables\",\n",
    "    ylabel=\"nr missing values\",\n",
    ")\n",
    "show()"
   ]
  },
  {
   "cell_type": "code",
   "execution_count": null,
   "id": "7d3f6776",
   "metadata": {},
   "outputs": [],
   "source": [
    "numeric_vars: list[str] = get_variable_types(data)[\"numeric\"]\n",
    "df: DataFrame = mvi_by_filling(data[numeric_vars], strategy=\"frequent\")\n",
    "print(\"MVI frequent strategy\", df.describe())"
   ]
  },
  {
   "cell_type": "code",
   "execution_count": null,
   "id": "4f16f22e",
   "metadata": {},
   "outputs": [],
   "source": [
    "df: DataFrame = mvi_by_filling(data[numeric_vars], strategy=\"knn\")\n",
    "print(\"MVI KNN strategy\", df.describe())"
   ]
  }
 ],
 "metadata": {},
 "nbformat": 4,
 "nbformat_minor": 5
}
