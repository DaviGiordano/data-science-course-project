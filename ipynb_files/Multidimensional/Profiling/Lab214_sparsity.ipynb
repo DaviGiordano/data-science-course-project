{
 "cells": [
  {
   "cell_type": "markdown",
   "id": "84eb170a",
   "metadata": {},
   "source": [
    "<h1>Data Profiling</h1><h2 align=\"center\">Sparsity</h2>"
   ]
  },
  {
   "cell_type": "code",
   "execution_count": null,
   "id": "16f73347",
   "metadata": {},
   "outputs": [],
   "source": [
    "from numpy import ndarray\n",
    "from pandas import read_csv, DataFrame\n",
    "from matplotlib.figure import Figure\n",
    "from matplotlib.pyplot import figure, subplots, savefig, show\n",
    "from dslabs_functions import HEIGHT, plot_multi_scatters_chart\n",
    "\n",
    "file_tag = \"stroke\"\n",
    "filename = \"data/stroke.csv\"\n",
    "data: DataFrame = read_csv(filename, index_col=\"id\", na_values=\"\")\n",
    "data = data.dropna()\n",
    "\n",
    "vars: list = data.columns.to_list()\n",
    "if [] != vars:\n",
    "    target = \"stroke\"\n",
    "\n",
    "    n: int = len(vars) - 1\n",
    "    fig: Figure\n",
    "    axs: ndarray\n",
    "    fig, axs = subplots(n, n, figsize=(n * HEIGHT, n * HEIGHT), squeeze=False)\n",
    "    for i in range(len(vars)):\n",
    "        var1: str = vars[i]\n",
    "        for j in range(i + 1, len(vars)):\n",
    "            var2: str = vars[j]\n",
    "            plot_multi_scatters_chart(data, var1, var2, ax=axs[i, j - 1])\n",
    "    savefig(f\"images/{file_tag}_sparsity_study.png\")\n",
    "    show()\n",
    "else:\n",
    "    print(\"Sparsity class: there are no variables.\")"
   ]
  },
  {
   "cell_type": "code",
   "execution_count": null,
   "id": "2aca3112",
   "metadata": {},
   "outputs": [],
   "source": [
    "if [] != vars:\n",
    "    target = \"stroke\"\n",
    "\n",
    "    n: int = len(vars) - 1\n",
    "    fig, axs = subplots(n, n, figsize=(n * HEIGHT, n * HEIGHT), squeeze=False)\n",
    "    for i in range(len(vars)):\n",
    "        var1: str = vars[i]\n",
    "        for j in range(i + 1, len(vars)):\n",
    "            var2: str = vars[j]\n",
    "            plot_multi_scatters_chart(data, var1, var2, target, ax=axs[i, j - 1])\n",
    "    savefig(f\"images/{file_tag}_sparsity_per_class_study.png\")\n",
    "    show()\n",
    "else:\n",
    "    print(\"Sparsity per class: there are no variables.\")"
   ]
  },
  {
   "cell_type": "markdown",
   "id": "54a68970",
   "metadata": {},
   "source": [
    "<h2 align=\"center\">Correlation analysis</h2>"
   ]
  },
  {
   "cell_type": "code",
   "execution_count": null,
   "id": "a4a31e00",
   "metadata": {},
   "outputs": [],
   "source": [
    "from seaborn import heatmap\n",
    "from dslabs_functions import get_variable_types\n",
    "\n",
    "variables_types: dict[str, list] = get_variable_types(data)\n",
    "numeric: list[str] = variables_types[\"numeric\"]\n",
    "corr_mtx: DataFrame = data[numeric].corr().abs()\n",
    "\n",
    "figure()\n",
    "heatmap(\n",
    "    abs(corr_mtx),\n",
    "    xticklabels=numeric,\n",
    "    yticklabels=numeric,\n",
    "    annot=False,\n",
    "    cmap=\"Blues\",\n",
    "    vmin=0,\n",
    "    vmax=1,\n",
    ")\n",
    "savefig(f\"images/{file_tag}_correlation_analysis.png\")\n",
    "show()"
   ]
  }
 ],
 "metadata": {},
 "nbformat": 4,
 "nbformat_minor": 5
}
