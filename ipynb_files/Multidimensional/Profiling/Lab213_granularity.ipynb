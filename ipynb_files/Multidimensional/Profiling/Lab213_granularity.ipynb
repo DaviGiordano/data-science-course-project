{
 "cells": [
  {
   "cell_type": "markdown",
   "id": "84906347",
   "metadata": {},
   "source": [
    "<h1>Data Profiling</h1><h2 align=\"center\">Data Granularity</h2>"
   ]
  },
  {
   "cell_type": "markdown",
   "id": "6421bcb1",
   "metadata": {},
   "source": [
    "<h3>Dates</h3>"
   ]
  },
  {
   "cell_type": "code",
   "execution_count": null,
   "id": "6407b855",
   "metadata": {},
   "outputs": [],
   "source": [
    "from pandas import DataFrame\n",
    "\n",
    "\n",
    "def derive_date_variables(df: DataFrame, date_vars: list[str]) -> DataFrame:\n",
    "    for date in date_vars:\n",
    "        df[date + \"_year\"] = df[date].dt.year\n",
    "        df[date + \"_quarter\"] = df[date].dt.quarter\n",
    "        df[date + \"_month\"] = df[date].dt.month\n",
    "        df[date + \"_day\"] = df[date].dt.day\n",
    "    return df"
   ]
  },
  {
   "cell_type": "code",
   "execution_count": null,
   "id": "b8599b31",
   "metadata": {},
   "outputs": [],
   "source": [
    "from numpy import ndarray\n",
    "from pandas import Series, read_csv\n",
    "from matplotlib.figure import Figure\n",
    "from matplotlib.pyplot import subplots, savefig, show\n",
    "from dslabs_functions import get_variable_types, plot_bar_chart, HEIGHT\n",
    "\n",
    "\n",
    "def analyse_date_granularity(data: DataFrame, var: str, levels: list[str]) -> ndarray:\n",
    "    cols: int = len(levels)\n",
    "    fig: Figure\n",
    "    axs: ndarray\n",
    "    fig, axs = subplots(1, cols, figsize=(cols * HEIGHT, HEIGHT), squeeze=False)\n",
    "    fig.suptitle(f\"Granularity study for {var}\")\n",
    "\n",
    "    for i in range(cols):\n",
    "        counts: Series[int] = data[var + \"_\" + levels[i]].value_counts()\n",
    "        plot_bar_chart(\n",
    "            counts.index.to_list(),\n",
    "            counts.to_list(),\n",
    "            ax=axs[0, i],\n",
    "            title=levels[i],\n",
    "            xlabel=levels[i],\n",
    "            ylabel=\"nr records\",\n",
    "            percentage=False,\n",
    "        )\n",
    "    return axs\n",
    "\n",
    "\n",
    "file_tag = \"algae\"\n",
    "data: DataFrame = read_csv(\n",
    "    \"data/algae.csv\", index_col=None, parse_dates=True, dayfirst=True\n",
    ")\n",
    "variables_types: dict[str, list] = get_variable_types(data)\n",
    "data_ext: DataFrame = derive_date_variables(data, variables_types[\"date\"])\n",
    "\n",
    "for v_date in variables_types[\"date\"]:\n",
    "    analyse_date_granularity(data, v_date, [\"year\", \"quarter\", \"month\", \"day\"])\n",
    "    savefig(f\"images/{file_tag}_granularity_{v_date}.png\")\n",
    "    show()"
   ]
  },
  {
   "cell_type": "markdown",
   "id": "a5cf1edf",
   "metadata": {},
   "source": [
    "<h3>Locations</h3>"
   ]
  },
  {
   "cell_type": "code",
   "execution_count": null,
   "id": "5722b830",
   "metadata": {},
   "outputs": [],
   "source": [
    "def analyse_property_granularity(\n",
    "    data: DataFrame, property: str, vars: list[str]\n",
    ") -> ndarray:\n",
    "    cols: int = len(vars)\n",
    "    fig: Figure\n",
    "    axs: ndarray\n",
    "    fig, axs = subplots(1, cols, figsize=(cols * HEIGHT, HEIGHT), squeeze=False)\n",
    "    fig.suptitle(f\"Granularity study for {property}\")\n",
    "    for i in range(cols):\n",
    "        counts: Series[int] = data[vars[i]].value_counts()\n",
    "        plot_bar_chart(\n",
    "            counts.index.to_list(),\n",
    "            counts.to_list(),\n",
    "            ax=axs[0, i],\n",
    "            title=vars[i],\n",
    "            xlabel=vars[i],\n",
    "            ylabel=\"nr records\",\n",
    "            percentage=False,\n",
    "        )\n",
    "    return axs\n",
    "\n",
    "\n",
    "file_tag: str = \"gdindex\"\n",
    "data: DataFrame = read_csv(\"data/gdindex.csv\", index_col=\"ISO3\")\n",
    "analyse_property_granularity(data, \"location\", [\"Hemisphere\", \"Continent\", \"Country\"])\n",
    "savefig(f\"images/{file_tag}_granularity_{property}.png\")\n",
    "show()"
   ]
  }
 ],
 "metadata": {},
 "nbformat": 4,
 "nbformat_minor": 5
}
