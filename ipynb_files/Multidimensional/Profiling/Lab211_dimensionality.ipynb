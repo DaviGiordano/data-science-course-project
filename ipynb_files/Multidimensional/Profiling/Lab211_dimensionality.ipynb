{
 "cells": [
  {
   "cell_type": "markdown",
   "id": "b2f06581",
   "metadata": {},
   "source": [
    "<h1>Data Profiling</h1><h2 align=\"center\">Data Dimensionality</h2>"
   ]
  },
  {
   "cell_type": "code",
   "execution_count": null,
   "id": "de48e016",
   "metadata": {},
   "outputs": [],
   "source": [
    "from pandas import read_csv, DataFrame\n",
    "\n",
    "filename = \"data/stroke.csv\"\n",
    "file_tag = \"stroke\"\n",
    "data: DataFrame = read_csv(filename, na_values=\"\", index_col=\"id\")\n",
    "\n",
    "data.shape"
   ]
  },
  {
   "cell_type": "code",
   "execution_count": null,
   "id": "5b3a42ff",
   "metadata": {},
   "outputs": [],
   "source": [
    "from matplotlib.pyplot import figure, savefig, show\n",
    "from dslabs_functions import plot_bar_chart\n",
    "\n",
    "figure(figsize=(4, 2))\n",
    "values: dict[str, int] = {\"nr records\": data.shape[0], \"nr variables\": data.shape[1]}\n",
    "plot_bar_chart(\n",
    "    list(values.keys()), list(values.values()), title=\"Nr of records vs nr variables\"\n",
    ")\n",
    "savefig(f\"images/{file_tag}_records_variables.png\")\n",
    "show()"
   ]
  },
  {
   "cell_type": "markdown",
   "id": "e9475060",
   "metadata": {},
   "source": [
    "<h3>Missing values</h3>"
   ]
  },
  {
   "cell_type": "code",
   "execution_count": null,
   "id": "cf95b6dc",
   "metadata": {},
   "outputs": [],
   "source": [
    "mv: dict[str, int] = {}\n",
    "for var in data.columns:\n",
    "    nr: int = data[var].isna().sum()\n",
    "    if nr > 0:\n",
    "        mv[var] = nr\n",
    "\n",
    "figure()\n",
    "plot_bar_chart(\n",
    "    list(mv.keys()),\n",
    "    list(mv.values()),\n",
    "    title=\"Nr of missing values per variable\",\n",
    "    xlabel=\"variables\",\n",
    "    ylabel=\"nr missing values\",\n",
    ")\n",
    "savefig(f\"images/{file_tag}_mv.png\")\n",
    "show()"
   ]
  },
  {
   "cell_type": "markdown",
   "id": "d1652d95",
   "metadata": {},
   "source": [
    "<h3>Variables Type</h3>"
   ]
  },
  {
   "cell_type": "code",
   "execution_count": null,
   "id": "1941e868",
   "metadata": {},
   "outputs": [],
   "source": [
    "data.dtypes"
   ]
  },
  {
   "cell_type": "code",
   "execution_count": null,
   "id": "e9ec6b42",
   "metadata": {},
   "outputs": [],
   "source": [
    "from pandas import Series, to_numeric, to_datetime\n",
    "\n",
    "\n",
    "def get_variable_types(df: DataFrame) -> dict[str, list]:\n",
    "    variable_types: dict = {\"numeric\": [], \"binary\": [], \"date\": [], \"symbolic\": []}\n",
    "\n",
    "    nr_values: Series = df.nunique(axis=0, dropna=True)\n",
    "    for c in df.columns:\n",
    "        if 2 == nr_values[c]:\n",
    "            variable_types[\"binary\"].append(c)\n",
    "            df[c].astype(\"bool\")\n",
    "        else:\n",
    "            try:\n",
    "                to_numeric(df[c], errors=\"raise\")\n",
    "                variable_types[\"numeric\"].append(c)\n",
    "            except ValueError:\n",
    "                try:\n",
    "                    df[c] = to_datetime(df[c], errors=\"raise\")\n",
    "                    variable_types[\"date\"].append(c)\n",
    "                except ValueError:\n",
    "                    variable_types[\"symbolic\"].append(c)\n",
    "\n",
    "    return variable_types"
   ]
  },
  {
   "cell_type": "code",
   "execution_count": null,
   "id": "7bf1c93d",
   "metadata": {},
   "outputs": [],
   "source": [
    "variable_types: dict[str, list] = get_variable_types(data)\n",
    "print(variable_types)\n",
    "counts: dict[str, int] = {}\n",
    "for tp in variable_types.keys():\n",
    "    counts[tp] = len(variable_types[tp])\n",
    "\n",
    "figure(figsize=(4, 2))\n",
    "plot_bar_chart(\n",
    "    list(counts.keys()), list(counts.values()), title=\"Nr of variables per type\"\n",
    ")\n",
    "savefig(f\"images/{file_tag}_variable_types.png\")\n",
    "show()"
   ]
  },
  {
   "cell_type": "code",
   "execution_count": null,
   "id": "f00aca98",
   "metadata": {},
   "outputs": [],
   "source": [
    "symbolic: list[str] = variable_types[\"symbolic\"]\n",
    "data[symbolic] = data[symbolic].apply(lambda x: x.astype(\"category\"))\n",
    "data.dtypes"
   ]
  }
 ],
 "metadata": {},
 "nbformat": 4,
 "nbformat_minor": 5
}
