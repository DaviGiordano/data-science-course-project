{
 "cells": [
  {
   "cell_type": "markdown",
   "id": "030c68ab",
   "metadata": {},
   "source": [
    "<h1>Classification</h1>"
   ]
  },
  {
   "cell_type": "markdown",
   "id": "6802d101",
   "metadata": {},
   "source": [
    "<h2 align=\"center\">Naive Bayes</h2>"
   ]
  },
  {
   "cell_type": "markdown",
   "id": "8f928fdc",
   "metadata": {},
   "source": [
    "<h3>Study Naive Bayes Alternatives</h3>"
   ]
  },
  {
   "cell_type": "code",
   "execution_count": null,
   "id": "356db354",
   "metadata": {},
   "outputs": [],
   "source": [
    "from dslabs_functions import read_train_test_from_files\n",
    "\n",
    "file_tag = \"stroke\"\n",
    "train_filename = \"data/stroke_train_smote.csv\"\n",
    "test_filename = \"data/stroke_test.csv\"\n",
    "target = \"stroke\"\n",
    "eval_metric = \"accuracy\"\n",
    "\n",
    "\n",
    "trnX, tstX, trnY, tstY, labels, vars = read_train_test_from_files(\n",
    "    train_filename, test_filename, target\n",
    ")\n",
    "print(f\"Train#={len(trnX)} Test#={len(tstX)}\")\n",
    "print(f\"Labels={labels}\")"
   ]
  },
  {
   "cell_type": "code",
   "execution_count": null,
   "id": "7e8a5f6b",
   "metadata": {},
   "outputs": [],
   "source": [
    "from numpy import array, ndarray\n",
    "from sklearn.naive_bayes import GaussianNB, MultinomialNB, BernoulliNB\n",
    "from matplotlib.pyplot import figure, savefig, show\n",
    "from dslabs_functions import CLASS_EVAL_METRICS, DELTA_IMPROVE, plot_bar_chart\n",
    "\n",
    "\n",
    "def naive_Bayes_study(\n",
    "    trnX: ndarray, trnY: array, tstX: ndarray, tstY: array, metric: str = \"accuracy\"\n",
    ") -> tuple:\n",
    "    estimators: dict = {\n",
    "        \"GaussianNB\": GaussianNB(),\n",
    "        \"MultinomialNB\": MultinomialNB(),\n",
    "        \"BernoulliNB\": BernoulliNB(),\n",
    "    }\n",
    "\n",
    "    xvalues: list = []\n",
    "    yvalues: list = []\n",
    "    best_model = None\n",
    "    best_params: dict = {\"name\": \"\", \"metric\": metric, \"params\": ()}\n",
    "    best_performance = 0\n",
    "    for clf in estimators:\n",
    "        xvalues.append(clf)\n",
    "        estimators[clf].fit(trnX, trnY)\n",
    "        prdY: array = estimators[clf].predict(tstX)\n",
    "        eval: float = CLASS_EVAL_METRICS[metric](tstY, prdY)\n",
    "        if eval - best_performance > DELTA_IMPROVE:\n",
    "            best_performance: float = eval\n",
    "            best_params[\"name\"] = clf\n",
    "            best_params[metric] = eval\n",
    "            best_model = estimators[clf]\n",
    "        yvalues.append(eval)\n",
    "        # print(f'NB {clf}')\n",
    "    plot_bar_chart(\n",
    "        xvalues,\n",
    "        yvalues,\n",
    "        title=f\"Naive Bayes Models ({metric})\",\n",
    "        ylabel=metric,\n",
    "        percentage=True,\n",
    "    )\n",
    "\n",
    "    return best_model, best_params\n",
    "\n",
    "\n",
    "figure()\n",
    "best_model, params = naive_Bayes_study(trnX, trnY, tstX, tstY, eval_metric)\n",
    "savefig(f\"images/{file_tag}_nb_{eval_metric}_study.png\")\n",
    "show()"
   ]
  },
  {
   "cell_type": "code",
   "execution_count": null,
   "id": "b036c348",
   "metadata": {},
   "outputs": [],
   "source": [
    "figure()\n",
    "best_model, params = naive_Bayes_study(trnX, trnY, tstX, tstY, \"recall\")\n",
    "savefig(f\"images/{file_tag}_nb_recall_study.png\")\n",
    "show()"
   ]
  },
  {
   "cell_type": "markdown",
   "id": "01d0afa5",
   "metadata": {},
   "source": [
    "<h3>Performance Analysis</h3>"
   ]
  },
  {
   "cell_type": "code",
   "execution_count": null,
   "id": "55692d8e",
   "metadata": {},
   "outputs": [],
   "source": [
    "from dslabs_functions import plot_evaluation_results\n",
    "\n",
    "prd_trn: array = best_model.predict(trnX)\n",
    "prd_tst: array = best_model.predict(tstX)\n",
    "figure()\n",
    "plot_evaluation_results(params, trnY, prd_trn, tstY, prd_tst, labels)\n",
    "savefig(f'images/{file_tag}_{params[\"name\"]}_best_{params[\"metric\"]}_eval.png')\n",
    "show()"
   ]
  }
 ],
 "metadata": {},
 "nbformat": 4,
 "nbformat_minor": 5
}
