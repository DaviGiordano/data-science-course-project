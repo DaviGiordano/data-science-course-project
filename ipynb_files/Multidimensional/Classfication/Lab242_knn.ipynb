{
 "cells": [
  {
   "cell_type": "markdown",
   "id": "df4312dc",
   "metadata": {},
   "source": [
    "<h1>Classification</h1>"
   ]
  },
  {
   "cell_type": "markdown",
   "id": "8f6ab177",
   "metadata": {},
   "source": [
    "<h2 align=\"center\">KNN</h2><h3>Paremeters study</h3>"
   ]
  },
  {
   "cell_type": "code",
   "execution_count": null,
   "id": "0885a5e6",
   "metadata": {},
   "outputs": [],
   "source": [
    "from typing import Literal\n",
    "from numpy import array, ndarray\n",
    "from sklearn.neighbors import KNeighborsClassifier\n",
    "from matplotlib.pyplot import figure, savefig, show\n",
    "from dslabs_functions import CLASS_EVAL_METRICS, DELTA_IMPROVE, plot_multiline_chart\n",
    "from dslabs_functions import read_train_test_from_files, plot_evaluation_results\n",
    "\n",
    "def knn_study(\n",
    "        trnX: ndarray, trnY: array, tstX: ndarray, tstY: array, k_max: int=19, lag: int=2, metric='accuracy'\n",
    "        ) -> tuple[KNeighborsClassifier | None, dict]:\n",
    "    dist: list[Literal['manhattan', 'euclidean', 'chebyshev']] = ['manhattan', 'euclidean', 'chebyshev']\n",
    "\n",
    "    kvalues: list[int] = [i for i in range(1, k_max+1, lag)]\n",
    "    best_model: KNeighborsClassifier | None = None\n",
    "    best_params: dict = {'name': 'KNN', 'metric': metric, 'params': ()}\n",
    "    best_performance: float = 0.0\n",
    "\n",
    "    values: dict[str, list] = {}\n",
    "    for d in dist:\n",
    "        y_tst_values: list = []\n",
    "        for k in kvalues:\n",
    "            clf = KNeighborsClassifier(n_neighbors=k, metric=d)\n",
    "            clf.fit(trnX, trnY)\n",
    "            prdY: array = clf.predict(tstX)\n",
    "            eval: float = CLASS_EVAL_METRICS[metric](tstY, prdY)\n",
    "            y_tst_values.append(eval)\n",
    "            if eval - best_performance > DELTA_IMPROVE:\n",
    "                best_performance: float = eval\n",
    "                best_params['params'] = (k, d)\n",
    "                best_model = clf\n",
    "            # print(f'KNN {d} k={k}')\n",
    "        values[d] = y_tst_values\n",
    "    print(f'KNN best with k={best_params['params'][0]} and {best_params['params'][1]}')\n",
    "    plot_multiline_chart(kvalues, values, title=f'KNN Models ({metric})', xlabel='k', ylabel=metric, percentage=True)\n",
    "\n",
    "    return best_model, best_params\n",
    "\n",
    "file_tag = 'stroke'\n",
    "train_filename = 'data/stroke_train_smote.csv'\n",
    "test_filename = 'data/stroke_test.csv'\n",
    "target = 'stroke'\n",
    "eval_metric = 'accuracy'\n",
    "\n",
    "trnX, tstX, trnY, tstY, labels, vars = read_train_test_from_files(train_filename, test_filename, target)\n",
    "print(f'Train#={len(trnX)} Test#={len(tstX)}')\n",
    "print(f'Labels={labels}')\n",
    "\n",
    "figure()\n",
    "best_model, params = knn_study(trnX, trnY, tstX, tstY, k_max=25, metric=eval_metric)\n",
    "savefig(f'images/{file_tag}_knn_{eval_metric}_study.png')\n",
    "show()"
   ]
  },
  {
   "cell_type": "markdown",
   "id": "b5eec39d",
   "metadata": {},
   "source": [
    "<h3>Best model performance</h3>"
   ]
  },
  {
   "cell_type": "code",
   "execution_count": null,
   "id": "43bbc12f",
   "metadata": {},
   "outputs": [],
   "source": [
    "prd_trn: array = best_model.predict(trnX)\n",
    "prd_tst: array = best_model.predict(tstX)\n",
    "figure()\n",
    "plot_evaluation_results(params, trnY, prd_trn, tstY, prd_tst, labels)\n",
    "savefig(f'images/{file_tag}_knn_{params[\"name\"]}_best_{params[\"metric\"]}_eval.png')\n",
    "show()"
   ]
  },
  {
   "cell_type": "markdown",
   "id": "24325632",
   "metadata": {},
   "source": [
    "<h3>Overfitting study</h3>"
   ]
  },
  {
   "cell_type": "code",
   "execution_count": null,
   "id": "4a306fb5",
   "metadata": {},
   "outputs": [],
   "source": [
    "from matplotlib.pyplot import figure, savefig\n",
    "\n",
    "distance: Literal[\"manhattan\", \"euclidean\", \"chebyshev\"] = params[\"params\"][1]\n",
    "K_MAX = 25\n",
    "kvalues: list[int] = [i for i in range(1, K_MAX, 2)]\n",
    "y_tst_values: list = []\n",
    "y_trn_values: list = []\n",
    "acc_metric: str = \"accuracy\"\n",
    "for k in kvalues:\n",
    "    clf = KNeighborsClassifier(n_neighbors=k, metric=distance)\n",
    "    clf.fit(trnX, trnY)\n",
    "    prd_tst_Y: array = clf.predict(tstX)\n",
    "    prd_trn_Y: array = clf.predict(trnX)\n",
    "    y_tst_values.append(CLASS_EVAL_METRICS[acc_metric](tstY, prd_tst_Y))\n",
    "    y_trn_values.append(CLASS_EVAL_METRICS[acc_metric](trnY, prd_trn_Y))\n",
    "\n",
    "figure()\n",
    "plot_multiline_chart(\n",
    "    kvalues,\n",
    "    {\"Train\": y_trn_values, \"Test\": y_tst_values},\n",
    "    title=f\"KNN overfitting study for {distance}\",\n",
    "    xlabel=\"K\",\n",
    "    ylabel=str(eval_metric),\n",
    "    percentage=True,\n",
    ")\n",
    "savefig(f\"images/{file_tag}_knn_overfitting.png\")\n",
    "show()"
   ]
  }
 ],
 "metadata": {},
 "nbformat": 4,
 "nbformat_minor": 5
}
