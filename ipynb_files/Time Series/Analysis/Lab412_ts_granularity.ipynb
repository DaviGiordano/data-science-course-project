{
 "cells": [
  {
   "cell_type": "markdown",
   "id": "1c650cb7",
   "metadata": {},
   "source": [
    "<h1>Time Series Profiling</h1>"
   ]
  },
  {
   "cell_type": "markdown",
   "id": "6eed76bc",
   "metadata": {},
   "source": [
    "<h2 align=\"center\">Data Granularity</h2>"
   ]
  },
  {
   "cell_type": "code",
   "execution_count": null,
   "id": "3b8f3546",
   "metadata": {},
   "outputs": [],
   "source": [
    "from pandas import read_csv, DataFrame, Series\n",
    "from matplotlib.pyplot import figure, show\n",
    "from dslabs_functions import plot_line_chart, HEIGHT\n",
    "\n",
    "file_tag = \"ASHRAE\"\n",
    "target = \"meter_reading\"\n",
    "data: DataFrame = read_csv(\n",
    "    \"data/time_series/ashrae.csv\",\n",
    "    index_col=\"timestamp\",\n",
    "    sep=\",\",\n",
    "    decimal=\".\",\n",
    "    parse_dates=True,\n",
    "    infer_datetime_format=True,\n",
    ")\n",
    "series: Series = data[target]\n",
    "\n",
    "figure(figsize=(3 * HEIGHT, HEIGHT / 2))\n",
    "plot_line_chart(\n",
    "    series.index.to_list(),\n",
    "    series.to_list(),\n",
    "    xlabel=series.index.name,\n",
    "    ylabel=target,\n",
    "    title=f\"{file_tag} hourly {target}\",\n",
    ")\n",
    "show()"
   ]
  },
  {
   "cell_type": "code",
   "execution_count": null,
   "id": "51f866bd",
   "metadata": {},
   "outputs": [],
   "source": [
    "from pandas import Index, Period\n",
    "\n",
    "\n",
    "def ts_aggregation_by(\n",
    "    data: Series | DataFrame,\n",
    "    gran_level: str = \"D\",\n",
    "    agg_func: str = \"mean\",\n",
    ") -> Series | DataFrame:\n",
    "    df: Series | DataFrame = data.copy()\n",
    "    index: Index[Period] = df.index.to_period(gran_level)\n",
    "    df = df.groupby(by=index, dropna=True, sort=True).agg(agg_func)\n",
    "    df.index.drop_duplicates()\n",
    "    df.index = df.index.to_timestamp()\n",
    "\n",
    "    return df\n",
    "\n",
    "\n",
    "ss_days: Series = ts_aggregation_by(series, \"D\")\n",
    "figure(figsize=(3 * HEIGHT, HEIGHT / 2))\n",
    "plot_line_chart(\n",
    "    ss_days.index.to_list(),\n",
    "    ss_days.to_list(),\n",
    "    xlabel=\"days\",\n",
    "    ylabel=target,\n",
    "    title=f\"{file_tag} daily mean {target}\",\n",
    ")\n",
    "show()"
   ]
  },
  {
   "cell_type": "code",
   "execution_count": null,
   "id": "b0965573",
   "metadata": {},
   "outputs": [],
   "source": [
    "from matplotlib.pyplot import subplots\n",
    "from matplotlib.axes import Axes\n",
    "from matplotlib.figure import Figure\n",
    "\n",
    "\n",
    "grans: list[str] = [\"D\", \"W\", \"M\"]\n",
    "fig: Figure\n",
    "axs: list[Axes]\n",
    "fig, axs = subplots(len(grans), 1, figsize=(3 * HEIGHT, HEIGHT / 2 * len(grans)))\n",
    "fig.suptitle(f\"{file_tag} {target} aggregation study\")\n",
    "\n",
    "for i in range(len(grans)):\n",
    "    ss: Series = ts_aggregation_by(series, grans[i])\n",
    "    plot_line_chart(\n",
    "        ss.index.to_list(),\n",
    "        ss.to_list(),\n",
    "        ax=axs[i],\n",
    "        xlabel=f\"{ss.index.name} ({grans[i]})\",\n",
    "        ylabel=target,\n",
    "        title=f\"granularity={grans[i]}\",\n",
    "    )\n",
    "show()"
   ]
  }
 ],
 "metadata": {},
 "nbformat": 4,
 "nbformat_minor": 5
}
