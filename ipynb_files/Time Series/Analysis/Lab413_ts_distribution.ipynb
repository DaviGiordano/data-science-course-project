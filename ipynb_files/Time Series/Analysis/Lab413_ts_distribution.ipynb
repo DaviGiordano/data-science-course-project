{
 "cells": [
  {
   "cell_type": "markdown",
   "id": "8315fa8b",
   "metadata": {},
   "source": [
    "<h1>Time Series Profiling</h1>"
   ]
  },
  {
   "cell_type": "markdown",
   "id": "d927376a",
   "metadata": {},
   "source": [
    "<h2 align=\"center\">Data Distribution</h2>"
   ]
  },
  {
   "cell_type": "code",
   "execution_count": null,
   "id": "e9ead441",
   "metadata": {},
   "outputs": [],
   "source": [
    "from numpy import sum\n",
    "from pandas import DataFrame, Series, read_csv\n",
    "from matplotlib.pyplot import figure, show\n",
    "from dslabs_functions import HEIGHT, plot_line_chart, time_series_aggregation_by\n",
    "\n",
    "file_tag = \"ASHRAE\"\n",
    "filename = \"data/time_series/ashrae_single.csv\"\n",
    "index = \"timestamp\"\n",
    "target = \"meter_reading\"\n",
    "data: DataFrame = read_csv(\n",
    "    filename,\n",
    "    index_col=index,\n",
    "    sep=\",\",\n",
    "    decimal=\".\",\n",
    "    parse_dates=True,\n",
    "    infer_datetime_format=True,\n",
    ")\n",
    "series: Series = data[target]\n",
    "ss_weeks: Series = time_series_aggregation_by(series, gran_level=\"W\", agg_func=sum)\n",
    "\n",
    "figure(figsize=(3 * HEIGHT, HEIGHT))\n",
    "plot_line_chart(\n",
    "    ss_weeks.index.to_list(),\n",
    "    ss_weeks.to_list(),\n",
    "    xlabel=\"weeks\",\n",
    "    ylabel=target,\n",
    "    title=f\"{file_tag} weekly {target}\",\n",
    ")\n",
    "show()"
   ]
  },
  {
   "cell_type": "markdown",
   "id": "28ddd37f",
   "metadata": {},
   "source": [
    "<h3>5-Number Summary</h3>"
   ]
  },
  {
   "cell_type": "code",
   "execution_count": null,
   "id": "95cf705c",
   "metadata": {},
   "outputs": [],
   "source": [
    "from numpy import array\n",
    "from matplotlib.pyplot import show, subplots\n",
    "from matplotlib.figure import Figure\n",
    "from dslabs_functions import set_chart_labels\n",
    "\n",
    "fig: Figure\n",
    "axs: array\n",
    "fig, axs = subplots(2, 2, figsize=(2 * HEIGHT, HEIGHT))\n",
    "set_chart_labels(axs[0, 0], title=\"HOURLY\")\n",
    "axs[0, 0].boxplot(series)\n",
    "set_chart_labels(axs[0, 1], title=\"WEEKLY\")\n",
    "axs[0, 1].boxplot(ss_weeks)\n",
    "\n",
    "axs[1, 0].grid(False)\n",
    "axs[1, 0].set_axis_off()\n",
    "axs[1, 0].text(0.2, 0, str(series.describe()), fontsize=\"small\")\n",
    "\n",
    "axs[1, 1].grid(False)\n",
    "axs[1, 1].set_axis_off()\n",
    "axs[1, 1].text(0.2, 0, str(ss_weeks.describe()), fontsize=\"small\")\n",
    "show()"
   ]
  },
  {
   "cell_type": "markdown",
   "id": "3f741cf0",
   "metadata": {},
   "source": [
    "<h3>Variables Distribution</h3>"
   ]
  },
  {
   "cell_type": "code",
   "execution_count": null,
   "id": "1a9947c4",
   "metadata": {},
   "outputs": [],
   "source": [
    "ss_days: Series = time_series_aggregation_by(series, gran_level=\"D\", agg_func=sum)\n",
    "ss_months: Series = time_series_aggregation_by(series, gran_level=\"M\", agg_func=sum)\n",
    "ss_quarters: Series = time_series_aggregation_by(series, gran_level=\"Q\", agg_func=sum)\n",
    "\n",
    "grans: list[Series] = [series, ss_days, ss_weeks, ss_months, ss_quarters]\n",
    "gran_names: list[str] = [\"Horuly\", \"Daily\", \"Weekly\", \"Monthly\", \"Quarterly\"]\n",
    "fig: Figure\n",
    "axs: array\n",
    "fig, axs = subplots(1, len(grans), figsize=(len(grans) * HEIGHT, HEIGHT))\n",
    "fig.suptitle(f\"{file_tag} {target}\")\n",
    "for i in range(len(grans)):\n",
    "    set_chart_labels(\n",
    "        axs[i], title=f\"{gran_names[i]}\", xlabel=target, ylabel=\"Nr records\"\n",
    "    )\n",
    "    axs[i].hist(grans[i].values)\n",
    "show()"
   ]
  }
 ],
 "metadata": {},
 "nbformat": 4,
 "nbformat_minor": 5
}
