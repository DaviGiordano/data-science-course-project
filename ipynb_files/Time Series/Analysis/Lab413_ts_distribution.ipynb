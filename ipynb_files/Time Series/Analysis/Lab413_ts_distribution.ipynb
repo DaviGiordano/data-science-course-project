{
 "cells": [
  {
   "cell_type": "markdown",
   "id": "4c96653e",
   "metadata": {},
   "source": [
    "<h1>Time Series Profiling</h1>"
   ]
  },
  {
   "cell_type": "markdown",
   "id": "1fe922df",
   "metadata": {},
   "source": [
    "<h2 align=\"center\">Data Distribution</h2>"
   ]
  },
  {
   "cell_type": "code",
   "execution_count": null,
   "id": "dde3ab12",
   "metadata": {},
   "outputs": [],
   "source": [
    "from numpy import sum\n",
    "from pandas import DataFrame, Series, read_csv\n",
    "from matplotlib.pyplot import figure, show\n",
    "from dslabs_functions import HEIGHT, plot_line_chart, ts_aggregation_by\n",
    "\n",
    "file_tag = \"ASHRAE\"\n",
    "filename = \"data/time_series/ashrae.csv\"\n",
    "index = \"timestamp\"\n",
    "target = \"meter_reading\"\n",
    "data: DataFrame = read_csv(\n",
    "    filename,\n",
    "    index_col=index,\n",
    "    sep=\",\",\n",
    "    decimal=\".\",\n",
    "    parse_dates=True,\n",
    "    infer_datetime_format=True,\n",
    ")\n",
    "series: Series = data[target]\n",
    "ss_weeks: Series = ts_aggregation_by(series, gran_level=\"W\", agg_func=sum)\n",
    "\n",
    "figure(figsize=(3 * HEIGHT, HEIGHT))\n",
    "plot_line_chart(\n",
    "    ss_weeks.index.to_list(),\n",
    "    ss_weeks.to_list(),\n",
    "    xlabel=\"weeks\",\n",
    "    ylabel=target,\n",
    "    title=f\"{file_tag} weekly {target}\",\n",
    ")\n",
    "show()"
   ]
  },
  {
   "cell_type": "markdown",
   "id": "4f3dcf98",
   "metadata": {},
   "source": [
    "<h3>5-Number Summary</h3>"
   ]
  },
  {
   "cell_type": "code",
   "execution_count": null,
   "id": "ea96b0c0",
   "metadata": {},
   "outputs": [],
   "source": [
    "from numpy import array\n",
    "from matplotlib.pyplot import show, subplots\n",
    "from matplotlib.figure import Figure\n",
    "from dslabs_functions import set_chart_labels\n",
    "\n",
    "fig: Figure\n",
    "axs: array\n",
    "fig, axs = subplots(2, 2, figsize=(2 * HEIGHT, HEIGHT))\n",
    "set_chart_labels(axs[0, 0], title=\"HOURLY\")\n",
    "axs[0, 0].boxplot(series)\n",
    "set_chart_labels(axs[0, 1], title=\"WEEKLY\")\n",
    "axs[0, 1].boxplot(ss_weeks)\n",
    "\n",
    "axs[1, 0].grid(False)\n",
    "axs[1, 0].set_axis_off()\n",
    "axs[1, 0].text(0.2, 0, str(series.describe()), fontsize=\"small\")\n",
    "\n",
    "axs[1, 1].grid(False)\n",
    "axs[1, 1].set_axis_off()\n",
    "axs[1, 1].text(0.2, 0, str(ss_weeks.describe()), fontsize=\"small\")\n",
    "show()"
   ]
  },
  {
   "cell_type": "markdown",
   "id": "6e45e1d6",
   "metadata": {},
   "source": [
    "<h3>Variables Distribution</h3>"
   ]
  },
  {
   "cell_type": "code",
   "execution_count": null,
   "id": "707f9c0a",
   "metadata": {},
   "outputs": [],
   "source": [
    "ss_days: Series = ts_aggregation_by(series, gran_level=\"D\", agg_func=sum)\n",
    "ss_months: Series = ts_aggregation_by(series, gran_level=\"M\", agg_func=sum)\n",
    "ss_quarters: Series = ts_aggregation_by(series, gran_level=\"Q\", agg_func=sum)\n",
    "\n",
    "grans: list[Series] = [series, ss_days, ss_weeks, ss_months, ss_quarters]\n",
    "gran_names: list[str] = [\"Horuly\", \"Daily\", \"Weekly\", \"Monthly\", \"Quarterly\"]\n",
    "fig: Figure\n",
    "axs: array\n",
    "fig, axs = subplots(1, len(grans), figsize=(len(grans) * HEIGHT, HEIGHT))\n",
    "fig.suptitle(f\"{file_tag} {target}\")\n",
    "for i in range(len(grans)):\n",
    "    set_chart_labels(axs[i], title=f\"{gran_names[i]}\", xlabel=target, ylabel=\"Nr records\")\n",
    "    axs[i].hist(grans[i].values)\n",
    "show()"
   ]
  },
  {
   "cell_type": "markdown",
   "id": "b966dd79",
   "metadata": {},
   "source": [
    "<h3>Autocorrelation</h3>"
   ]
  },
  {
   "cell_type": "code",
   "execution_count": null,
   "id": "a0ecc6d3",
   "metadata": {},
   "outputs": [],
   "source": [
    "from dslabs_functions import plot_multiline_chart\n",
    "\n",
    "\n",
    "def get_lagged_series(series: Series, max_lag: int, delta: int = 1):\n",
    "    lagged_series: dict = {\"original\": series, \"lag 1\": series.shift(1)}\n",
    "    for i in range(delta, max_lag + 1, delta):\n",
    "        lagged_series[f\"lag {i}\"] = series.shift(i)\n",
    "    return lagged_series\n",
    "\n",
    "\n",
    "figure(figsize=(3 * HEIGHT, HEIGHT))\n",
    "lags = get_lagged_series(series, 20, 10)\n",
    "plot_multiline_chart(series.index.to_list(), lags, xlabel=index, ylabel=target)"
   ]
  },
  {
   "cell_type": "code",
   "execution_count": null,
   "id": "d3d10f17",
   "metadata": {},
   "outputs": [],
   "source": [
    "from matplotlib.pyplot import setp\n",
    "from matplotlib.gridspec import GridSpec\n",
    "\n",
    "\n",
    "def autocorrelation_study(series: Series, max_lag: int, delta: int = 1):\n",
    "    k: int = int(max_lag / delta)\n",
    "    fig = figure(figsize=(4 * HEIGHT, 2 * HEIGHT), constrained_layout=True)\n",
    "    gs = GridSpec(2, k, figure=fig)\n",
    "\n",
    "    series_values: list = series.tolist()\n",
    "    for i in range(1, k + 1):\n",
    "        ax = fig.add_subplot(gs[0, i - 1])\n",
    "        lag = i * delta\n",
    "        ax.scatter(series.shift(lag).tolist(), series_values)\n",
    "        ax.set_xlabel(f\"lag {lag}\")\n",
    "        ax.set_ylabel(\"original\")\n",
    "    ax = fig.add_subplot(gs[1, :])\n",
    "    ax.acorr(series, maxlags=max_lag)\n",
    "    ax.set_title(\"Autocorrelation\")\n",
    "    ax.set_xlabel(\"Lags\")\n",
    "    return\n",
    "\n",
    "\n",
    "autocorrelation_study(series, 10, 1)"
   ]
  }
 ],
 "metadata": {},
 "nbformat": 4,
 "nbformat_minor": 5
}
