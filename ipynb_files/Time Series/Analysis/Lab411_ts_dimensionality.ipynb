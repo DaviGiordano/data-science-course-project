{
 "cells": [
  {
   "cell_type": "markdown",
   "id": "f48cc009",
   "metadata": {},
   "source": [
    "<h1>Time Series Profiling</h1>"
   ]
  },
  {
   "cell_type": "markdown",
   "id": "85e64110",
   "metadata": {},
   "source": [
    "<h2 align=\"center\">Data Dimensionality</h2>"
   ]
  },
  {
   "cell_type": "markdown",
   "id": "18798fdf",
   "metadata": {},
   "source": [
    "<h3>Univariate Time Series</h3>"
   ]
  },
  {
   "cell_type": "code",
   "execution_count": null,
   "id": "5852584f",
   "metadata": {},
   "outputs": [],
   "source": [
    "from pandas import read_csv, DataFrame, Series\n",
    "from matplotlib.pyplot import figure, show\n",
    "from dslabs_functions import plot_line_chart, HEIGHT\n",
    "\n",
    "file_tag = \"timeseries_health\"\n",
    "target = \"deaths\"\n",
    "filepath = \"../../../data/forecast_covid_single.csv\"\n",
    "data: DataFrame = read_csv(\n",
    "    filepath,\n",
    "    index_col=\"timestamp\",\n",
    "    sep=\",\",\n",
    "    decimal=\".\",\n",
    "    parse_dates=True,\n",
    "    infer_datetime_format=True,\n",
    ")\n",
    "series: Series = data[target]\n",
    "print(\"Nr. Records = \", series.shape[0])\n",
    "print(\"First timestamp\", series.index[0])\n",
    "print(\"Last timestamp\", series.index[-1])\n",
    "\n",
    "figure(figsize=(3 * HEIGHT, HEIGHT / 2))\n",
    "plot_line_chart(\n",
    "    series.index.to_list(),\n",
    "    series.to_list(),\n",
    "    xlabel=series.index.name,\n",
    "    ylabel=target,\n",
    "    title=f\"{file_tag} hourly {target}\",\n",
    ")\n",
    "show()"
   ]
  },
  {
   "cell_type": "markdown",
   "id": "22176920",
   "metadata": {},
   "source": [
    "<h3>Multivariate Time Series</h3>"
   ]
  },
  {
   "cell_type": "code",
   "execution_count": null,
   "id": "a95cc2e3",
   "metadata": {},
   "outputs": [],
   "source": [
    "from matplotlib.axes import Axes\n",
    "from matplotlib.pyplot import subplots\n",
    "from matplotlib.figure import Figure\n",
    "\n",
    "\n",
    "def plot_ts_multivariate_chart(data: DataFrame, title: str) -> list[Axes]:\n",
    "    fig: Figure\n",
    "    axs: list[Axes]\n",
    "    fig, axs = subplots(data.shape[1], 1, figsize=(3 * HEIGHT, HEIGHT / 2 * data.shape[1]))\n",
    "    fig.suptitle(title)\n",
    "\n",
    "    for i in range(data.shape[1]):\n",
    "        col: str = data.columns[i]\n",
    "        plot_line_chart(\n",
    "            data[col].index.to_list(),\n",
    "            data[col].to_list(),\n",
    "            ax=axs[i],\n",
    "            xlabel=data.index.name,\n",
    "            ylabel=col,\n",
    "        )\n",
    "    return axs"
   ]
  },
  {
   "cell_type": "code",
   "execution_count": null,
   "id": "a48f2ba4",
   "metadata": {},
   "outputs": [],
   "source": [
    "file_tag = \"portugal\"\n",
    "target = \"LifeExpectancy\"\n",
    "data: DataFrame = read_csv(\n",
    "    \"data/time_series/portugal_population.csv\",\n",
    "    index_col=\"date\",\n",
    "    sep=\",\",\n",
    "    decimal=\".\",\n",
    "    parse_dates=True,\n",
    "    infer_datetime_format=True,\n",
    ")\n",
    "print(\"Nr. Records = \", data.shape)\n",
    "print(\"First timestamp\", data.index[0])\n",
    "print(\"Last timestamp\", data.index[-1])\n",
    "\n",
    "plot_ts_multivariate_chart(data, title=f\"{file_tag} {target}\")\n",
    "show()"
   ]
  }
 ],
 "metadata": {
  "kernelspec": {
   "display_name": "data_science_env",
   "language": "python",
   "name": "python3"
  },
  "language_info": {
   "name": "python",
   "version": "3.12.0"
  }
 },
 "nbformat": 4,
 "nbformat_minor": 5
}
