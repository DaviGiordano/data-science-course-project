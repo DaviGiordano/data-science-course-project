{
 "cells": [
  {
   "cell_type": "markdown",
   "id": "82383157",
   "metadata": {},
   "source": [
    "<h1>Time Series Profiling</h1>"
   ]
  },
  {
   "cell_type": "markdown",
   "id": "29b0b13d",
   "metadata": {},
   "source": [
    "<h2 align=\"center\">Data Stationarity</h2>"
   ]
  },
  {
   "cell_type": "markdown",
   "id": "9e26157d",
   "metadata": {},
   "source": [
    "<h3>Seasonality</h3>"
   ]
  },
  {
   "cell_type": "code",
   "execution_count": null,
   "id": "747f79e8",
   "metadata": {},
   "outputs": [],
   "source": [
    "from pandas import Series\n",
    "from matplotlib.pyplot import subplots, show, gca\n",
    "from matplotlib.figure import Figure\n",
    "from matplotlib.axes import Axes\n",
    "from statsmodels.tsa.seasonal import DecomposeResult, seasonal_decompose\n",
    "from dslabs_functions import HEIGHT, set_chart_labels\n",
    "\n",
    "\n",
    "def plot_components(\n",
    "    series: Series,\n",
    "    title: str = \"\",\n",
    "    x_label: str = \"time\",\n",
    "    y_label: str = \"\",\n",
    ") -> list[Axes]:\n",
    "    decomposition: DecomposeResult = seasonal_decompose(series, model=\"add\")\n",
    "    components: dict = {\n",
    "        \"observed\": series,\n",
    "        \"trend\": decomposition.trend,\n",
    "        \"seasonal\": decomposition.seasonal,\n",
    "        \"residual\": decomposition.resid,\n",
    "    }\n",
    "    rows: int = len(components)\n",
    "    fig: Figure\n",
    "    axs: list[Axes]\n",
    "    fig, axs = subplots(rows, 1, figsize=(3 * HEIGHT, rows * HEIGHT))\n",
    "    fig.suptitle(f\"{title}\")\n",
    "    i: int = 0\n",
    "    for key in components:\n",
    "        set_chart_labels(axs[i], title=key, xlabel=x_label, ylabel=y_label)\n",
    "        axs[i].plot(components[key])\n",
    "        i += 1\n",
    "    return axs"
   ]
  },
  {
   "cell_type": "code",
   "execution_count": null,
   "id": "5ba170a5",
   "metadata": {},
   "outputs": [],
   "source": [
    "from pandas import DataFrame, Series, read_csv\n",
    "from matplotlib.pyplot import figure, show\n",
    "from dslabs_functions import plot_line_chart\n",
    "\n",
    "file_tag = \"ASHRAE\"\n",
    "filename = \"data/time_series/ashrae.csv\"\n",
    "index = \"timestamp\"\n",
    "target = \"meter_reading\"\n",
    "data: DataFrame = read_csv(\n",
    "    filename,\n",
    "    index_col=index,\n",
    "    sep=\",\",\n",
    "    decimal=\".\",\n",
    "    parse_dates=True,\n",
    "    infer_datetime_format=True,\n",
    ")\n",
    "series: Series = data[target]\n",
    "\n",
    "plot_components(\n",
    "    series,\n",
    "    title=f\"{file_tag} hourly {target}\",\n",
    "    x_label=series.index.name,\n",
    "    y_label=target,\n",
    ")\n",
    "show()"
   ]
  },
  {
   "cell_type": "code",
   "execution_count": null,
   "id": "d8fc2407",
   "metadata": {},
   "outputs": [],
   "source": [
    "from matplotlib.pyplot import plot, legend\n",
    "\n",
    "figure(figsize=(3 * HEIGHT, HEIGHT))\n",
    "plot_line_chart(\n",
    "    series.index.to_list(),\n",
    "    series.to_list(),\n",
    "    xlabel=series.index.name,\n",
    "    ylabel=target,\n",
    "    title=f\"{file_tag} stationary study\",\n",
    "    name=\"original\",\n",
    ")\n",
    "n: int = len(series)\n",
    "plot(series.index, [series.mean()] * n, \"r-\", label=\"mean\")\n",
    "legend()\n",
    "show()"
   ]
  },
  {
   "cell_type": "code",
   "execution_count": null,
   "id": "fdc3e393",
   "metadata": {},
   "outputs": [],
   "source": [
    "BINS = 10\n",
    "mean_line: list[float] = []\n",
    "\n",
    "for i in range(BINS):\n",
    "    segment: Series = series[i * n // BINS : (i + 1) * n // BINS]\n",
    "    mean_value: list[float] = [segment.mean()] * (n // BINS)\n",
    "    mean_line += mean_value\n",
    "mean_line += [mean_line[-1]] * (n - len(mean_line))\n",
    "\n",
    "figure(figsize=(3 * HEIGHT, HEIGHT))\n",
    "plot_line_chart(\n",
    "    series.index.to_list(),\n",
    "    series.to_list(),\n",
    "    xlabel=series.index.name,\n",
    "    ylabel=target,\n",
    "    title=f\"{file_tag} stationary study\",\n",
    "    name=\"original\",\n",
    "    show_stdev=True,\n",
    ")\n",
    "n: int = len(series)\n",
    "plot(series.index, mean_line, \"r-\", label=\"mean\")\n",
    "legend()\n",
    "show()"
   ]
  },
  {
   "cell_type": "markdown",
   "id": "b94ba973",
   "metadata": {},
   "source": [
    "<h3>Augmented Dickey-Fuller test</h3>"
   ]
  },
  {
   "cell_type": "code",
   "execution_count": null,
   "id": "45711f70",
   "metadata": {},
   "outputs": [],
   "source": [
    "from statsmodels.tsa.stattools import adfuller\n",
    "\n",
    "\n",
    "def eval_stationarity(series: Series) -> bool:\n",
    "    result = adfuller(series)\n",
    "    print(f\"ADF Statistic: {result[0]:.3f}\")\n",
    "    print(f\"p-value: {result[1]:.3f}\")\n",
    "    print(\"Critical Values:\")\n",
    "    for key, value in result[4].items():\n",
    "        print(f\"\\t{key}: {value:.3f}\")\n",
    "    return result[1] <= 0.05\n",
    "\n",
    "\n",
    "print(f\"The series {('is' if eval_stationarity(series) else 'is not')} stationary\")"
   ]
  }
 ],
 "metadata": {},
 "nbformat": 4,
 "nbformat_minor": 5
}
