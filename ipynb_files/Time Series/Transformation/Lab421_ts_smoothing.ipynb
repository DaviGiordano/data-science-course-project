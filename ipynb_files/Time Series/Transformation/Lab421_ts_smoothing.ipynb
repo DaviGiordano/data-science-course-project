{
 "cells": [
  {
   "cell_type": "markdown",
   "id": "cbb411d3",
   "metadata": {},
   "source": [
    "<h1>Time Series Transformation</h1>"
   ]
  },
  {
   "cell_type": "code",
   "execution_count": null,
   "id": "c74cffa8",
   "metadata": {},
   "outputs": [],
   "source": [
    "from pandas import read_csv, DataFrame, Series\n",
    "from matplotlib.pyplot import figure, show\n",
    "from dslabs_functions import plot_line_chart, HEIGHT\n",
    "\n",
    "file_tag = \"ASHRAE\"\n",
    "filename = \"data/time_series/ashrae_single.csv\"\n",
    "index = \"timestamp\"\n",
    "target = \"meter_reading\"\n",
    "data: DataFrame = read_csv(\n",
    "    filename,\n",
    "    index_col=index,\n",
    "    sep=\",\",\n",
    "    decimal=\".\",\n",
    "    parse_dates=True,\n",
    "    infer_datetime_format=True,\n",
    ")\n",
    "series: Series = data[target]\n",
    "\n",
    "figure(figsize=(3 * HEIGHT, HEIGHT / 2))\n",
    "plot_line_chart(\n",
    "    series.index.to_list(),\n",
    "    series.to_list(),\n",
    "    xlabel=series.index.name,\n",
    "    ylabel=target,\n",
    "    title=f\"{file_tag} hourly {target}\",\n",
    ")\n",
    "show()"
   ]
  },
  {
   "cell_type": "markdown",
   "id": "0c65f204",
   "metadata": {},
   "source": [
    "<h2 align=\"center\">Smoothing</h2>"
   ]
  },
  {
   "cell_type": "code",
   "execution_count": null,
   "id": "f13367d5",
   "metadata": {},
   "outputs": [],
   "source": [
    "WIN_SIZE = 10\n",
    "ss_smooth: Series = series.rolling(window=WIN_SIZE).mean()\n",
    "\n",
    "figure(figsize=(3 * HEIGHT, HEIGHT / 2))\n",
    "plot_line_chart(\n",
    "    ss_smooth.index.to_list(),\n",
    "    ss_smooth.to_list(),\n",
    "    xlabel=ss_smooth.index.name,\n",
    "    ylabel=target,\n",
    "    title=f\"{file_tag} {target} after smoothing (size={WIN_SIZE})\",\n",
    ")\n",
    "show()"
   ]
  },
  {
   "cell_type": "code",
   "execution_count": null,
   "id": "df1dd3c0",
   "metadata": {},
   "outputs": [],
   "source": [
    "from matplotlib.pyplot import subplots\n",
    "from matplotlib.axes import Axes\n",
    "from matplotlib.figure import Figure\n",
    "\n",
    "sizes: list[int] = [25, 50, 75, 100]\n",
    "fig: Figure\n",
    "axs: list[Axes]\n",
    "fig, axs = subplots(len(sizes), 1, figsize=(3 * HEIGHT, HEIGHT / 2 * len(sizes)))\n",
    "fig.suptitle(f\"{file_tag} {target} after smoothing\")\n",
    "\n",
    "for i in range(len(sizes)):\n",
    "    ss_smooth: Series = series.rolling(window=sizes[i]).mean()\n",
    "    plot_line_chart(\n",
    "        ss_smooth.index.to_list(),\n",
    "        ss_smooth.to_list(),\n",
    "        ax=axs[i],\n",
    "        xlabel=ss_smooth.index.name,\n",
    "        ylabel=target,\n",
    "        title=f\"size={sizes[i]}\",\n",
    "    )\n",
    "show()"
   ]
  }
 ],
 "metadata": {},
 "nbformat": 4,
 "nbformat_minor": 5
}
