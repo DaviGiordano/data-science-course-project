{
 "cells": [
  {
   "cell_type": "markdown",
   "id": "364581df",
   "metadata": {},
   "source": [
    "<h1>Time Series Transformation</h1><h2 align=\"center\">Scaling</h2>"
   ]
  },
  {
   "cell_type": "code",
   "execution_count": null,
   "id": "b2487bff",
   "metadata": {},
   "outputs": [],
   "source": [
    "from sklearn.preprocessing import StandardScaler\n",
    "\n",
    "\n",
    "def scale_all_dataframe(data: DataFrame) -> DataFrame:\n",
    "    vars: list[str] = data.columns.to_list()\n",
    "    transf: StandardScaler = StandardScaler().fit(data)\n",
    "    df = DataFrame(transf.transform(data), index=data.index)\n",
    "    df.columns = vars\n",
    "    return df"
   ]
  },
  {
   "cell_type": "code",
   "execution_count": null,
   "id": "ee5e396c",
   "metadata": {},
   "outputs": [],
   "source": [
    "from pandas import read_csv, DataFrame, Series\n",
    "from matplotlib.pyplot import figure, show\n",
    "from dslabs_functions import plot_line_chart, HEIGHT\n",
    "\n",
    "file_tag = \"ASHRAE\"\n",
    "filename = \"data/time_series/ashrae.csv\"\n",
    "index = \"timestamp\"\n",
    "target = \"meter_reading\"\n",
    "data: DataFrame = read_csv(\n",
    "    filename,\n",
    "    index_col=index,\n",
    "    sep=\",\",\n",
    "    decimal=\".\",\n",
    "    parse_dates=True,\n",
    "    infer_datetime_format=True,\n",
    ")\n",
    "series: Series = data[target]\n",
    "\n",
    "figure(figsize=(3 * HEIGHT, HEIGHT / 2))\n",
    "plot_line_chart(\n",
    "    series.index.to_list(),\n",
    "    series.to_list(),\n",
    "    xlabel=series.index.name,\n",
    "    ylabel=target,\n",
    "    title=f\"{file_tag} hourly {target}\",\n",
    ")\n",
    "show()"
   ]
  },
  {
   "cell_type": "code",
   "execution_count": null,
   "id": "b3b2e891",
   "metadata": {},
   "outputs": [],
   "source": [
    "df: DataFrame = scale_all_dataframe(data)\n",
    "\n",
    "ss: Series = df[target]\n",
    "figure(figsize=(3 * HEIGHT, HEIGHT / 2))\n",
    "plot_line_chart(\n",
    "    ss.index.to_list(),\n",
    "    ss.to_list(),\n",
    "    xlabel=ss.index.name,\n",
    "    ylabel=target,\n",
    "    title=f\"{file_tag} {target} after scaling\",\n",
    ")\n",
    "show()"
   ]
  }
 ],
 "metadata": {},
 "nbformat": 4,
 "nbformat_minor": 5
}
