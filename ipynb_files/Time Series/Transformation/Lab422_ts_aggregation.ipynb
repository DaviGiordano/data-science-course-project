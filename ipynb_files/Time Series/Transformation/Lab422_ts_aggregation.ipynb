{
 "cells": [
  {
   "cell_type": "markdown",
   "id": "1eacde92",
   "metadata": {},
   "source": [
    "<h1>Time Series Transformation</h1>"
   ]
  },
  {
   "cell_type": "markdown",
   "id": "0875df66",
   "metadata": {},
   "source": [
    "<h2 align=\"center\">Aggregation</h2>"
   ]
  },
  {
   "cell_type": "code",
   "execution_count": null,
   "id": "5bd5ee09",
   "metadata": {},
   "outputs": [],
   "source": [
    "from pandas import read_csv, DataFrame, Series\n",
    "from matplotlib.pyplot import figure, show\n",
    "from dslabs_functions import plot_line_chart, ts_aggregation_by, HEIGHT\n",
    "\n",
    "file_tag = \"ASHRAE\"\n",
    "target = \"meter_reading\"\n",
    "data: DataFrame = read_csv(\n",
    "    \"data/time_series/ashrae.csv\",\n",
    "    index_col=\"timestamp\",\n",
    "    sep=\",\",\n",
    "    decimal=\".\",\n",
    "    parse_dates=True,\n",
    "    infer_datetime_format=True,\n",
    ")\n",
    "\n",
    "series: Series = data[target]\n",
    "figure(figsize=(3 * HEIGHT, HEIGHT / 2))\n",
    "plot_line_chart(\n",
    "    series.index.to_list(),\n",
    "    series.to_list(),\n",
    "    xlabel=series.index.name,\n",
    "    ylabel=target,\n",
    "    title=f\"{file_tag} hourly {target}\",\n",
    ")\n",
    "figure(figsize=(3 * HEIGHT, HEIGHT / 2))\n",
    "ss_agg: Series = ts_aggregation_by(series, gran_level=\"D\", agg_func=\"sum\")\n",
    "plot_line_chart(\n",
    "    ss_agg.index.to_list(),\n",
    "    ss_agg.to_list(),\n",
    "    xlabel=ss_agg.index.name,\n",
    "    ylabel=target,\n",
    "    title=f\"{file_tag} daily {target}\",\n",
    ")\n",
    "show()"
   ]
  },
  {
   "cell_type": "markdown",
   "id": "320864df",
   "metadata": {},
   "source": [
    "<h3>Multivariate Time Series</h3>"
   ]
  },
  {
   "cell_type": "code",
   "execution_count": null,
   "id": "b9210f6f",
   "metadata": {},
   "outputs": [],
   "source": [
    "from dslabs_functions import plot_ts_multivariate_chart\n",
    "\n",
    "file_tag = \"Consumption\"\n",
    "target = \"Appliances\"\n",
    "data: DataFrame = read_csv(\n",
    "    \"data/time_series/appliances.csv\",\n",
    "    index_col=\"date\",\n",
    "    sep=\",\",\n",
    "    decimal=\".\",\n",
    "    parse_dates=True,\n",
    "    infer_datetime_format=True,\n",
    ")\n",
    "\n",
    "plot_ts_multivariate_chart(data, title=f\"{file_tag} {target}\")\n",
    "\n",
    "agg_df: DataFrame = ts_aggregation_by(data, gran_level=\"W\", agg_func=\"mean\")\n",
    "\n",
    "plot_ts_multivariate_chart(agg_df, title=f\"{file_tag} after hourly aggregation {target}\")\n",
    "show()"
   ]
  }
 ],
 "metadata": {},
 "nbformat": 4,
 "nbformat_minor": 5
}
