{
 "cells": [
  {
   "cell_type": "markdown",
   "id": "d3e5aebb",
   "metadata": {},
   "source": [
    "<h1>Time Series Transformation</h1>"
   ]
  },
  {
   "cell_type": "markdown",
   "id": "06734e8d",
   "metadata": {},
   "source": [
    "<h2 align=\"center\">Fourier Transform</h2>"
   ]
  }
 ],
 "metadata": {},
 "nbformat": 4,
 "nbformat_minor": 5
}
