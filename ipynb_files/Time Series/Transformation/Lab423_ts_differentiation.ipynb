{
 "cells": [
  {
   "cell_type": "markdown",
   "id": "0cd88ea5",
   "metadata": {},
   "source": [
    "<h1>Time Series Transformation</h1>"
   ]
  },
  {
   "cell_type": "markdown",
   "id": "72b76c0c",
   "metadata": {},
   "source": [
    "<h2 align=\"center\">Differentiation</h2>"
   ]
  },
  {
   "cell_type": "code",
   "execution_count": null,
   "id": "a769eeeb",
   "metadata": {},
   "outputs": [],
   "source": [
    "from pandas import read_csv, DataFrame, Series\n",
    "from matplotlib.pyplot import figure, show\n",
    "from dslabs_functions import plot_line_chart, HEIGHT\n",
    "\n",
    "file_tag = \"ASHRAE\"\n",
    "filename = \"data/time_series/ashrae_single.csv\"\n",
    "index = \"timestamp\"\n",
    "target = \"meter_reading\"\n",
    "data: DataFrame = read_csv(\n",
    "    filename,\n",
    "    index_col=index,\n",
    "    sep=\",\",\n",
    "    decimal=\".\",\n",
    "    parse_dates=True,\n",
    "    infer_datetime_format=True,\n",
    ")\n",
    "series: Series = data[target]\n",
    "\n",
    "figure(figsize=(3 * HEIGHT, HEIGHT / 2))\n",
    "plot_line_chart(\n",
    "    series.index.to_list(),\n",
    "    series.to_list(),\n",
    "    xlabel=series.index.name,\n",
    "    ylabel=target,\n",
    "    title=f\"{file_tag} hourly {target}\",\n",
    ")\n",
    "show()"
   ]
  },
  {
   "cell_type": "code",
   "execution_count": null,
   "id": "b67e5092",
   "metadata": {},
   "outputs": [],
   "source": [
    "from dslabs_functions import plot_line_chart\n",
    "\n",
    "ss_diff: Series = series.diff()\n",
    "figure(figsize=(3 * HEIGHT, HEIGHT))\n",
    "plot_line_chart(\n",
    "    ss_diff.index.to_list(),\n",
    "    ss_diff.to_list(),\n",
    "    title=\"Differentiation\",\n",
    "    xlabel=series.index.name,\n",
    "    ylabel=target,\n",
    ")\n",
    "show()"
   ]
  },
  {
   "cell_type": "markdown",
   "id": "b0e9a152",
   "metadata": {},
   "source": [
    "<h3>Multivariate Time Series</h3>"
   ]
  },
  {
   "cell_type": "code",
   "execution_count": null,
   "id": "e1309e57",
   "metadata": {},
   "outputs": [],
   "source": [
    "from dslabs_functions import plot_ts_multivariate_chart\n",
    "\n",
    "file_tag = \"Consumption\"\n",
    "target = \"Appliances\"\n",
    "data: DataFrame = read_csv(\n",
    "    \"data/time_series/appliances.csv\",\n",
    "    index_col=\"date\",\n",
    "    sep=\",\",\n",
    "    decimal=\".\",\n",
    "    parse_dates=True,\n",
    "    infer_datetime_format=True,\n",
    ")\n",
    "\n",
    "plot_ts_multivariate_chart(data, title=f\"{file_tag} {target}\")\n",
    "show()"
   ]
  },
  {
   "cell_type": "code",
   "execution_count": null,
   "id": "c867c4c5",
   "metadata": {},
   "outputs": [],
   "source": [
    "diff_df: DataFrame = data.diff()\n",
    "\n",
    "plot_ts_multivariate_chart(\n",
    "    diff_df, title=f\"{file_tag} {target} - after first differentiation\"\n",
    ")\n",
    "show()"
   ]
  }
 ],
 "metadata": {},
 "nbformat": 4,
 "nbformat_minor": 5
}
