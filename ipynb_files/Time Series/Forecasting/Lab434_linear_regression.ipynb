{
 "cells": [
  {
   "cell_type": "markdown",
   "id": "34b6be36",
   "metadata": {},
   "source": [
    "<h1>Forecasting</h1><h2 align=\"center\">Linear Regression</h2>"
   ]
  },
  {
   "cell_type": "code",
   "execution_count": null,
   "id": "b9c875a2",
   "metadata": {},
   "outputs": [],
   "source": [
    "from numpy import arange\n",
    "from pandas import read_csv, DataFrame, Series\n",
    "from matplotlib.pyplot import savefig\n",
    "from sklearn.linear_model import LinearRegression\n",
    "from dslabs_functions import series_train_test_split, plot_forecasting_eval\n",
    "\n",
    "filename: str = \"data/time_series/ashrae.csv\"\n",
    "file_tag: str = \"ASHRAE\"\n",
    "target: str = \"meter_reading\"\n",
    "timecol: str = \"timestamp\"\n",
    "\n",
    "data: DataFrame = read_csv(filename, index_col=timecol, sep=\",\", decimal=\".\", parse_dates=True)\n",
    "series: Series = data[target]\n",
    "train, test = series_train_test_split(data, trn_pct=0.90)\n",
    "\n",
    "trnX = arange(len(train)).reshape(-1, 1)\n",
    "trnY = train.to_numpy()\n",
    "tstX = arange(len(train), len(data)).reshape(-1, 1)\n",
    "tstY = test.to_numpy()\n",
    "\n",
    "model = LinearRegression()\n",
    "model.fit(trnX, trnY)\n",
    "\n",
    "prd_trn: Series = Series(model.predict(trnX), index=train.index)\n",
    "prd_tst: Series = Series(model.predict(tstX), index=test.index)\n",
    "\n",
    "plot_forecasting_eval(train, test, prd_trn, prd_tst, title=f\"{file_tag} - Linear Regression\")\n",
    "savefig(f\"images/{file_tag}_linear_regression_eval.png\")"
   ]
  },
  {
   "cell_type": "code",
   "execution_count": null,
   "id": "33c6e346",
   "metadata": {},
   "outputs": [],
   "source": [
    "from dslabs_functions import plot_forecasting_series\n",
    "\n",
    "plot_forecasting_series(\n",
    "    train,\n",
    "    test,\n",
    "    prd_tst,\n",
    "    title=f\"{file_tag} - Linear Regression\",\n",
    "    xlabel=timecol,\n",
    "    ylabel=target,\n",
    ")\n",
    "savefig(f\"images/{file_tag}_linear_regression_forecast.png\")"
   ]
  }
 ],
 "metadata": {},
 "nbformat": 4,
 "nbformat_minor": 5
}
