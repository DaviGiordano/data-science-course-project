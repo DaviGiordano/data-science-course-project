{
 "cells": [
  {
   "cell_type": "markdown",
   "id": "b9813637",
   "metadata": {},
   "source": [
    "<h1>Forecasting</h1><h2 align=\"center\">Exponential Smoothing</h2>"
   ]
  },
  {
   "cell_type": "code",
   "execution_count": null,
   "id": "a68275b7",
   "metadata": {},
   "outputs": [],
   "source": [
    "from pandas import read_csv, DataFrame, Series\n",
    "from statsmodels.tsa.holtwinters import SimpleExpSmoothing\n",
    "from dslabs_functions import series_train_test_split, HEIGHT\n",
    "\n",
    "filename: str = \"data/time_series/ashrae.csv\"\n",
    "file_tag: str = \"ASHRAE\"\n",
    "target: str = \"meter_reading\"\n",
    "timecol: str = \"timestamp\"\n",
    "measure: str = \"R2\"\n",
    "\n",
    "data: DataFrame = read_csv(filename, index_col=timecol, sep=\",\", decimal=\".\", parse_dates=True)\n",
    "series: Series = data[target]\n",
    "train, test = series_train_test_split(data, trn_pct=0.90)"
   ]
  },
  {
   "cell_type": "code",
   "execution_count": null,
   "id": "36d00587",
   "metadata": {},
   "outputs": [],
   "source": [
    "from dslabs_functions import FORECAST_MEASURES, DELTA_IMPROVE, plot_line_chart\n",
    "\n",
    "\n",
    "def exponential_smoothing_study(train: Series, test: Series, measure: str = \"R2\"):\n",
    "    alpha_values = [i / 10 for i in range(1, 10)]\n",
    "    flag = measure == \"R2\" or measure == \"MAPE\"\n",
    "    best_model = None\n",
    "    best_params: dict = {\"name\": \"Exponential Smoothing\", \"metric\": measure, \"params\": ()}\n",
    "    best_performance: float = -100000\n",
    "\n",
    "    yvalues = []\n",
    "    for alpha in alpha_values:\n",
    "        tool = SimpleExpSmoothing(train)\n",
    "        model = tool.fit(smoothing_level=alpha, optimized=False)\n",
    "        prd_tst = model.forecast(steps=len(test))\n",
    "\n",
    "        eval: float = FORECAST_MEASURES[measure](test, prd_tst)\n",
    "        # print(w, eval)\n",
    "        if eval > best_performance and abs(eval - best_performance) > DELTA_IMPROVE:\n",
    "            best_performance: float = eval\n",
    "            best_params[\"params\"] = (alpha,)\n",
    "            best_model = model\n",
    "        yvalues.append(eval)\n",
    "\n",
    "    print(f\"Exponential Smoothing best with alpha={best_params['params'][0]:.0f} -> {measure}={best_performance}\")\n",
    "    plot_line_chart(\n",
    "        alpha_values,\n",
    "        yvalues,\n",
    "        title=f\"Exponential Smoothing ({measure})\",\n",
    "        xlabel=\"alpha\",\n",
    "        ylabel=measure,\n",
    "        percentage=flag,\n",
    "    )\n",
    "\n",
    "    return best_model, best_params"
   ]
  },
  {
   "cell_type": "code",
   "execution_count": null,
   "id": "a0ece7bb",
   "metadata": {},
   "outputs": [],
   "source": [
    "from matplotlib.pyplot import savefig\n",
    "\n",
    "best_model, best_params = exponential_smoothing_study(train, test, measure=measure)\n",
    "savefig(f\"images/{file_tag}_exponential_smoothing_{measure}_study.png\")"
   ]
  },
  {
   "cell_type": "code",
   "execution_count": null,
   "id": "1d915e01",
   "metadata": {},
   "outputs": [],
   "source": [
    "from dslabs_functions import plot_forecasting_eval\n",
    "\n",
    "params = best_params[\"params\"]\n",
    "prd_trn = best_model.predict(start=0, end=len(train) - 1)\n",
    "prd_tst = best_model.forecast(steps=len(test))\n",
    "\n",
    "plot_forecasting_eval(train, test, prd_trn, prd_tst, title=f\"{file_tag} - Exponential Smoothing alpha={params[0]}\")\n",
    "savefig(f\"images/{file_tag}_exponential_smoothing_{measure}_eval.png\")"
   ]
  },
  {
   "cell_type": "code",
   "execution_count": null,
   "id": "9e22a088",
   "metadata": {},
   "outputs": [],
   "source": [
    "from dslabs_functions import plot_forecasting_series\n",
    "\n",
    "plot_forecasting_series(\n",
    "    train,\n",
    "    test,\n",
    "    prd_tst,\n",
    "    title=f\"{file_tag} - Exponential Smoothing \",\n",
    "    xlabel=timecol,\n",
    "    ylabel=target,\n",
    ")\n",
    "savefig(f\"images/{file_tag}_exponential_smoothing_{measure}_forecast.png\")"
   ]
  }
 ],
 "metadata": {},
 "nbformat": 4,
 "nbformat_minor": 5
}
