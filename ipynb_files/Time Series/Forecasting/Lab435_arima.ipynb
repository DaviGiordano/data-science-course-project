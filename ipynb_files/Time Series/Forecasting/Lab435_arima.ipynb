{
 "cells": [
  {
   "cell_type": "markdown",
   "id": "1e0f670e",
   "metadata": {},
   "source": [
    "<h1>Forecasting</h1><h2 align=\"center\">ARIMA</h2>"
   ]
  },
  {
   "cell_type": "code",
   "execution_count": null,
   "id": "6d8fdd2c",
   "metadata": {},
   "outputs": [],
   "source": [
    "from pandas import read_csv, DataFrame, Series\n",
    "from statsmodels.tsa.arima.model import ARIMA\n",
    "from dslabs_functions import series_train_test_split, HEIGHT\n",
    "\n",
    "filename: str = \"data/time_series/ashrae.csv\"\n",
    "file_tag: str = \"ASHRAE\"\n",
    "target: str = \"meter_reading\"\n",
    "timecol: str = \"timestamp\"\n",
    "measure: str = \"R2\"\n",
    "\n",
    "data: DataFrame = read_csv(filename, index_col=timecol, sep=\",\", decimal=\".\", parse_dates=True)\n",
    "series: Series = data[target]\n",
    "train, test = series_train_test_split(data, trn_pct=0.90)\n",
    "\n",
    "predictor = ARIMA(train, order=(3, 1, 2))\n",
    "model = predictor.fit()\n",
    "print(model.summary())"
   ]
  },
  {
   "cell_type": "code",
   "execution_count": null,
   "id": "2aa31b07",
   "metadata": {},
   "outputs": [],
   "source": [
    "model.plot_diagnostics(figsize=(2 * HEIGHT, 1.5 * HEIGHT))"
   ]
  },
  {
   "cell_type": "code",
   "execution_count": null,
   "id": "aeeddb81",
   "metadata": {},
   "outputs": [],
   "source": [
    "from matplotlib.pyplot import figure, savefig, subplots\n",
    "from dslabs_functions import FORECAST_MEASURES, DELTA_IMPROVE, plot_multiline_chart\n",
    "\n",
    "\n",
    "def arima_study(train: Series, test: Series, measure: str = \"R2\"):\n",
    "    d_values = (0, 1, 2)\n",
    "    p_params = (1, 2, 3, 5, 7, 10)\n",
    "    q_params = (1, 3, 5, 7)\n",
    "\n",
    "    flag = measure == \"R2\" or measure == \"MAPE\"\n",
    "    best_model = None\n",
    "    best_params: dict = {\"name\": \"ARIMA\", \"metric\": measure, \"params\": ()}\n",
    "    best_performance: float = -100000\n",
    "\n",
    "    fig, axs = subplots(1, len(d_values), figsize=(len(d_values) * HEIGHT, HEIGHT))\n",
    "    for i in range(len(d_values)):\n",
    "        d: int = d_values[i]\n",
    "        values = {}\n",
    "        for q in q_params:\n",
    "            yvalues = []\n",
    "            for p in p_params:\n",
    "                arima = ARIMA(train, order=(p, d, q))\n",
    "                model = arima.fit()\n",
    "                prd_tst = model.forecast(steps=len(test), signal_only=False)\n",
    "                eval: float = FORECAST_MEASURES[measure](test, prd_tst)\n",
    "                # print(f\"ARIMA ({p}, {d}, {q})\", eval)\n",
    "                if eval > best_performance and abs(eval - best_performance) > DELTA_IMPROVE:\n",
    "                    best_performance: float = eval\n",
    "                    best_params[\"params\"] = (p, d, q)\n",
    "                    best_model = model\n",
    "                yvalues.append(eval)\n",
    "            values[q] = yvalues\n",
    "        plot_multiline_chart(\n",
    "            p_params, values, ax=axs[i], title=f\"ARIMA d={d} ({measure})\", xlabel=\"p\", ylabel=measure, percentage=flag\n",
    "        )\n",
    "    print(\n",
    "        f\"ARIMA best results achieved with (p,d,q)=({best_params['params'][0]:.0f}, {best_params['params'][1]:.0f}, {best_params['params'][2]:.0f}) ==> measure={best_performance:.2f}\"\n",
    "    )\n",
    "\n",
    "    return best_model, best_params"
   ]
  },
  {
   "cell_type": "code",
   "execution_count": null,
   "id": "7f12e7cd",
   "metadata": {},
   "outputs": [],
   "source": [
    "from matplotlib.pyplot import savefig\n",
    "\n",
    "best_model, best_params = arima_study(train, test, measure=measure)\n",
    "savefig(f\"images/{file_tag}_arima_{measure}_study.png\")"
   ]
  },
  {
   "cell_type": "code",
   "execution_count": null,
   "id": "63e316a9",
   "metadata": {},
   "outputs": [],
   "source": [
    "from dslabs_functions import plot_forecasting_eval\n",
    "\n",
    "params = best_params[\"params\"]\n",
    "prd_trn = best_model.predict(start=0, end=len(train) - 1)\n",
    "prd_tst = best_model.forecast(steps=len(test))\n",
    "\n",
    "plot_forecasting_eval(\n",
    "    train, test, prd_trn, prd_tst, title=f\"{file_tag} - ARIMA (p={params[0]}, d={params[1]}, q={params[2]})\"\n",
    ")\n",
    "savefig(f\"images/{file_tag}_arima_{measure}_eval.png\")"
   ]
  },
  {
   "cell_type": "code",
   "execution_count": null,
   "id": "70f127fb",
   "metadata": {},
   "outputs": [],
   "source": [
    "from dslabs_functions import plot_forecasting_series\n",
    "\n",
    "plot_forecasting_series(\n",
    "    train,\n",
    "    test,\n",
    "    prd_tst,\n",
    "    title=f\"{file_tag} - ARIMA \",\n",
    "    xlabel=timecol,\n",
    "    ylabel=target,\n",
    ")\n",
    "savefig(f\"images/{file_tag}_arima_{measure}_forecast.png\")"
   ]
  }
 ],
 "metadata": {},
 "nbformat": 4,
 "nbformat_minor": 5
}
