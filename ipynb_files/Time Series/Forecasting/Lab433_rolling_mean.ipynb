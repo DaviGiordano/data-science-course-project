{
 "cells": [
  {
   "cell_type": "markdown",
   "id": "08406d9b",
   "metadata": {},
   "source": [
    "<h1>Forecasting</h1><h2 align=\"center\">Rolling Mean</h2>"
   ]
  },
  {
   "cell_type": "code",
   "execution_count": null,
   "id": "1932081c",
   "metadata": {},
   "outputs": [],
   "source": [
    "from numpy import mean\n",
    "from pandas import Series\n",
    "from sklearn.base import RegressorMixin\n",
    "\n",
    "\n",
    "class RollingMeanRegressor(RegressorMixin):\n",
    "    def __init__(self, win: int = 3):\n",
    "        super().__init__()\n",
    "        self.win_size = win\n",
    "        self.memory: list = []\n",
    "\n",
    "    def fit(self, X: Series):\n",
    "        self.memory = X.iloc[-self.win_size :]\n",
    "        # print(self.memory)\n",
    "        return\n",
    "\n",
    "    def predict(self, X: Series):\n",
    "        estimations = self.memory.tolist()\n",
    "        for i in range(len(X)):\n",
    "            new_value = mean(estimations[len(estimations) - self.win_size - i :])\n",
    "            estimations.append(new_value)\n",
    "        prd_series: Series = Series(estimations[self.win_size :])\n",
    "        prd_series.index = X.index\n",
    "        return prd_series"
   ]
  },
  {
   "cell_type": "code",
   "execution_count": null,
   "id": "141e21b2",
   "metadata": {},
   "outputs": [],
   "source": [
    "from dslabs_functions import FORECAST_MEASURES, DELTA_IMPROVE, plot_line_chart\n",
    "\n",
    "\n",
    "def rolling_mean_study(train: Series, test: Series, measure: str = \"R2\"):\n",
    "    # win_size = (3, 5, 10, 15, 20, 25, 30, 40, 50)\n",
    "    win_size = (12, 24, 48, 96, 192, 384, 768)\n",
    "    flag = measure == \"R2\" or measure == \"MAPE\"\n",
    "    best_model = None\n",
    "    best_params: dict = {\"name\": \"Rolling Mean\", \"metric\": measure, \"params\": ()}\n",
    "    best_performance: float = -100000\n",
    "\n",
    "    yvalues = []\n",
    "    for w in win_size:\n",
    "        pred = RollingMeanRegressor(win=w)\n",
    "        pred.fit(train)\n",
    "        prd_tst = pred.predict(test)\n",
    "\n",
    "        eval: float = FORECAST_MEASURES[measure](test, prd_tst)\n",
    "        # print(w, eval)\n",
    "        if eval > best_performance and abs(eval - best_performance) > DELTA_IMPROVE:\n",
    "            best_performance: float = eval\n",
    "            best_params[\"params\"] = (w,)\n",
    "            best_model = pred\n",
    "        yvalues.append(eval)\n",
    "\n",
    "    print(f\"Rolling Mean best with win={best_params['params'][0]:.0f} -> {measure}={best_performance}\")\n",
    "    plot_line_chart(\n",
    "        win_size, yvalues, title=f\"Rolling Mean ({measure})\", xlabel=\"window size\", ylabel=measure, percentage=flag\n",
    "    )\n",
    "\n",
    "    return best_model, best_params"
   ]
  },
  {
   "cell_type": "code",
   "execution_count": null,
   "id": "c0b6ebbb",
   "metadata": {},
   "outputs": [],
   "source": [
    "from pandas import read_csv, DataFrame\n",
    "from matplotlib.pyplot import figure, savefig\n",
    "from dslabs_functions import series_train_test_split, plot_forecasting_eval, plot_forecasting_series, HEIGHT\n",
    "\n",
    "filename: str = \"data/time_series/ashrae.csv\"\n",
    "file_tag: str = \"ASHRAE\"\n",
    "target: str = \"meter_reading\"\n",
    "timecol: str = \"timestamp\"\n",
    "measure: str = \"R2\"\n",
    "\n",
    "data: DataFrame = read_csv(filename, index_col=timecol, sep=\",\", decimal=\".\", parse_dates=True)\n",
    "series: Series = data[target]\n",
    "\n",
    "train, test = series_train_test_split(data, trn_pct=0.90)\n",
    "\n",
    "fig = figure(figsize=(HEIGHT, HEIGHT))\n",
    "best_model, best_params = rolling_mean_study(train, test)\n",
    "savefig(f\"images/{file_tag}_rollingmean_{measure}_study.png\")"
   ]
  },
  {
   "cell_type": "code",
   "execution_count": null,
   "id": "a1b76a82",
   "metadata": {},
   "outputs": [],
   "source": [
    "params = best_params[\"params\"]\n",
    "prd_trn: Series = best_model.predict(train)\n",
    "prd_tst: Series = best_model.predict(test)\n",
    "\n",
    "plot_forecasting_eval(train, test, prd_trn, prd_tst, title=f\"{file_tag} - Rolling Mean (win={params[0]})\")\n",
    "savefig(f\"images/{file_tag}_rollingmean_{measure}_win{params[0]}_eval.png\")"
   ]
  },
  {
   "cell_type": "code",
   "execution_count": null,
   "id": "56216a00",
   "metadata": {},
   "outputs": [],
   "source": [
    "plot_forecasting_series(\n",
    "    train,\n",
    "    test,\n",
    "    prd_tst,\n",
    "    title=f\"{file_tag} - Rolling Mean (win={params[0]})\",\n",
    "    xlabel=timecol,\n",
    "    ylabel=target,\n",
    ")\n",
    "savefig(f\"images/{file_tag}_rollingmean_{measure}_forecast.png\")"
   ]
  }
 ],
 "metadata": {},
 "nbformat": 4,
 "nbformat_minor": 5
}
