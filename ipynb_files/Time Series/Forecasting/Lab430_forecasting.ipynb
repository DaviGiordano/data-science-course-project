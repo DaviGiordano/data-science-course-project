{
 "cells": [
  {
   "cell_type": "markdown",
   "id": "25187582",
   "metadata": {},
   "source": [
    "<h1>Forecasting</h1><h2 align=\"center\">Training</h2>"
   ]
  },
  {
   "cell_type": "code",
   "execution_count": null,
   "id": "d50863f4",
   "metadata": {},
   "outputs": [],
   "source": [
    "from pandas import Series\n",
    "\n",
    "\n",
    "def series_train_test_split(data: Series, trn_pct: float = 0.90) -> tuple[Series, Series]:\n",
    "    trn_size: int = int(len(data) * trn_pct)\n",
    "    df_cp: Series = data.copy()\n",
    "    train: Series = df_cp.iloc[:trn_size, :]\n",
    "    test: Series = df_cp.iloc[trn_size:]\n",
    "    return train, test"
   ]
  },
  {
   "cell_type": "code",
   "execution_count": null,
   "id": "2de54726",
   "metadata": {},
   "outputs": [],
   "source": [
    "from matplotlib.axes import Axes\n",
    "from matplotlib.pyplot import subplots, savefig\n",
    "from dslabs_functions import PAST_COLOR, FUTURE_COLOR, PRED_PAST_COLOR, PRED_FUTURE_COLOR, HEIGHT\n",
    "\n",
    "\n",
    "def plot_forecasting_series(\n",
    "    trn: Series,\n",
    "    tst: Series,\n",
    "    prd_tst: Series,\n",
    "    title: str = \"\",\n",
    "    xlabel: str = \"time\",\n",
    "    ylabel: str = \"\",\n",
    ") -> list[Axes]:\n",
    "    fig, ax = subplots(1, 1, figsize=(4 * HEIGHT, HEIGHT), squeeze=True)\n",
    "    fig.suptitle(title)\n",
    "    ax.set_xlabel(xlabel)\n",
    "    ax.set_ylabel(ylabel)\n",
    "    ax.plot(trn.index, trn.values, label=\"train\", color=PAST_COLOR)\n",
    "    ax.plot(tst.index, tst.values, label=\"test\", color=FUTURE_COLOR)\n",
    "    ax.plot(prd_tst.index, prd_tst.values, \"--\", label=\"test prediction\", color=PRED_FUTURE_COLOR)\n",
    "    ax.legend(prop={\"size\": 5})\n",
    "\n",
    "    return ax"
   ]
  },
  {
   "cell_type": "code",
   "execution_count": null,
   "id": "a4c0e7f2",
   "metadata": {},
   "outputs": [],
   "source": [
    "from math import sqrt\n",
    "from dslabs_functions import plot_multibar_chart, FORECAST_MEASURES\n",
    "\n",
    "\n",
    "def plot_forecasting_eval(trn: Series, tst: Series, prd_trn: Series, prd_tst: Series, title: str = \"\") -> list[Axes]:\n",
    "    ev1: dict = {\n",
    "        \"RMSE\": [sqrt(FORECAST_MEASURES[\"MSE\"](trn, prd_trn)), sqrt(FORECAST_MEASURES[\"MSE\"](tst, prd_tst))],\n",
    "        \"MAE\": [FORECAST_MEASURES[\"MAE\"](trn, prd_trn), FORECAST_MEASURES[\"MAE\"](tst, prd_tst)],\n",
    "    }\n",
    "    ev2: dict = {\n",
    "        \"MAPE\": [FORECAST_MEASURES[\"MAPE\"](trn, prd_trn), FORECAST_MEASURES[\"MAPE\"](tst, prd_tst)],\n",
    "        \"R2\": [FORECAST_MEASURES[\"R2\"](trn, prd_trn), FORECAST_MEASURES[\"R2\"](tst, prd_tst)],\n",
    "    }\n",
    "\n",
    "    # print(eval1, eval2)\n",
    "    fig, axs = subplots(1, 2, figsize=(1.5 * HEIGHT, 0.75 * HEIGHT), squeeze=True)\n",
    "    fig.suptitle(title)\n",
    "    plot_multibar_chart([\"train\", \"test\"], ev1, ax=axs[0], title=\"Scale-dependent error\", percentage=False)\n",
    "    plot_multibar_chart([\"train\", \"test\"], ev2, ax=axs[1], title=\"Percentage error\", percentage=True)\n",
    "    return axs"
   ]
  },
  {
   "cell_type": "markdown",
   "id": "038f0378",
   "metadata": {},
   "source": [
    "<h2 align=\"center\">Simple Average</h2>"
   ]
  },
  {
   "cell_type": "code",
   "execution_count": null,
   "id": "e4d70a09",
   "metadata": {},
   "outputs": [],
   "source": [
    "from sklearn.base import RegressorMixin\n",
    "\n",
    "\n",
    "class SimpleAvgRegressor(RegressorMixin):\n",
    "    def __init__(self):\n",
    "        super().__init__()\n",
    "        self.mean: float = 0.0\n",
    "        return\n",
    "\n",
    "    def fit(self, X: Series):\n",
    "        self.mean = X.mean()\n",
    "        return\n",
    "\n",
    "    def predict(self, X: Series) -> Series:\n",
    "        prd: list = len(X) * [self.mean]\n",
    "        prd_series: Series = Series(prd)\n",
    "        prd_series.index = X.index\n",
    "        return prd_series"
   ]
  },
  {
   "cell_type": "code",
   "execution_count": null,
   "id": "efa72efa",
   "metadata": {},
   "outputs": [],
   "source": [
    "from pandas import read_csv, DataFrame, Series\n",
    "\n",
    "filename: str = \"data/time_series/ashrae.csv\"\n",
    "file_tag: str = \"ASHRAE\"\n",
    "target: str = \"meter_reading\"\n",
    "timecol: str = \"timestamp\"\n",
    "\n",
    "data: DataFrame = read_csv(filename, index_col=timecol, sep=\",\", decimal=\".\", parse_dates=True)\n",
    "series: Series = data[target]\n",
    "\n",
    "train, test = series_train_test_split(data, trn_pct=0.90)\n",
    "\n",
    "fr_mod = SimpleAvgRegressor()\n",
    "fr_mod.fit(train)\n",
    "prd_trn: Series = fr_mod.predict(train)\n",
    "prd_tst: Series = fr_mod.predict(test)\n",
    "\n",
    "plot_forecasting_eval(train, test, prd_trn, prd_tst, title=f\"{file_tag} - Simple Average\")\n",
    "savefig(f\"images/{file_tag}_simpleAvg_eval.png\")"
   ]
  },
  {
   "cell_type": "code",
   "execution_count": null,
   "id": "86b994c0",
   "metadata": {},
   "outputs": [],
   "source": [
    "plot_forecasting_series(\n",
    "    train,\n",
    "    test,\n",
    "    prd_tst,\n",
    "    title=f\"{file_tag} - Simple Average\",\n",
    "    xlabel=timecol,\n",
    "    ylabel=target,\n",
    ")\n",
    "savefig(f\"images/{file_tag}_simpleAvg_forecast.png\")"
   ]
  }
 ],
 "metadata": {},
 "nbformat": 4,
 "nbformat_minor": 5
}
