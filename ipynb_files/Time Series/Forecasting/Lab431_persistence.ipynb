{
 "cells": [
  {
   "cell_type": "markdown",
   "id": "af7bddd4",
   "metadata": {},
   "source": [
    "<h1>Forecasting</h1><h2 align=\"center\">Persistence Model</h2>"
   ]
  },
  {
   "cell_type": "code",
   "execution_count": null,
   "id": "833aa49d",
   "metadata": {},
   "outputs": [],
   "source": [
    "from pandas import Series\n",
    "from sklearn.base import RegressorMixin\n",
    "\n",
    "\n",
    "class PersistenceOptimistRegressor(RegressorMixin):\n",
    "    def __init__(self):\n",
    "        super().__init__()\n",
    "        self.last: float = 0.0\n",
    "        return\n",
    "\n",
    "    def fit(self, X: Series):\n",
    "        self.last = X.iloc[-1]\n",
    "        # print(self.last)\n",
    "        return\n",
    "\n",
    "    def predict(self, X: Series):\n",
    "        prd: list = X.shift().values.ravel()\n",
    "        prd[0] = self.last\n",
    "        prd_series: Series = Series(prd)\n",
    "        prd_series.index = X.index\n",
    "        return prd_series"
   ]
  },
  {
   "cell_type": "code",
   "execution_count": null,
   "id": "39da7ea2",
   "metadata": {},
   "outputs": [],
   "source": [
    "from pandas import read_csv, DataFrame, Series\n",
    "from matplotlib.pyplot import savefig\n",
    "from dslabs_functions import series_train_test_split, plot_forecasting_eval, plot_forecasting_series\n",
    "\n",
    "filename: str = \"data/time_series/ashrae.csv\"\n",
    "file_tag: str = \"ASHRAE\"\n",
    "target: str = \"meter_reading\"\n",
    "timecol: str = \"timestamp\"\n",
    "\n",
    "data: DataFrame = read_csv(filename, index_col=timecol, sep=\",\", decimal=\".\", parse_dates=True)\n",
    "series: Series = data[target]\n",
    "\n",
    "train, test = series_train_test_split(data, trn_pct=0.90)\n",
    "\n",
    "fr_mod = PersistenceOptimistRegressor()\n",
    "fr_mod.fit(train)\n",
    "prd_trn: Series = fr_mod.predict(train)\n",
    "prd_tst: Series = fr_mod.predict(test)\n",
    "\n",
    "plot_forecasting_eval(train, test, prd_trn, prd_tst, title=f\"{file_tag} - Persistence Optimist\")\n",
    "savefig(f\"images/{file_tag}_persistence_optim_eval.png\")"
   ]
  },
  {
   "cell_type": "code",
   "execution_count": null,
   "id": "99e7f0a5",
   "metadata": {},
   "outputs": [],
   "source": [
    "plot_forecasting_series(\n",
    "    train,\n",
    "    test,\n",
    "    prd_tst,\n",
    "    title=f\"{file_tag} - Persistence Optimist\",\n",
    "    xlabel=timecol,\n",
    "    ylabel=target,\n",
    ")\n",
    "savefig(f\"images/{file_tag}_persistence_optim_forecast.png\")"
   ]
  },
  {
   "cell_type": "code",
   "execution_count": null,
   "id": "cdcb6953",
   "metadata": {},
   "outputs": [],
   "source": [
    "class PersistenceRealistRegressor(RegressorMixin):\n",
    "    def __init__(self):\n",
    "        super().__init__()\n",
    "        self.last = 0\n",
    "        self.estimations = [0]\n",
    "        self.obs_len = 0\n",
    "\n",
    "    def fit(self, X: Series):\n",
    "        for i in range(1, len(X)):\n",
    "            self.estimations.append(X.iloc[i - 1])\n",
    "        self.obs_len = len(self.estimations)\n",
    "        self.last = X.iloc[len(X) - 1]\n",
    "        prd_series: Series = Series(self.estimations)\n",
    "        prd_series.index = X.index\n",
    "        return prd_series\n",
    "\n",
    "    def predict(self, X: Series):\n",
    "        prd: list = len(X) * [self.last]\n",
    "        prd_series: Series = Series(prd)\n",
    "        prd_series.index = X.index\n",
    "        return prd_series"
   ]
  },
  {
   "cell_type": "code",
   "execution_count": null,
   "id": "f56c0160",
   "metadata": {},
   "outputs": [],
   "source": [
    "fr_mod = PersistenceRealistRegressor()\n",
    "fr_mod.fit(train)\n",
    "prd_trn: Series = fr_mod.predict(train)\n",
    "prd_tst: Series = fr_mod.predict(test)\n",
    "\n",
    "plot_forecasting_eval(train, test, prd_trn, prd_tst, title=f\"{file_tag} - Persistence Realist\")\n",
    "savefig(f\"images/{file_tag}_persistence_real_eval.png\")"
   ]
  },
  {
   "cell_type": "code",
   "execution_count": null,
   "id": "ff7992a5",
   "metadata": {},
   "outputs": [],
   "source": [
    "plot_forecasting_series(\n",
    "    train,\n",
    "    test,\n",
    "    prd_tst,\n",
    "    title=f\"{file_tag} - Persistence Realist\",\n",
    "    xlabel=timecol,\n",
    "    ylabel=target,\n",
    ")\n",
    "savefig(f\"images/{file_tag}_persistence_real_forecast.png\")"
   ]
  }
 ],
 "metadata": {},
 "nbformat": 4,
 "nbformat_minor": 5
}
