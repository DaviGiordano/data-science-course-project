{
 "cells": [
  {
   "cell_type": "markdown",
   "id": "8158d0a8",
   "metadata": {},
   "source": [
    "<h1>I/O Tools - Pandas</h1><h2 align=\"center\">Data Writing</h2>"
   ]
  },
  {
   "cell_type": "code",
   "execution_count": null,
   "id": "250c0793",
   "metadata": {},
   "outputs": [],
   "source": [
    "from pandas import read_csv, DataFrame\n",
    "\n",
    "data_algae: DataFrame = read_csv(\n",
    "    \"data/algae.csv\", index_col=\"date\", sep=\",\", decimal=\".\", date_format=\"DD/MM/YYYY\"\n",
    ")"
   ]
  },
  {
   "cell_type": "markdown",
   "id": "a8d3fa6e",
   "metadata": {},
   "source": [
    "<h3>Data Modifiers</h3>"
   ]
  },
  {
   "cell_type": "code",
   "execution_count": null,
   "id": "7135691e",
   "metadata": {},
   "outputs": [],
   "source": [
    "data_algae_num: DataFrame = data_algae.drop(\n",
    "    columns=[\"fluid_velocity\", \"river_depth\", \"season\"], inplace=False\n",
    ")\n",
    "data_algae_num"
   ]
  },
  {
   "cell_type": "code",
   "execution_count": null,
   "id": "1063ef9f",
   "metadata": {},
   "outputs": [],
   "source": [
    "cov: DataFrame = data_algae_num.cov()\n",
    "cov"
   ]
  },
  {
   "cell_type": "markdown",
   "id": "cdb4492c",
   "metadata": {},
   "source": [
    "<h3><code>apply</code> function</h3>"
   ]
  },
  {
   "cell_type": "code",
   "execution_count": null,
   "id": "1f76f3bc",
   "metadata": {},
   "outputs": [],
   "source": [
    "data_algae_num[\"pH_label\"] = data_algae.apply(\n",
    "    lambda x: \"acidic\" if x[\"pH\"] < 7 else \"basic\", axis=1\n",
    ")\n",
    "data_algae_num.head(7)"
   ]
  },
  {
   "cell_type": "markdown",
   "id": "39ae0ac7",
   "metadata": {},
   "source": [
    "<h3><code>concat</code> function</h3>"
   ]
  },
  {
   "cell_type": "code",
   "execution_count": null,
   "id": "9e2023e7",
   "metadata": {},
   "outputs": [],
   "source": [
    "from pandas import concat\n",
    "\n",
    "data_algae_symbolic: DataFrame = concat(\n",
    "    [\n",
    "        data_algae[[\"fluid_velocity\", \"river_depth\", \"season\"]],\n",
    "        data_algae_num[\"pH_label\"],\n",
    "    ],\n",
    "    axis=1,\n",
    ")\n",
    "data_algae_symbolic"
   ]
  },
  {
   "cell_type": "markdown",
   "id": "f2c69910",
   "metadata": {},
   "source": [
    "<h3><code>to_csv</code> function</h3>"
   ]
  },
  {
   "cell_type": "code",
   "execution_count": null,
   "id": "db75f8a9",
   "metadata": {},
   "outputs": [],
   "source": [
    "data_algae_symbolic.to_csv(\"data/algae_labeled.csv\", header=True, index=True)"
   ]
  }
 ],
 "metadata": {},
 "nbformat": 4,
 "nbformat_minor": 5
}
