{
 "cells": [
  {
   "cell_type": "markdown",
   "id": "83b931ec",
   "metadata": {},
   "source": [
    "<h1>I/O Tools - Pandas</h1><h2 align=\"center\">Data Selection</h2>"
   ]
  },
  {
   "cell_type": "code",
   "execution_count": null,
   "id": "158c0314",
   "metadata": {},
   "outputs": [],
   "source": [
    "from pandas import read_csv, DataFrame\n",
    "\n",
    "data: DataFrame = read_csv(\n",
    "    \"data/stroke.csv\", index_col=\"id\", sep=\",\", decimal=\".\", date_format=\"DD/MM/YYYY\"\n",
    ")\n",
    "data"
   ]
  },
  {
   "cell_type": "code",
   "execution_count": null,
   "id": "5e138325",
   "metadata": {},
   "outputs": [],
   "source": [
    "data.head(n=3)"
   ]
  },
  {
   "cell_type": "markdown",
   "id": "36bfd44f",
   "metadata": {},
   "source": [
    "<h3>Data Structure</h3>"
   ]
  },
  {
   "cell_type": "code",
   "execution_count": null,
   "id": "45726583",
   "metadata": {},
   "outputs": [],
   "source": [
    "data.columns"
   ]
  },
  {
   "cell_type": "code",
   "execution_count": null,
   "id": "65944f30",
   "metadata": {},
   "outputs": [],
   "source": [
    "data.index"
   ]
  },
  {
   "cell_type": "code",
   "execution_count": null,
   "id": "8bc879a8",
   "metadata": {},
   "outputs": [],
   "source": [
    "data.values"
   ]
  },
  {
   "cell_type": "code",
   "execution_count": null,
   "id": "3f9c7003",
   "metadata": {},
   "outputs": [],
   "source": [
    "print(\"Nr of records = \", len(data))\n",
    "print(\"Dimensionality = \", data.shape)"
   ]
  },
  {
   "cell_type": "markdown",
   "id": "91fb0c5b",
   "metadata": {},
   "source": [
    "<h3>Data Access</h3>"
   ]
  },
  {
   "cell_type": "code",
   "execution_count": null,
   "id": "493a95de",
   "metadata": {},
   "outputs": [],
   "source": [
    "data[\"age\"]"
   ]
  },
  {
   "cell_type": "code",
   "execution_count": null,
   "id": "86368a69",
   "metadata": {},
   "outputs": [],
   "source": [
    "data.loc[9046]"
   ]
  },
  {
   "cell_type": "code",
   "execution_count": null,
   "id": "4bfb16fb",
   "metadata": {},
   "outputs": [],
   "source": [
    "data.loc[9046, \"age\"]"
   ]
  },
  {
   "cell_type": "code",
   "execution_count": null,
   "id": "7706146b",
   "metadata": {},
   "outputs": [],
   "source": [
    "data[\"age\"].loc[9046]"
   ]
  },
  {
   "cell_type": "code",
   "execution_count": null,
   "id": "6cf1149f",
   "metadata": {},
   "outputs": [],
   "source": [
    "data[\"age\"][9046]"
   ]
  },
  {
   "cell_type": "markdown",
   "id": "6acc70e7",
   "metadata": {},
   "source": [
    "<h3>Data Aggregations</h3>"
   ]
  },
  {
   "cell_type": "code",
   "execution_count": null,
   "id": "1109678d",
   "metadata": {},
   "outputs": [],
   "source": [
    "data_subset: DataFrame = data.sample(frac=0.05, replace=False)\n",
    "data_subset"
   ]
  }
 ],
 "metadata": {},
 "nbformat": 4,
 "nbformat_minor": 5
}
