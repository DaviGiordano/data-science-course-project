{
 "cells": [
  {
   "cell_type": "markdown",
   "id": "2aa56de9",
   "metadata": {},
   "source": [
    "<h1>I/O Tools - Pandas</h1><h2 align=\"center\">Data Reading</h2>"
   ]
  },
  {
   "cell_type": "markdown",
   "id": "3828e6c9",
   "metadata": {},
   "source": [
    "<h3>Series</h3>"
   ]
  },
  {
   "cell_type": "markdown",
   "id": "b6f4d948",
   "metadata": {},
   "source": [
    "<h3>DataFrame</h3>"
   ]
  },
  {
   "cell_type": "markdown",
   "id": "8e5edf56",
   "metadata": {},
   "source": [
    "<h2 align=\"center\">Reading data with <code>read_csv</code></h2>"
   ]
  },
  {
   "cell_type": "code",
   "execution_count": null,
   "id": "86227879",
   "metadata": {},
   "outputs": [],
   "source": [
    "from pandas import read_csv\n",
    "\n",
    "data_cancer = read_csv('data/stroke.csv', index_col='id', sep=',', decimal='.')\n",
    "data_cancer"
   ]
  },
  {
   "cell_type": "code",
   "execution_count": null,
   "id": "e71aab59",
   "metadata": {},
   "outputs": [],
   "source": [
    "data_algae = read_csv('data/algae.csv', index_col='date', sep=',', decimal='.', date_format=\"DD/MM/YYYY\")\n",
    "data_algae"
   ]
  },
  {
   "cell_type": "code",
   "execution_count": null,
   "id": "b3b59282",
   "metadata": {},
   "outputs": [],
   "source": [
    "print(type(data_algae))"
   ]
  },
  {
   "cell_type": "code",
   "execution_count": null,
   "id": "60138af4",
   "metadata": {},
   "outputs": [],
   "source": [
    "data_psngr = read_csv('data/time_series/airline_passengers.csv', index_col='Month', date_format=\"YYYY-MM\")\n",
    "data_psngr"
   ]
  },
  {
   "cell_type": "code",
   "execution_count": null,
   "id": "d26304f3",
   "metadata": {},
   "outputs": [],
   "source": [
    "print(type(data_psngr))"
   ]
  },
  {
   "cell_type": "code",
   "execution_count": null,
   "id": "a5db38c1",
   "metadata": {},
   "outputs": [],
   "source": [
    "from pandas import Series\n",
    "\n",
    "psngr = Series(data=data_psngr['Passengers'], index=data_psngr.index, name='passengers')\n",
    "print(type(psngr))"
   ]
  }
 ],
 "metadata": {},
 "nbformat": 4,
 "nbformat_minor": 5
}
