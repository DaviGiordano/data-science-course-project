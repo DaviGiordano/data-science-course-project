{
 "cells": [
  {
   "cell_type": "code",
   "execution_count": 16,
   "metadata": {},
   "outputs": [],
   "source": [
    "import pandas as pd\n",
    "import ydata_profiling as ydp\n",
    "\n",
    "# filepath = \"../../data/class_credit_score_encoded_filled_frequency.csv\"\n",
    "# filetag = \"Services\"\n",
    "# report_name = 'services_encoded_filled_report'\n",
    "# output_filename = \"services_encoded_filled_report.html\"\n",
    "\n",
    "filepath = \"../../data/class_pos_covid_encoded_filled_frequency.csv\"\n",
    "filetag = \"Health\"\n",
    "report_name = 'health_encoded_filled_report'\n",
    "output_filename = \"health_encoded_filled_report.html\"\n",
    "\n",
    "# filepath = \"../../data/class_pos_covid_encoded_filled.csv\"\n",
    "# filetag = \"services\"\n",
    "\n",
    "df = pd.read_csv(filepath, na_values=\"\")"
   ]
  },
  {
   "cell_type": "code",
   "execution_count": 17,
   "metadata": {},
   "outputs": [],
   "source": [
    "# # Filter clear outlier of credit data filtered\n",
    "# if filetag == \"Services\":\n",
    "#     df = df[df['MonthlyBalance']!=-3.333330e+26]"
   ]
  },
  {
   "cell_type": "code",
   "execution_count": 18,
   "metadata": {},
   "outputs": [],
   "source": [
    "from ydata_profiling import ProfileReport\n",
    "\n",
    "profile = ProfileReport(df, title=report_name, minimal=True)"
   ]
  },
  {
   "cell_type": "code",
   "execution_count": 19,
   "metadata": {},
   "outputs": [
    {
     "data": {
      "application/vnd.jupyter.widget-view+json": {
       "model_id": "4398c46ce9784892b6fc09bf920de560",
       "version_major": 2,
       "version_minor": 0
      },
      "text/plain": [
       "Summarize dataset:   0%|          | 0/5 [00:00<?, ?it/s]"
      ]
     },
     "metadata": {},
     "output_type": "display_data"
    },
    {
     "data": {
      "application/vnd.jupyter.widget-view+json": {
       "model_id": "a0b6bbde280647a4b389e6aa56fa3a42",
       "version_major": 2,
       "version_minor": 0
      },
      "text/plain": [
       "Generate report structure:   0%|          | 0/1 [00:00<?, ?it/s]"
      ]
     },
     "metadata": {},
     "output_type": "display_data"
    },
    {
     "data": {
      "application/vnd.jupyter.widget-view+json": {
       "model_id": "baa502a7e63b4d4fa153570e26b46f1a",
       "version_major": 2,
       "version_minor": 0
      },
      "text/plain": [
       "Render HTML:   0%|          | 0/1 [00:00<?, ?it/s]"
      ]
     },
     "metadata": {},
     "output_type": "display_data"
    },
    {
     "data": {
      "application/vnd.jupyter.widget-view+json": {
       "model_id": "33552c0445004393837b84c65e46fd85",
       "version_major": 2,
       "version_minor": 0
      },
      "text/plain": [
       "Export report to file:   0%|          | 0/1 [00:00<?, ?it/s]"
      ]
     },
     "metadata": {},
     "output_type": "display_data"
    }
   ],
   "source": [
    "profile.to_file(output_filename)"
   ]
  }
 ],
 "metadata": {
  "kernelspec": {
   "display_name": "tecnico_sandbox",
   "language": "python",
   "name": "python3"
  },
  "language_info": {
   "codemirror_mode": {
    "name": "ipython",
    "version": 3
   },
   "file_extension": ".py",
   "mimetype": "text/x-python",
   "name": "python",
   "nbconvert_exporter": "python",
   "pygments_lexer": "ipython3",
   "version": "3.11.5"
  }
 },
 "nbformat": 4,
 "nbformat_minor": 2
}
